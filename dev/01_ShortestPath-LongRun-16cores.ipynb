{
 "cells": [
  {
   "cell_type": "markdown",
   "id": "a2e5a383",
   "metadata": {},
   "source": [
    "# **- Long run example -**\n",
    "# **Shortest Path (Dijkstra's) algorithm applied in OSM driving network of the Helsinki Region**\n",
    "\n",
    "![map1](img/output-map1.png)\n",
    "\n",
    "## **1. Introduction**\n",
    "In this example, we are going to process the *Shortest Path* between every buildings registered in OpenStreetMap (OSM) to the Rautatieasema. This practice gives an overview about the *accessibility* of the population to the Helsinki city center considering the central railway station as the central point. The *Dijkstra's algorithm* can be applied in the OSM driving network using the Python library OSMNX which operates network analysis under the hood using NetworkX. The newest version of OSMNX implements *Core Parallelization* so we can operates the routing in parallel in your available cores.\n",
    "\n",
    "## **2. Datasets**\n",
    "Both datasets are fetched during the workflow from OSM using the OSMNX and they are:\n",
    "\n",
    "- Buildings footprint in the Helsinki Region or Uusimaa Administrative Unit (if you want to escalate the process)\n",
    "- Central railway station - Rautatieasema\n",
    "\n",
    "## **3. Output**\n",
    "The process gives as output a layer with 19 070 routes from every buildings in the Helsinki Region to the Rautatieasema\n",
    "\n",
    "*Find the a map of the results at the beginning of this notebook*\n",
    "\n",
    "## **4. Objective**\n",
    "To compare the advantage of processin time of *Shortest Path* algorithm in the Helsinki Region using parallel computing in a 16-core machine\n",
    "\n",
    "## **5. Resources**\n",
    "\n",
    "CSC Machine-Puhti:\n",
    "\n",
    "- *Partition*: small\n",
    "- *CPU Cores*: 16\n",
    "- *Memory (GB)*: 60\n",
    "- *Local Disk (GB)*: 120\n",
    "\n",
    "## **6. Shortest Path using with 16 Cores**\n",
    "Follow the instructions and run every cell in the supercomputer.\n",
    "\n",
    "### **6.1 Import Python libraries**\n",
    "\n",
    "Be sure that you have installed the OSMNX>=1.6.0 in your environment. Get familiar with this library reading a bit the [OSMNX Documentation](https://osmnx.readthedocs.io/en/stable/user-reference.html)\n"
   ]
  },
  {
   "cell_type": "code",
   "execution_count": null,
   "id": "8978b85d",
   "metadata": {
    "tags": []
   },
   "outputs": [],
   "source": [
    "import os\n",
    "import glob\n",
    "# os.environ['USE_PYGEOS'] = '0'\n",
    "\n",
    "# for (geospatial) analysis\n",
    "import geopandas as gpd\n",
    "from shapely.geometry import MultiLineString\n",
    "from shapely import ops\n",
    "import osmnx as ox\n",
    "\n",
    "import pandas as pd\n",
    "\n",
    "import matplotlib.pyplot as plt\n",
    "\n",
    "# for optimization of computational resources\n",
    "from joblib import Memory\n",
    "import multiprocessing as mp\n",
    "\n",
    "# time processing\n",
    "import time\n",
    "import warnings\n",
    "warnings.filterwarnings('ignore')"
   ]
  },
  {
   "cell_type": "markdown",
   "id": "09541ade",
   "metadata": {},
   "source": [
    "We are going to create a folder `output` where the results are going to be stored"
   ]
  },
  {
   "cell_type": "code",
   "execution_count": null,
   "id": "0320fc2b",
   "metadata": {},
   "outputs": [],
   "source": [
    "# results folder\n",
    "if not os.path.exists('output'):\n",
    "    os.makedirs('output')"
   ]
  },
  {
   "cell_type": "markdown",
   "id": "7c3512ce",
   "metadata": {},
   "source": [
    "### **6.2 Fetch OSM residential buildings**\n",
    "\n",
    "To fetch OSM features you need to define an area like the Helsinki Region and the feature tag like buldings. You can find each one in the next links:\n",
    "\n",
    "- For OSM areas: [*Nominatim*](https://nominatim.openstreetmap.org/ui/search.html?q=%27Capital+region%2C+Mainland+Finland%2C+Finland%27)\n",
    "- For feature tags: [*OSM Wiki*](https://wiki.openstreetmap.org/wiki/Buildings)\n",
    "\n",
    "To fetch the elements from the wanter area we use the osmnx function `features_from_place()`"
   ]
  },
  {
   "cell_type": "code",
   "execution_count": null,
   "id": "eb361196",
   "metadata": {
    "tags": []
   },
   "outputs": [],
   "source": [
    "# ------> Fetch residential buildings\n",
    "\n",
    "place_name = 'Capital region, Mainland Finland, Finland'\n",
    "# place_name = 'Uusimaa, Southern Finland, Mainland Finland, Finland' ---> if you want to escalate \n",
    "\n",
    "# Tags for residential buildings\n",
    "tags = {'building': 'residential'}\n",
    "\n",
    "# run\n",
    "all_buildings = ox.features_from_place(place_name, tags)"
   ]
  },
  {
   "cell_type": "markdown",
   "id": "6a51668e",
   "metadata": {},
   "source": [
    "Once you have fetched the buildings you will see that it contains double index and many columns. We will simplify this to have a more kneat frame of the data simple by deleting the indexes and keeping only the `street name` and the `geometry`."
   ]
  },
  {
   "cell_type": "code",
   "execution_count": null,
   "id": "2d1ac5a9",
   "metadata": {
    "tags": []
   },
   "outputs": [],
   "source": [
    "# ------> Reset index and get street name\n",
    "\n",
    "all_buildings = all_buildings.reset_index(drop=False)\n",
    "all_buildings = all_buildings[['osmid', 'addr:street', 'geometry']]\n",
    "\n",
    "# rename\n",
    "all_buildings = all_buildings.rename(columns={'addr:street':'street_name'})"
   ]
  },
  {
   "cell_type": "markdown",
   "id": "b4a800b3",
   "metadata": {},
   "source": [
    "The geometry of the buildings are represented by **points** and **polygons**. What we need to have is only points because the *Shortest Path* analysis runs between two points (longitude and latitude) so we will add the `centroid` of every geometry to remove the polygons and keep them as centroids."
   ]
  },
  {
   "cell_type": "code",
   "execution_count": null,
   "id": "c4a714bb",
   "metadata": {
    "tags": []
   },
   "outputs": [],
   "source": [
    "# fix geometries\n",
    "all_buildings['geometry'] = [geom.centroid for geom in all_buildings['geometry']]"
   ]
  },
  {
   "cell_type": "markdown",
   "id": "342135af",
   "metadata": {},
   "source": [
    "Here is a quick view of the buildings data."
   ]
  },
  {
   "cell_type": "code",
   "execution_count": null,
   "id": "3036698b",
   "metadata": {
    "tags": []
   },
   "outputs": [],
   "source": [
    "all_buildings.head()"
   ]
  },
  {
   "cell_type": "markdown",
   "id": "5403ef39",
   "metadata": {},
   "source": [
    "The library `geopandas` for spatial analysis contains a function `explore()` that allows you to visualize data in a quick and interactive way. We will add some keywords to modify a bit our visualization"
   ]
  },
  {
   "cell_type": "code",
   "execution_count": null,
   "id": "539ac272",
   "metadata": {
    "tags": []
   },
   "outputs": [],
   "source": [
    "print(f'Total residential buildings: {len(all_buildings)}')\n",
    "all_buildings.explore(color='red', marker_kwds={'radius':0.4})"
   ]
  },
  {
   "cell_type": "markdown",
   "id": "990d46fc",
   "metadata": {},
   "source": [
    "### **6.3 Define Origins as a List**\n",
    "\n",
    "A particularity of the *Shortest Path* function in OSMNX is that you can process A-Origin to A-Destination. Also, you can process pair routes as Lists in a way that `[A-Origin, B-Origin, C-Origin, ...]` to `[A-Destination, B-Destination, C-Destination, ...]`.\n",
    "\n",
    "Based on this feature of the OSMNX library we are going to start organizing a List `all_origins` that contains *geometry* objects of every building we have fetched from OSM in the Helsinki Region."
   ]
  },
  {
   "cell_type": "code",
   "execution_count": null,
   "id": "c90b86bb",
   "metadata": {
    "tags": []
   },
   "outputs": [],
   "source": [
    "# --------> define origin List\n",
    "\n",
    "# list\n",
    "all_origins = []\n",
    "\n",
    "for row in all_buildings.itertuples(index=True):\n",
    "        \n",
    "    # tuple, only geometries\n",
    "    geom = row.geometry\n",
    "    \n",
    "    all_origins.append(geom)"
   ]
  },
  {
   "cell_type": "code",
   "execution_count": null,
   "id": "aa6752dd",
   "metadata": {
    "scrolled": true,
    "tags": []
   },
   "outputs": [],
   "source": [
    "all_origins[:10]"
   ]
  },
  {
   "cell_type": "markdown",
   "id": "a548f34e",
   "metadata": {},
   "source": [
    "### **6.4 Fetching road network**\n",
    "\n",
    "In this step we are going to fetch the *Graph* object containing the edges (roads) and nodes (interections) of the OSM driving network. The function that we will use is the `graph_from_place()` from OSMNX.\n",
    "\n",
    "#### *Note!*\n",
    "\n",
    "We are going to create a function that packs the OSMNX function. The objective is to add it to `cache` memory.\n",
    "\n",
    "The library `joblib` is able to cache processed that can be repetitive and optimize the processing in a workflow. This means, that the first time you fetch the *Graph* from OSM will take some time, but the next times will be **inmediate** because the process is cached."
   ]
  },
  {
   "cell_type": "code",
   "execution_count": null,
   "id": "1ecb0b87",
   "metadata": {
    "tags": []
   },
   "outputs": [],
   "source": [
    "def graph_Helsinki(place_name, network_type='drive'):\n",
    "    '''\n",
    "    Packed function for repetitive running and testing\n",
    "    \n",
    "    - place_name: string, area from OSM \n",
    "    - network_type: string, type of OSM network from drive, bike, walk\n",
    "    \n",
    "        return <Function>\n",
    "    '''\n",
    "    \n",
    "    return ox.graph_from_place(place_name, network_type)"
   ]
  },
  {
   "cell_type": "markdown",
   "id": "a240fc90",
   "metadata": {},
   "source": [
    "Cache the *Graph* fetch"
   ]
  },
  {
   "cell_type": "code",
   "execution_count": null,
   "id": "7ef11802",
   "metadata": {
    "tags": []
   },
   "outputs": [],
   "source": [
    "# cache\n",
    "memory = Memory('cache', verbose=0)\n",
    "graph_Helsinki_cached = memory.cache(graph_Helsinki)"
   ]
  },
  {
   "cell_type": "code",
   "execution_count": null,
   "id": "c0134262",
   "metadata": {
    "tags": []
   },
   "outputs": [],
   "source": [
    "%%time\n",
    "\n",
    "# get the road network as graph object\n",
    "graph = graph_Helsinki_cached(place_name, network_type='drive')"
   ]
  },
  {
   "cell_type": "markdown",
   "id": "63b30400",
   "metadata": {},
   "source": [
    "The OSMNX function can plot the graph using the `plot_graph()` function. We added some modifications to have a clean view."
   ]
  },
  {
   "cell_type": "code",
   "execution_count": null,
   "id": "292c44cc",
   "metadata": {
    "tags": []
   },
   "outputs": [],
   "source": [
    "fig, ax = ox.plot_graph(graph, node_size=0, edge_linewidth=0.2, edge_color='yellow', bgcolor='black')"
   ]
  },
  {
   "cell_type": "markdown",
   "id": "cb9d5e03",
   "metadata": {},
   "source": [
    "### **6.5 Rautatieasema geometry as a Destination**\n",
    "\n",
    "We are going to fetch the location of *Rautatieasema** from OSM stations. What we need is to get the *geometry* object and we will do it as simple as possible.\n",
    "\n",
    "Simply, we create a function that fetch the location and return the *geometry* directly."
   ]
  },
  {
   "cell_type": "code",
   "execution_count": null,
   "id": "e99148a1",
   "metadata": {},
   "outputs": [],
   "source": [
    "def get_Rauratientori_gdf():\n",
    "    '''\n",
    "    Give back Rautatori Point geometry in WGS84 from OSM\n",
    "        Return Point geometry \n",
    "    '''\n",
    "    \n",
    "    # Fetch train stations\n",
    "    place_name = 'Capital region, Mainland Finland, Finland'\n",
    "\n",
    "    # Tags for train station\n",
    "    tags = {'railway': 'station'}\n",
    "\n",
    "    # run\n",
    "    all_stations = ox.features_from_place(place_name, tags)\n",
    "    \n",
    "    # reset index and remove subways\n",
    "    all_stations = all_stations.reset_index(drop=False)\n",
    "    all_stations = all_stations[['name', 'geometry']]\n",
    "    \n",
    "    # get Rautatieasema\n",
    "    Rautatientori = all_stations.loc[all_stations.name=='Helsinki']\n",
    "    \n",
    "    return (Rautatientori.geometry[0])"
   ]
  },
  {
   "cell_type": "code",
   "execution_count": null,
   "id": "78e76db4",
   "metadata": {},
   "outputs": [],
   "source": [
    "# Rautatientori geom as destination\n",
    "\n",
    "destin_geom = get_Rauratientori_gdf()"
   ]
  },
  {
   "cell_type": "markdown",
   "id": "cd890da5",
   "metadata": {},
   "source": [
    "### **6.7 Calculate Shortest Path using Parallelization (16 Core)**"
   ]
  },
  {
   "cell_type": "markdown",
   "id": "a34838da",
   "metadata": {},
   "source": [
    "We are going to run step by step the process of finding the *Shortest Path*. Also, you will see that some steps are parallelized in the available cores.\n",
    "\n",
    "The advantage we have separating the workflow is that we are able to run in parallel and it saves time processing\n",
    "\n",
    "#### **6.7.1 About the Core Parallelization**\n",
    "\n",
    "To start understanding a bit more the parallel computing let's take a look the available resources in our machine using the next command.\n"
   ]
  },
  {
   "cell_type": "code",
   "execution_count": null,
   "id": "8ce1f0e4",
   "metadata": {},
   "outputs": [],
   "source": [
    "!lscpu | egrep 'Model name|Socket|Thread|NUMA|CPU\\(s\\)'"
   ]
  },
  {
   "cell_type": "markdown",
   "id": "40c629ca",
   "metadata": {},
   "source": [
    "We can see the number of Cores available in the **CPU(s)** sections. The partition contains in total 40 Cores but the configuration we specified at the beginning in the machine was 16 Cores. So? Despite 40 cores are available only 16 cores are *reserved* for our analysis.\n",
    "\n",
    "We can monitor our processes and the Core utilization with `htop` library that let us visuallize dinamically how the computer is using the resources. If you are willing to monitor your process you should open in a new command line `$ htop` (be sure you are using your own environment)\n",
    "\n",
    "Let's take a look at the resources utilization after each process.\n",
    "\n",
    "#### **6.7.2 Find the Closest Nodes**\n",
    "\n",
    "The *Shortest Path* is operated in the OSM network between nodes (intersections) so the Origin and Destination location are simply a reference that helps to find the closest node where the routing should start.\n",
    "\n",
    "In the next cells we are going to find the closest nodes using the function `nearest_nodes()` from OSMNX.\n",
    "\n",
    "The destination and only one geometry of Rautatieasema we computeed only 1 nearest node. Additiionally, the process of finding the closest note of every origin was parellized using the library `multiprocess`.\n",
    "\n",
    "We are going to start measuring the processing time using simple time variables at the beginning and end of the cell and we will sum up at the end to compare how the efficiency improves using parallel computation.\n",
    "\n",
    "##### **A1. Destination node**\n"
   ]
  },
  {
   "cell_type": "code",
   "execution_count": null,
   "id": "300915cb",
   "metadata": {},
   "outputs": [],
   "source": [
    "s = time.time()\n",
    "\n",
    "# ---- A1) Closest destination node\n",
    "\n",
    "closest_target_node = ox.nearest_nodes(G=graph, \n",
    "                                       X=destin_geom.x, \n",
    "                                       Y=destin_geom.y)\n",
    "\n",
    "\n",
    "# --------------------------------------------------------\n",
    "d1 = time.time() - s\n",
    "print(f' - Closest destination node: {d1} seconds')"
   ]
  },
  {
   "cell_type": "markdown",
   "id": "3f5c04d6",
   "metadata": {},
   "source": [
    "If you can monitor the processes using `htop` (optional) you will see that we have in total 40 Cores. Some of them are already in use but there are still 16 Cores available for our use. \n",
    "\n",
    "This is how the resource utilization looks if you are running the *Destination node* cell\n",
    "\n",
    "![htop1](img/machine-core-1.png)\n",
    "\n",
    "As we are running a common process the computer is using a single node: the Core #30. "
   ]
  },
  {
   "cell_type": "markdown",
   "id": "37b7aae7",
   "metadata": {},
   "source": [
    "##### **A2. Origins nodes**\n",
    "\n",
    "We have 19 070 origins that we should compute and find the closest node. To optimize the time processing we are going to parallelize for every origin.\n",
    "\n",
    "We will use the Python library `multiprocess` to parallelize the closest node process of the origins. Let's start packing the function `nearest_nodes()` from OSMNX."
   ]
  },
  {
   "cell_type": "code",
   "execution_count": null,
   "id": "c14bebfc",
   "metadata": {},
   "outputs": [],
   "source": [
    "print(f'- Processing total routes: {len(all_origins)}')"
   ]
  },
  {
   "cell_type": "code",
   "execution_count": null,
   "id": "a3b59adb",
   "metadata": {},
   "outputs": [],
   "source": [
    "def get_nearest_node(graph, geom):\n",
    "    '''\n",
    "    Packed function to return a closest node from geometry\n",
    "    \n",
    "    - graph: graph, osm object\n",
    "    - origin_geom: point geom, individual\n",
    "    \n",
    "        return:: int, a node code\n",
    "    '''\n",
    "    \n",
    "    # calculate node\n",
    "    node = ox.nearest_nodes(G=graph, X=geom.x, Y=geom.y) \n",
    "    \n",
    "    return node"
   ]
  },
  {
   "cell_type": "markdown",
   "id": "dbce0d41",
   "metadata": {},
   "source": [
    "The `multiprocess` library is able to send a job to every core and optimize the workflows. The step is simple once we have packed the function we are going to use in this case `get_nearest_node()`\n",
    "\n",
    "##### *Note*\n",
    "As a condition, you should be able to loop over the inputs otherwise the process is not going to be parallelized. We are looping over every origin so we can distribute the process in every core.\n",
    "\n",
    "The variables involved in the parallelization are:\n",
    "\n",
    "- `cpus`: the number of cores available for computation with `cpu_count()`\n",
    "- `args`: the parameters of our packed function, looping over every input\n",
    "- `pool`: a pool opened for every available core where that *asyncronize* the process with `starmap_async()`\n",
    "- `get()`: catch the result of every process in every core and save in a list\n",
    "\n",
    "Then, you to close the pool you `close()` and `join()`."
   ]
  },
  {
   "cell_type": "code",
   "execution_count": null,
   "id": "69ff7054",
   "metadata": {},
   "outputs": [],
   "source": [
    "s = time.time()\n",
    "\n",
    "# ----- A2) Closest origins node\n",
    "\n",
    "# get cores\n",
    "cpus = mp.cpu_count()\n",
    "\n",
    "# ----- args\n",
    "\n",
    "args = ((graph, geom) for geom in all_origins)\n",
    "\n",
    "# ----- pool - with function\n",
    "\n",
    "pool = mp.Pool(cpus)\n",
    "sma = pool.starmap_async(get_nearest_node, args)\n",
    "\n",
    "# ----- get list of results\n",
    "\n",
    "closest_origin_node_list = sma.get()\n",
    "pool.close()\n",
    "pool.join()\n",
    "\n",
    "\n",
    "# ----------------------------------------------------------\n",
    "d2_parallel = time.time() - s\n",
    "print(f' - Closest node of origins [PARALLELIZED]: {d2_parallel/60} minutes')"
   ]
  },
  {
   "cell_type": "markdown",
   "id": "eda75006",
   "metadata": {},
   "source": [
    "If you monitor the process in `htop` you will notice how the resource utilization changed.\n",
    "\n",
    "At first you will see how the Cores start to be used:\n",
    "\n",
    "![htop2](img/machine-core-starting.png)\n",
    "\n",
    "Finally, it will occupy the 16 Cores available: \n",
    "\n",
    "![htop1](img/machine-core-16.png)\n",
    "\n",
    "In total 16 Cores: from Core #20 to Core #35 "
   ]
  },
  {
   "cell_type": "markdown",
   "id": "718b21be",
   "metadata": {},
   "source": [
    "#### **6.7.3 Calculating the Shortest Path**\n",
    "\n",
    "The OSMNX library has implemented the Shortest Path algoritm using the function `shortest_path()`. A particularity of this function is that it create routes based on OD paired-list. For example, if your input is `Origins=[O1, O2, O3]` and `Destinations=[D1, D2, D3]`, the output paths are going to be defined as `[O1 to D1, O2 to D2, O3 to D3]`.\n",
    "\n",
    "Based on this, we need to have two lists with the same length. As we are using only 1 destination, we will multiply by the length of the origins so we have all routes to the same destination.\n",
    "\n",
    "Fortunately, the OSMNX library has implemented in the function a parallelization parameter `cpus`. If you want to use all available cores, in this case 16 cores, you need to add `cpus=None` and it will use all available resources.\n",
    "\n",
    "Follow the next code."
   ]
  },
  {
   "cell_type": "code",
   "execution_count": null,
   "id": "4536ca49",
   "metadata": {},
   "outputs": [],
   "source": [
    "s = time.time()\n",
    "\n",
    "# ---- target nodes should be same length as origins\n",
    "\n",
    "closest_target_node_list = [closest_target_node] * len(closest_origin_node_list)\n",
    "\n",
    "# --------6.7.3) Shortest Path ---------\n",
    "\n",
    "# run\n",
    "routes = ox.shortest_path(graph, \n",
    "                         orig = closest_origin_node_list, \n",
    "                         dest = closest_target_node_list, \n",
    "                         weight = 'length',\n",
    "                         cpus = None) # none takes all cores, default=1\n",
    "\n",
    "\n",
    "# --------------------------------------------------------------------------\n",
    "\n",
    "d3_parallel = time.time() - s\n",
    "print(f' - Shortest Path run [PARALLELIZED]: {d3_parallel/60} minutes')"
   ]
  },
  {
   "cell_type": "markdown",
   "id": "5a069cd1",
   "metadata": {},
   "source": [
    "As we explained, the routes are defined between nodes, and might the case that some nodes are too close there are no existing routes and in those cases the OSMNX return a `None` object.\n",
    "\n",
    "In this line we are going to remove the invalid routes."
   ]
  },
  {
   "cell_type": "code",
   "execution_count": null,
   "id": "47696a88-b532-47e6-ba52-f4078bc799d3",
   "metadata": {
    "tags": []
   },
   "outputs": [],
   "source": [
    "# remove None values from invalid routes\n",
    "all_routes = [value for value in routes if value != None]\n",
    "\n",
    "# check routes length\n",
    "len(all_routes)"
   ]
  },
  {
   "cell_type": "markdown",
   "id": "06b7f842",
   "metadata": {},
   "source": [
    "#### **6.7.4 From nodes to paths**\n",
    "\n",
    "The output of the Shortest Path is a list of node's codes that construct the route we want. Then, we need to extract the line geometries using those nodes.\n",
    "\n",
    "Be aware that we can do this work using the already implemented function in OSMNX `utils_graph.route_to_gdf()`. Particularly, it will give a row for each route segment and it will create quite many routes for the ~19 000 routes we are working on. So, we will create a function `nodes_to_path()` that will transform all nodes to to a single line geometry.\n",
    "\n",
    "Get familiar with the function."
   ]
  },
  {
   "cell_type": "code",
   "execution_count": null,
   "id": "828921fb",
   "metadata": {},
   "outputs": [],
   "source": [
    "\n",
    "def nodes_to_path(graph, route_nodes):\n",
    "    '''\n",
    "    Function to transform node's path to a single line geometry\n",
    "    - graph: osm graph object\n",
    "    - route_nodes: list, nodes of path\n",
    "        return geodataframe with a single row\n",
    "    '''\n",
    "    \n",
    "    # get route from nodes - get only geom and length\n",
    "    shortest_route_parallel = ox.utils_graph.route_to_gdf(graph, route_nodes, weight='length')[['length', 'geometry']].reset_index(drop=True)\n",
    "    \n",
    "    # join the road segments\n",
    "    multi_line = MultiLineString([linegeom for linegeom in shortest_route_parallel.geometry])    \n",
    "    total_length = sum([value for value in shortest_route_parallel['length']])\n",
    "    \n",
    "    merged_line = ops.linemerge(multi_line)\n",
    "    \n",
    "    # new gdf\n",
    "    shortest_route_merged = gpd.GeoDataFrame(columns=['geometry'], geometry='geometry', crs=4326)\n",
    "    shortest_route_merged.at[0, 'geometry'] = merged_line\n",
    "    shortest_route_merged.at[0, 'length'] = total_length\n",
    "        \n",
    "    return shortest_route_merged"
   ]
  },
  {
   "cell_type": "markdown",
   "id": "350baa42",
   "metadata": {},
   "source": [
    "Then, we will use again a `pool` from `multiprocess` to parallelize this path geometry creation. You can monitor also the core usage using the `htop`"
   ]
  },
  {
   "cell_type": "code",
   "execution_count": null,
   "id": "278635b2",
   "metadata": {},
   "outputs": [],
   "source": [
    "s = time.time()\n",
    "\n",
    "# --------- 6.7.4) Get path as geom GDF\n",
    "\n",
    "# get cores\n",
    "cpus = mp.cpu_count()\n",
    "\n",
    "# ----- args\n",
    "\n",
    "args = ((graph, route_nodes) for route_nodes in all_routes)\n",
    "\n",
    "# ----- pool - with function\n",
    "\n",
    "pool = mp.Pool(cpus)\n",
    "sma = pool.starmap_async(nodes_to_path, args)\n",
    "\n",
    "# ----- get list of results - GDF\n",
    "\n",
    "shortest_path_gdf_list = sma.get()\n",
    "pool.close()\n",
    "pool.join()\n",
    "\n",
    "# --------------------------------------------------------------------------\n",
    "\n",
    "d4_parallel = time.time() - s\n",
    "print(f' - Nodes to path: {d4_parallel/60} minutes')"
   ]
  },
  {
   "cell_type": "markdown",
   "id": "84d3f649",
   "metadata": {},
   "source": [
    "The output will be a list of Shortest Paths stored in the variable `shortest_path_gdf_list`. We will gather all results into one geodataframe using `concat()` function."
   ]
  },
  {
   "cell_type": "code",
   "execution_count": null,
   "id": "282b1fb7",
   "metadata": {},
   "outputs": [],
   "source": [
    "# ------  create a single GDF\n",
    "\n",
    "all_routes_gdf = pd.concat(shortest_path_gdf_list)  "
   ]
  },
  {
   "cell_type": "markdown",
   "id": "64171f10",
   "metadata": {},
   "source": [
    "We have got the length of every route fetching the same column from OSM that probably was calculated at global level. We would like to calculate a more accurate distance computed in a Finnish CRS (3387) so we need to operate a new column and add the newly measured distance.\n",
    "\n",
    "We will create a function."
   ]
  },
  {
   "cell_type": "code",
   "execution_count": null,
   "id": "929fd9ef",
   "metadata": {
    "tags": []
   },
   "outputs": [],
   "source": [
    "def compute_fin_distance(shortest_path_gdf):\n",
    "    '''\n",
    "    Compute distance in FinCRS EPSG:3387\n",
    "    \n",
    "    - shortest_path_gdf: geodataframe, with geometry colum\n",
    "        return geodataframe, with additional distance column\n",
    "    \n",
    "    '''\n",
    "    \n",
    "    # project WGS84 to EPSG3387\n",
    "    distances = shortest_path_gdf.to_crs(\"EPSG:3387\").geometry.length\n",
    "    \n",
    "    # add\n",
    "    shortest_path_gdf['distance_fincrs'] = distances\n",
    "    \n",
    "    return shortest_path_gdf"
   ]
  },
  {
   "cell_type": "code",
   "execution_count": null,
   "id": "c480d0cd-6321-4c2a-b056-dbdc02306e6e",
   "metadata": {
    "tags": []
   },
   "outputs": [],
   "source": [
    "# ----- Compute distance EPSG FIN\n",
    "\n",
    "route_distance_gdf = compute_fin_distance(all_routes_gdf)"
   ]
  },
  {
   "cell_type": "markdown",
   "id": "73b13e82",
   "metadata": {},
   "source": [
    "### **6.7.5 Results**\n",
    "\n",
    "We are going to check how our final geodataframe looks like and count how many routes we have calculated in total.\n",
    "\n",
    "We will see that there is a slightly difference with distances calculated in the Finnish CRS. If you are going to use this process to calculate statistics it is recommended to do it using the distances from the local CRS."
   ]
  },
  {
   "cell_type": "code",
   "execution_count": null,
   "id": "0eecb489",
   "metadata": {
    "tags": []
   },
   "outputs": [],
   "source": [
    "print(f' - In total {len(all_routes_gdf)} routes processed using 16 cores\\n')\n",
    "\n",
    "route_distance_gdf.head()"
   ]
  },
  {
   "cell_type": "markdown",
   "id": "c8db8cf8",
   "metadata": {},
   "source": [
    "A quick plot to visualize the routes."
   ]
  },
  {
   "cell_type": "code",
   "execution_count": null,
   "id": "b8358b87",
   "metadata": {
    "tags": []
   },
   "outputs": [],
   "source": [
    "ax = all_routes_gdf.plot(figsize=(10, 8), \n",
    "                         column='distance_fincrs', \n",
    "                         linewidth=0.5, \n",
    "                         cmap='inferno', \n",
    "                         alpha=1\n",
    "                        );\n",
    "\n",
    "ax.axis(False);\n",
    "\n",
    "plt.savefig('output/shortest_path_parallel_16_core.png', dpi=300)"
   ]
  },
  {
   "cell_type": "markdown",
   "id": "940b43c1",
   "metadata": {},
   "source": [
    "Finally, we are going to save in our local disk the routes as GIS format. Geopackage in this case."
   ]
  },
  {
   "cell_type": "code",
   "execution_count": null,
   "id": "7365eb0a",
   "metadata": {
    "tags": []
   },
   "outputs": [],
   "source": [
    "s = time.time()\n",
    "\n",
    "# -------- Save\n",
    "\n",
    "filepath = 'output/shortest_path_parallel_16_core.gpkg'\n",
    "all_routes_gdf.to_file(filepath, index=False)\n",
    "\n",
    "# --------------------------------------------------------------------------\n",
    "\n",
    "dsave1 = time.time() - s\n",
    "print(f' - Saving time: {dsave1} seconds')"
   ]
  },
  {
   "cell_type": "markdown",
   "id": "4946e37f",
   "metadata": {},
   "source": [
    "### **6.8 Calculate Shortest Path with 1 Core**\n",
    "\n",
    "#### **6.8.1 Do I have to configure 1 Core?**\n",
    "\n",
    "No, the process by default is run in a single Core, as it was run in a personal laptop. But, in this section there are not modification in the code so parallelization is not active.\n",
    "\n",
    "#### **6.8.2 Find the Closest Nodes**\n",
    "\n",
    "As we have already calculated the closest node of the destination we will run only the closest node calculation for the origins, but this time using a single core.\n",
    "\n",
    "##### **A2. Origins nodes**"
   ]
  },
  {
   "cell_type": "code",
   "execution_count": null,
   "id": "1d61dea7",
   "metadata": {
    "tags": []
   },
   "outputs": [],
   "source": [
    "s = time.time()\n",
    "\n",
    "# ----- A2-non) Closest origins node\n",
    "\n",
    "closest_origin_node_list = [ox.nearest_nodes(G=graph, \n",
    "                                           X=origin_geom.x, \n",
    "                                           Y=origin_geom.y) \n",
    "                               for origin_geom in all_origins]\n",
    "    \n",
    "# ----------------------------------------------------------\n",
    "\n",
    "d2_non = time.time() - s\n",
    "\n",
    "print(f' - Closest node of origins [NON-PARALLELIZED]: {d2_non/60} minutes')"
   ]
  },
  {
   "cell_type": "markdown",
   "id": "d9d453f5",
   "metadata": {},
   "source": [
    "#### **6.8.3 Calculating the Shortest Path (1 Core)**\n",
    "\n",
    "Then we will run the shortest path using a single core. "
   ]
  },
  {
   "cell_type": "code",
   "execution_count": null,
   "id": "40b4b03c",
   "metadata": {
    "tags": []
   },
   "outputs": [],
   "source": [
    "s = time.time()\n",
    "\n",
    "# ---- target nodes should be same length as origins\n",
    "\n",
    "closest_target_node_list = [closest_target_node] * len(closest_origin_node_list)\n",
    "\n",
    "# --------6.8.3) Shortest Path ---------\n",
    "\n",
    "# run\n",
    "routes = ox.shortest_path(graph, \n",
    "                         orig = closest_origin_node_list, \n",
    "                         dest = closest_target_node_list, \n",
    "                         weight = 'length',\n",
    "                         cpus = 1)\n",
    "\n",
    "\n",
    "# --------------------------------------------------------------------------\n",
    "\n",
    "d3_non = time.time() - s\n",
    "print(f' - Shortest Path run [NON-PARALLELIZED]: {d3_non/60} minutes')"
   ]
  },
  {
   "cell_type": "markdown",
   "id": "13bfc49b",
   "metadata": {},
   "source": [
    "We will remove non valid routes and check how many are valid."
   ]
  },
  {
   "cell_type": "code",
   "execution_count": null,
   "id": "d50a98ba-0008-4352-b50e-bc0cf9491107",
   "metadata": {
    "tags": []
   },
   "outputs": [],
   "source": [
    "# remove None values from invalid routes\n",
    "all_routes = [value for value in routes if value != None]\n",
    "\n",
    "# check routes length\n",
    "len(all_routes)"
   ]
  },
  {
   "cell_type": "markdown",
   "id": "cf8299d7",
   "metadata": {},
   "source": [
    "#### **6.8.4 Nodes to path**\n",
    "\n",
    "The nodes to path are computed in this part with a single core.\n",
    "\n",
    "Beforehand, the results were gathered in a list using `pool` from parallelization. But now, we are going to loop over each path (as nodes) and use the function previously created that return a single line geometry. On the fly, we will calculate the distance using the Finnish CRS.\n",
    "\n",
    "Finally, we will have a single geodataframe with all routes."
   ]
  },
  {
   "cell_type": "code",
   "execution_count": null,
   "id": "387fd9e4",
   "metadata": {
    "tags": []
   },
   "outputs": [],
   "source": [
    "s = time.time()\n",
    "\n",
    "# --------- 7.4) Get path as geom GDF\n",
    "\n",
    "all_routes_gdf = gpd.GeoDataFrame()\n",
    "\n",
    "for each_route in routes:\n",
    "        \n",
    "    # ----- create nodes path to GDF\n",
    "    \n",
    "    route_gdf = nodes_to_path(graph, each_route)\n",
    "    \n",
    "    # ----- Compute distance\n",
    "\n",
    "    route_distance_gdf = compute_fin_distance(route_gdf)\n",
    "    \n",
    "    all_routes_gdf = pd.concat([all_routes_gdf, route_distance_gdf])\n",
    "    \n",
    "# --------------------------------------------------------------------------\n",
    "\n",
    "d4_non = time.time() - s\n",
    "print(f' - Nodes to path and distances: {d4_non/60} minutes')"
   ]
  },
  {
   "cell_type": "markdown",
   "id": "b248b590",
   "metadata": {},
   "source": [
    "#### **6.8.5 Results (1 Core)**\n",
    "\n",
    "Let's take a look at the results."
   ]
  },
  {
   "cell_type": "code",
   "execution_count": null,
   "id": "95b8f65b",
   "metadata": {
    "tags": []
   },
   "outputs": [],
   "source": [
    "print(f' - In total {len(all_routes_gdf)} routes processed with 1 core\\n')\n",
    "\n",
    "all_routes_gdf.head()"
   ]
  },
  {
   "cell_type": "markdown",
   "id": "11778d17",
   "metadata": {},
   "source": [
    "Let's do a quick map"
   ]
  },
  {
   "cell_type": "code",
   "execution_count": null,
   "id": "fbec307b",
   "metadata": {
    "tags": []
   },
   "outputs": [],
   "source": [
    "ax = all_routes_gdf.plot(figsize=(10, 8), \n",
    "                         column='distance_fincrs', \n",
    "                         linewidth=0.5, \n",
    "                         cmap='turbo', \n",
    "                         alpha=1\n",
    "                           );\n",
    "\n",
    "ax.axis(False);\n",
    "\n",
    "plt.savefig('output/shortest_path_parallel_1_core.png', dpi=300)"
   ]
  },
  {
   "cell_type": "markdown",
   "id": "dbe361c9",
   "metadata": {},
   "source": [
    "We will save the results."
   ]
  },
  {
   "cell_type": "code",
   "execution_count": null,
   "id": "a0d24dfb",
   "metadata": {
    "tags": []
   },
   "outputs": [],
   "source": [
    "s = time.time()\n",
    "\n",
    "# -------- Save\n",
    "\n",
    "filepath = 'output/shortest_path_parallel_1_core.gpkg'\n",
    "all_routes_gdf.to_file(filepath, index=False)\n",
    "\n",
    "# --------------------------------------------------------------------------\n",
    "\n",
    "dsave2 = time.time() - s\n",
    "print(f' - Saving time: {dsave2} seconds')"
   ]
  },
  {
   "cell_type": "markdown",
   "id": "c8c92908",
   "metadata": {},
   "source": [
    "## **7. SUMMARY**\n",
    "\n",
    "We are going to print the sum of all processing times and compare how benefitial was to use the parallelization. Be aware that:\n",
    "\n",
    "- `d1` corresponds to the closest node of destination ()\n",
    "- `d2` corresponds to the closest node of origins (buildings)\n",
    "- `d3` corresponds to the shortest path calculation\n",
    "- `d4` corresponds to the transformation from nodes to line geometry\n",
    "\n",
    "Then, saving times are separated. Both should be the same time."
   ]
  },
  {
   "cell_type": "code",
   "execution_count": null,
   "id": "a0341b3b",
   "metadata": {
    "tags": []
   },
   "outputs": [],
   "source": [
    "print(f'--------------------- PROCESSING TIME --------------------\\n')\n",
    "\n",
    "total_parallel = d1 + d2_parallel + d3_parallel + d4_parallel\n",
    "\n",
    "print(f'----- Total parallelization time : {round(total_parallel/60, 2)} mins -> 16 Core')\n",
    "\n",
    "total_non = d1 + d2_non + d3_non + d4_non\n",
    "\n",
    "print(f'----- Total time : {round(total_non/60, 2)} mins -> 1 Core')\n",
    "\n",
    "print(f'--------------------- SAVING TIME --------------------\\n')\n",
    "\n",
    "print(f'-- Saving time parallel result: {round(dsave1, 2)} seconds')\n",
    "print(f'-- Saving time 1 core result: {round(dsave2, 2)} seconds')"
   ]
  }
 ],
 "metadata": {
  "kernelspec": {
   "display_name": "Python 3 (ipykernel)",
   "language": "python",
   "name": "python3"
  },
  "language_info": {
   "codemirror_mode": {
    "name": "ipython",
    "version": 3
   },
   "file_extension": ".py",
   "mimetype": "text/x-python",
   "name": "python",
   "nbconvert_exporter": "python",
   "pygments_lexer": "ipython3",
   "version": "3.10.12"
  }
 },
 "nbformat": 4,
 "nbformat_minor": 5
}
