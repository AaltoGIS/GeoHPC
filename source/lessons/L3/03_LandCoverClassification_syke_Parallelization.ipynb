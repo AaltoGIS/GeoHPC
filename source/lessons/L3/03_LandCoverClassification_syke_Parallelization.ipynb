{
 "cells": [
  {
   "cell_type": "markdown",
   "id": "e27d5b7c-8b99-478e-bdce-7dc3761f24cf",
   "metadata": {
    "tags": []
   },
   "source": [
    "# GEOPORTTI - Syke's HPC exercise\n",
    "\n",
    "\n",
    "## Goal \n",
    "\n",
    " \n",
    "\n",
    "In this exercise, you will perform a land cover classification for some Finnish region using [Lucas 2018](https://ckan.ymparisto.fi/en/dataset/lucas2018) inventory dataset and geospatial data from the [GeoCubes Finland](https://vm0160.kaj.pouta.csc.fi/geocubes/) service. After the classification, you will analyse the accuracy of the result and the relevance of the data you selected to use in this task. \n",
    "\n",
    "You will learn:\n",
    " * How to conduct a generalized land cover classification using the scikit-learn Python library\n",
    " * How to use and download data from the GeoCubes service\n",
    " * How to use Dask framework in CSC's Puhti supercomputer\n",
    " * How to interpret the classification results and improve them\n",
    "\n",
    "## Background\n",
    "\n",
    "This type of land cover interpretation provides the background for various environmental monitoring applications, such as the calculation of environmental indicators (e.g. \"land degradation\"), biotope inventories, nutrient loss modelling, assessment of the consequences of legislation or land use planning.  \n",
    "\n",
    "The Finnish Environment Institute has long since the 1990s recognised the importance of such up-to-date spatial data, without forgetting the changes. SYKE has participated in the [European land cover monitoring](https://land.copernicus.eu/) since the early 2000s within the Corine programme, which has produced Corine land cover interpretations and modifications for the years 2000, 2006, 2012 and 2018. In addition, more local interpretations have been made with various partners, such as the remote sensing of Northern Lapland carried out for Metsähallitus in recent years. There are also various projects, such as FEO and Geoportti, which aim to improve the availability of environmental spatial information. \n",
    "\n",
    "More infromation: \n",
    "\n",
    "https://www.syke.fi/fi-FI/Avoin_tieto/Seurantatiedot/Maanpeitteen_seuranta \n",
    "\n",
    " \n",
    "## Input-data: \n",
    "\n",
    "1. **In-situ** \n",
    "\n",
    "    In this exercise the In-situ dataset is the Lucas 2018 land inventory dataset from Finland. LUCAS (Land USe and Coverage Area frame Survey) is a land inventory organised by EUROSTAT, the statistical office of the European Union, which collects data on land cover and land use from the survey plots. There are about 330,000 plots throughout the EU, of which about 17,000 are in Finland. Part of the data collection is done by field visits and part by interpreting aerial photographs.  \n",
    "\n",
    "\n",
    "\n",
    "    The link https://a3s.fi/geoportti_training/lucas2018.tar provides Lucas 2018 scores for the whole country (lucas_2018.shp) and by province, with the main land cover group found in the column \"lc_class\": \n",
    "\n",
    "    1 = Build up areas \n",
    "\n",
    "    2 = Agriculture \n",
    "\n",
    "    3 = Forests\n",
    "\n",
    "    4 = Sparsely vegetated forests \n",
    "\n",
    "    5 = Grasslands \n",
    "\n",
    "    6 = Unvegetated soil \n",
    "\n",
    "    7 = Water \n",
    "\n",
    "    8 = Wetlands\n",
    "\n",
    "\n",
    "    A more detailed land cover class can be found in column LC1 (for more detailed information on land cover and use classes see https://ec.europa.eu/eurostat/documents/205002/8072634/LUCAS2018-C3-Classification.pdf if needed. \n",
    "\n",
    "\n",
    "\n",
    " 2. **Features**\n",
    "\n",
    " \n",
    "    In this exercise, you will use raster datasets found in the [GeoCubes Finland](https://vm0160.kaj.pouta.csc.fi/geocubes/) -service as classification features.\n",
    "\n",
    "    So, select a province and download the data of your choice, delimited by that province, using a pixel size of 10 m\n",
    "\n",
    "\n",
    " \n",
    "\n",
    "\n",
    "\n",
    " \n",
    "\n",
    " "
   ]
  },
  {
   "cell_type": "markdown",
   "id": "2542416e-fe48-40bc-b4de-f1a1229e919e",
   "metadata": {},
   "source": [
    "### Import neccesary libraries"
   ]
  },
  {
   "cell_type": "code",
   "execution_count": 3,
   "id": "076c6ef0-a002-4638-bfca-2de8c747c079",
   "metadata": {
    "tags": []
   },
   "outputs": [],
   "source": [
    "import rasterio\n",
    "import rioxarray as rxr\n",
    "import numpy as np\n",
    "import xarray as xr\n",
    "import geopandas as gpd\n",
    "import pandas as pd\n",
    "from rasterio.merge import merge\n",
    "from rasterio.plot import show\n",
    "import glob\n",
    "import os,sys\n",
    "import urllib\n",
    "import multiprocessing\n",
    "from dask import delayed\n",
    "from dask import compute\n",
    "from dask.diagnostics import ProgressBar\n",
    "from dask.distributed import Client\n",
    "import dask\n",
    "import dask.array as da\n",
    "from sklearn.preprocessing import LabelEncoder\n",
    "from pprint import pprint\n",
    "from tqdm.notebook import tqdm\n",
    "import itertools\n",
    "sys.path.append('/projappl/project_2000630/bin/tpot')\n",
    "sys.path.append(os.path.expanduser('/projappl/project_2000630/geoportti/maanpeitetulkinnan_opetuspaketti/point-eo/src'))\n",
    "import tpot\n",
    "import argparse\n",
    "import pickle\n",
    "import point_eo.scripts.sample_xarray as sample_xarray # NOTE: this is my modification to original point-eo repo\n",
    "import point_eo.scripts.analysis as analysis\n",
    "import point_eo.scripts.tpot_train as tpot_train\n",
    "import point_eo.scripts.predict as predict\n",
    "import point_eo.scripts.postprocess_prediction as postprocess_prediction\n",
    "\n",
    "# outputs are created here\n",
    "basepth = '/scratch/project_2000630/geoportti/maanpeitetulkinnan_opetuspaketti/point-eo-data'"
   ]
  },
  {
   "cell_type": "code",
   "execution_count": 1,
   "id": "7952b0be-6b72-4a02-94e9-acb129b91368",
   "metadata": {
    "tags": []
   },
   "outputs": [
    {
     "name": "stdout",
     "output_type": "stream",
     "text": [
      "------------------------------------------\n",
      "Geoconda 3.10.9, GIS libraries for Python\n",
      "https://docs.csc.fi/apps/geoconda\n",
      "------------------------------------------\n"
     ]
    }
   ],
   "source": [
    "# load geoconda module from Puhti's module sets\n",
    "!module load geoconda"
   ]
  },
  {
   "cell_type": "markdown",
   "id": "9d4d141f-c181-4153-abb5-3358ddc1fed2",
   "metadata": {},
   "source": [
    "## Create a Dask cluster and client"
   ]
  },
  {
   "cell_type": "code",
   "execution_count": 4,
   "id": "2ef501ec-aad9-4d5c-9f09-85ee0aeb9b68",
   "metadata": {
    "tags": []
   },
   "outputs": [
    {
     "data": {
      "text/html": [
       "<div>\n",
       "    <div style=\"width: 24px; height: 24px; background-color: #e1e1e1; border: 3px solid #9D9D9D; border-radius: 5px; position: absolute;\"> </div>\n",
       "    <div style=\"margin-left: 48px;\">\n",
       "        <h3 style=\"margin-bottom: 0px;\">Client</h3>\n",
       "        <p style=\"color: #9D9D9D; margin-bottom: 0px;\">Client-c23785e3-c50c-11ee-ab0c-ac1f6bb2989c</p>\n",
       "        <table style=\"width: 100%; text-align: left;\">\n",
       "\n",
       "        <tr>\n",
       "        \n",
       "            <td style=\"text-align: left;\"><strong>Connection method:</strong> Direct</td>\n",
       "            <td style=\"text-align: left;\"></td>\n",
       "        \n",
       "        </tr>\n",
       "\n",
       "        \n",
       "            <tr>\n",
       "                <td style=\"text-align: left;\">\n",
       "                    <strong>Dashboard: </strong> <a href=\"http://127.0.0.1:8787/status\" target=\"_blank\">http://127.0.0.1:8787/status</a>\n",
       "                </td>\n",
       "                <td style=\"text-align: left;\"></td>\n",
       "            </tr>\n",
       "        \n",
       "\n",
       "        </table>\n",
       "\n",
       "        \n",
       "            <button style=\"margin-bottom: 12px;\" data-commandlinker-command=\"dask:populate-and-launch-layout\" data-commandlinker-args='{\"url\": \"http://127.0.0.1:8787/status\" }'>\n",
       "                Launch dashboard in JupyterLab\n",
       "            </button>\n",
       "        \n",
       "\n",
       "        \n",
       "            <details>\n",
       "            <summary style=\"margin-bottom: 20px;\"><h3 style=\"display: inline;\">Scheduler Info</h3></summary>\n",
       "            <div style=\"\">\n",
       "    <div>\n",
       "        <div style=\"width: 24px; height: 24px; background-color: #FFF7E5; border: 3px solid #FF6132; border-radius: 5px; position: absolute;\"> </div>\n",
       "        <div style=\"margin-left: 48px;\">\n",
       "            <h3 style=\"margin-bottom: 0px;\">Scheduler</h3>\n",
       "            <p style=\"color: #9D9D9D; margin-bottom: 0px;\">Scheduler-d40189a9-4345-4fea-9782-6f251c73ff0c</p>\n",
       "            <table style=\"width: 100%; text-align: left;\">\n",
       "                <tr>\n",
       "                    <td style=\"text-align: left;\">\n",
       "                        <strong>Comm:</strong> tcp://127.0.0.1:45993\n",
       "                    </td>\n",
       "                    <td style=\"text-align: left;\">\n",
       "                        <strong>Workers:</strong> 4\n",
       "                    </td>\n",
       "                </tr>\n",
       "                <tr>\n",
       "                    <td style=\"text-align: left;\">\n",
       "                        <strong>Dashboard:</strong> <a href=\"http://127.0.0.1:8787/status\" target=\"_blank\">http://127.0.0.1:8787/status</a>\n",
       "                    </td>\n",
       "                    <td style=\"text-align: left;\">\n",
       "                        <strong>Total threads:</strong> 4\n",
       "                    </td>\n",
       "                </tr>\n",
       "                <tr>\n",
       "                    <td style=\"text-align: left;\">\n",
       "                        <strong>Started:</strong> 1 minute ago\n",
       "                    </td>\n",
       "                    <td style=\"text-align: left;\">\n",
       "                        <strong>Total memory:</strong> 30.00 GiB\n",
       "                    </td>\n",
       "                </tr>\n",
       "            </table>\n",
       "        </div>\n",
       "    </div>\n",
       "\n",
       "    <details style=\"margin-left: 48px;\">\n",
       "        <summary style=\"margin-bottom: 20px;\">\n",
       "            <h3 style=\"display: inline;\">Workers</h3>\n",
       "        </summary>\n",
       "\n",
       "        \n",
       "        <div style=\"margin-bottom: 20px;\">\n",
       "            <div style=\"width: 24px; height: 24px; background-color: #DBF5FF; border: 3px solid #4CC9FF; border-radius: 5px; position: absolute;\"> </div>\n",
       "            <div style=\"margin-left: 48px;\">\n",
       "            <details>\n",
       "                <summary>\n",
       "                    <h4 style=\"margin-bottom: 0px; display: inline;\">Worker: 0</h4>\n",
       "                </summary>\n",
       "                <table style=\"width: 100%; text-align: left;\">\n",
       "                    <tr>\n",
       "                        <td style=\"text-align: left;\">\n",
       "                            <strong>Comm: </strong> tcp://127.0.0.1:46465\n",
       "                        </td>\n",
       "                        <td style=\"text-align: left;\">\n",
       "                            <strong>Total threads: </strong> 1\n",
       "                        </td>\n",
       "                    </tr>\n",
       "                    <tr>\n",
       "                        <td style=\"text-align: left;\">\n",
       "                            <strong>Dashboard: </strong> <a href=\"http://127.0.0.1:45317/status\" target=\"_blank\">http://127.0.0.1:45317/status</a>\n",
       "                        </td>\n",
       "                        <td style=\"text-align: left;\">\n",
       "                            <strong>Memory: </strong> 7.50 GiB\n",
       "                        </td>\n",
       "                    </tr>\n",
       "                    <tr>\n",
       "                        <td style=\"text-align: left;\">\n",
       "                            <strong>Nanny: </strong> tcp://127.0.0.1:34231\n",
       "                        </td>\n",
       "                        <td style=\"text-align: left;\"></td>\n",
       "                    </tr>\n",
       "                    <tr>\n",
       "                        <td colspan=\"2\" style=\"text-align: left;\">\n",
       "                            <strong>Local directory: </strong> /run/nvme/job_20329334/tmp/dask-worker-space/worker-oulrxhxw\n",
       "                        </td>\n",
       "                    </tr>\n",
       "\n",
       "                    \n",
       "\n",
       "                    \n",
       "                    <tr>\n",
       "                        <td style=\"text-align: left;\">\n",
       "                            <strong>Tasks executing: </strong> \n",
       "                        </td>\n",
       "                        <td style=\"text-align: left;\">\n",
       "                            <strong>Tasks in memory: </strong> \n",
       "                        </td>\n",
       "                    </tr>\n",
       "                    <tr>\n",
       "                        <td style=\"text-align: left;\">\n",
       "                            <strong>Tasks ready: </strong> \n",
       "                        </td>\n",
       "                        <td style=\"text-align: left;\">\n",
       "                            <strong>Tasks in flight: </strong>\n",
       "                        </td>\n",
       "                    </tr>\n",
       "                    <tr>\n",
       "                        <td style=\"text-align: left;\">\n",
       "                            <strong>CPU usage:</strong> 2.0%\n",
       "                        </td>\n",
       "                        <td style=\"text-align: left;\">\n",
       "                            <strong>Last seen: </strong> Just now\n",
       "                        </td>\n",
       "                    </tr>\n",
       "                    <tr>\n",
       "                        <td style=\"text-align: left;\">\n",
       "                            <strong>Memory usage: </strong> 153.47 MiB\n",
       "                        </td>\n",
       "                        <td style=\"text-align: left;\">\n",
       "                            <strong>Spilled bytes: </strong> 0 B\n",
       "                        </td>\n",
       "                    </tr>\n",
       "                    <tr>\n",
       "                        <td style=\"text-align: left;\">\n",
       "                            <strong>Read bytes: </strong> 40.71 kiB\n",
       "                        </td>\n",
       "                        <td style=\"text-align: left;\">\n",
       "                            <strong>Write bytes: </strong> 28.87 kiB\n",
       "                        </td>\n",
       "                    </tr>\n",
       "                    \n",
       "\n",
       "                </table>\n",
       "            </details>\n",
       "            </div>\n",
       "        </div>\n",
       "        \n",
       "        <div style=\"margin-bottom: 20px;\">\n",
       "            <div style=\"width: 24px; height: 24px; background-color: #DBF5FF; border: 3px solid #4CC9FF; border-radius: 5px; position: absolute;\"> </div>\n",
       "            <div style=\"margin-left: 48px;\">\n",
       "            <details>\n",
       "                <summary>\n",
       "                    <h4 style=\"margin-bottom: 0px; display: inline;\">Worker: 1</h4>\n",
       "                </summary>\n",
       "                <table style=\"width: 100%; text-align: left;\">\n",
       "                    <tr>\n",
       "                        <td style=\"text-align: left;\">\n",
       "                            <strong>Comm: </strong> tcp://127.0.0.1:33379\n",
       "                        </td>\n",
       "                        <td style=\"text-align: left;\">\n",
       "                            <strong>Total threads: </strong> 1\n",
       "                        </td>\n",
       "                    </tr>\n",
       "                    <tr>\n",
       "                        <td style=\"text-align: left;\">\n",
       "                            <strong>Dashboard: </strong> <a href=\"http://127.0.0.1:40679/status\" target=\"_blank\">http://127.0.0.1:40679/status</a>\n",
       "                        </td>\n",
       "                        <td style=\"text-align: left;\">\n",
       "                            <strong>Memory: </strong> 7.50 GiB\n",
       "                        </td>\n",
       "                    </tr>\n",
       "                    <tr>\n",
       "                        <td style=\"text-align: left;\">\n",
       "                            <strong>Nanny: </strong> tcp://127.0.0.1:42579\n",
       "                        </td>\n",
       "                        <td style=\"text-align: left;\"></td>\n",
       "                    </tr>\n",
       "                    <tr>\n",
       "                        <td colspan=\"2\" style=\"text-align: left;\">\n",
       "                            <strong>Local directory: </strong> /run/nvme/job_20329334/tmp/dask-worker-space/worker-ce0vv261\n",
       "                        </td>\n",
       "                    </tr>\n",
       "\n",
       "                    \n",
       "\n",
       "                    \n",
       "                    <tr>\n",
       "                        <td style=\"text-align: left;\">\n",
       "                            <strong>Tasks executing: </strong> \n",
       "                        </td>\n",
       "                        <td style=\"text-align: left;\">\n",
       "                            <strong>Tasks in memory: </strong> \n",
       "                        </td>\n",
       "                    </tr>\n",
       "                    <tr>\n",
       "                        <td style=\"text-align: left;\">\n",
       "                            <strong>Tasks ready: </strong> \n",
       "                        </td>\n",
       "                        <td style=\"text-align: left;\">\n",
       "                            <strong>Tasks in flight: </strong>\n",
       "                        </td>\n",
       "                    </tr>\n",
       "                    <tr>\n",
       "                        <td style=\"text-align: left;\">\n",
       "                            <strong>CPU usage:</strong> 2.0%\n",
       "                        </td>\n",
       "                        <td style=\"text-align: left;\">\n",
       "                            <strong>Last seen: </strong> Just now\n",
       "                        </td>\n",
       "                    </tr>\n",
       "                    <tr>\n",
       "                        <td style=\"text-align: left;\">\n",
       "                            <strong>Memory usage: </strong> 157.23 MiB\n",
       "                        </td>\n",
       "                        <td style=\"text-align: left;\">\n",
       "                            <strong>Spilled bytes: </strong> 0 B\n",
       "                        </td>\n",
       "                    </tr>\n",
       "                    <tr>\n",
       "                        <td style=\"text-align: left;\">\n",
       "                            <strong>Read bytes: </strong> 41.09 kiB\n",
       "                        </td>\n",
       "                        <td style=\"text-align: left;\">\n",
       "                            <strong>Write bytes: </strong> 30.16 kiB\n",
       "                        </td>\n",
       "                    </tr>\n",
       "                    \n",
       "\n",
       "                </table>\n",
       "            </details>\n",
       "            </div>\n",
       "        </div>\n",
       "        \n",
       "        <div style=\"margin-bottom: 20px;\">\n",
       "            <div style=\"width: 24px; height: 24px; background-color: #DBF5FF; border: 3px solid #4CC9FF; border-radius: 5px; position: absolute;\"> </div>\n",
       "            <div style=\"margin-left: 48px;\">\n",
       "            <details>\n",
       "                <summary>\n",
       "                    <h4 style=\"margin-bottom: 0px; display: inline;\">Worker: 2</h4>\n",
       "                </summary>\n",
       "                <table style=\"width: 100%; text-align: left;\">\n",
       "                    <tr>\n",
       "                        <td style=\"text-align: left;\">\n",
       "                            <strong>Comm: </strong> tcp://127.0.0.1:37661\n",
       "                        </td>\n",
       "                        <td style=\"text-align: left;\">\n",
       "                            <strong>Total threads: </strong> 1\n",
       "                        </td>\n",
       "                    </tr>\n",
       "                    <tr>\n",
       "                        <td style=\"text-align: left;\">\n",
       "                            <strong>Dashboard: </strong> <a href=\"http://127.0.0.1:39261/status\" target=\"_blank\">http://127.0.0.1:39261/status</a>\n",
       "                        </td>\n",
       "                        <td style=\"text-align: left;\">\n",
       "                            <strong>Memory: </strong> 7.50 GiB\n",
       "                        </td>\n",
       "                    </tr>\n",
       "                    <tr>\n",
       "                        <td style=\"text-align: left;\">\n",
       "                            <strong>Nanny: </strong> tcp://127.0.0.1:33529\n",
       "                        </td>\n",
       "                        <td style=\"text-align: left;\"></td>\n",
       "                    </tr>\n",
       "                    <tr>\n",
       "                        <td colspan=\"2\" style=\"text-align: left;\">\n",
       "                            <strong>Local directory: </strong> /run/nvme/job_20329334/tmp/dask-worker-space/worker-2tmh2h8h\n",
       "                        </td>\n",
       "                    </tr>\n",
       "\n",
       "                    \n",
       "\n",
       "                    \n",
       "                    <tr>\n",
       "                        <td style=\"text-align: left;\">\n",
       "                            <strong>Tasks executing: </strong> \n",
       "                        </td>\n",
       "                        <td style=\"text-align: left;\">\n",
       "                            <strong>Tasks in memory: </strong> \n",
       "                        </td>\n",
       "                    </tr>\n",
       "                    <tr>\n",
       "                        <td style=\"text-align: left;\">\n",
       "                            <strong>Tasks ready: </strong> \n",
       "                        </td>\n",
       "                        <td style=\"text-align: left;\">\n",
       "                            <strong>Tasks in flight: </strong>\n",
       "                        </td>\n",
       "                    </tr>\n",
       "                    <tr>\n",
       "                        <td style=\"text-align: left;\">\n",
       "                            <strong>CPU usage:</strong> 2.0%\n",
       "                        </td>\n",
       "                        <td style=\"text-align: left;\">\n",
       "                            <strong>Last seen: </strong> Just now\n",
       "                        </td>\n",
       "                    </tr>\n",
       "                    <tr>\n",
       "                        <td style=\"text-align: left;\">\n",
       "                            <strong>Memory usage: </strong> 155.91 MiB\n",
       "                        </td>\n",
       "                        <td style=\"text-align: left;\">\n",
       "                            <strong>Spilled bytes: </strong> 0 B\n",
       "                        </td>\n",
       "                    </tr>\n",
       "                    <tr>\n",
       "                        <td style=\"text-align: left;\">\n",
       "                            <strong>Read bytes: </strong> 40.89 kiB\n",
       "                        </td>\n",
       "                        <td style=\"text-align: left;\">\n",
       "                            <strong>Write bytes: </strong> 30.10 kiB\n",
       "                        </td>\n",
       "                    </tr>\n",
       "                    \n",
       "\n",
       "                </table>\n",
       "            </details>\n",
       "            </div>\n",
       "        </div>\n",
       "        \n",
       "        <div style=\"margin-bottom: 20px;\">\n",
       "            <div style=\"width: 24px; height: 24px; background-color: #DBF5FF; border: 3px solid #4CC9FF; border-radius: 5px; position: absolute;\"> </div>\n",
       "            <div style=\"margin-left: 48px;\">\n",
       "            <details>\n",
       "                <summary>\n",
       "                    <h4 style=\"margin-bottom: 0px; display: inline;\">Worker: 3</h4>\n",
       "                </summary>\n",
       "                <table style=\"width: 100%; text-align: left;\">\n",
       "                    <tr>\n",
       "                        <td style=\"text-align: left;\">\n",
       "                            <strong>Comm: </strong> tcp://127.0.0.1:45041\n",
       "                        </td>\n",
       "                        <td style=\"text-align: left;\">\n",
       "                            <strong>Total threads: </strong> 1\n",
       "                        </td>\n",
       "                    </tr>\n",
       "                    <tr>\n",
       "                        <td style=\"text-align: left;\">\n",
       "                            <strong>Dashboard: </strong> <a href=\"http://127.0.0.1:35873/status\" target=\"_blank\">http://127.0.0.1:35873/status</a>\n",
       "                        </td>\n",
       "                        <td style=\"text-align: left;\">\n",
       "                            <strong>Memory: </strong> 7.50 GiB\n",
       "                        </td>\n",
       "                    </tr>\n",
       "                    <tr>\n",
       "                        <td style=\"text-align: left;\">\n",
       "                            <strong>Nanny: </strong> tcp://127.0.0.1:42961\n",
       "                        </td>\n",
       "                        <td style=\"text-align: left;\"></td>\n",
       "                    </tr>\n",
       "                    <tr>\n",
       "                        <td colspan=\"2\" style=\"text-align: left;\">\n",
       "                            <strong>Local directory: </strong> /run/nvme/job_20329334/tmp/dask-worker-space/worker-2bvvyuxl\n",
       "                        </td>\n",
       "                    </tr>\n",
       "\n",
       "                    \n",
       "\n",
       "                    \n",
       "                    <tr>\n",
       "                        <td style=\"text-align: left;\">\n",
       "                            <strong>Tasks executing: </strong> \n",
       "                        </td>\n",
       "                        <td style=\"text-align: left;\">\n",
       "                            <strong>Tasks in memory: </strong> \n",
       "                        </td>\n",
       "                    </tr>\n",
       "                    <tr>\n",
       "                        <td style=\"text-align: left;\">\n",
       "                            <strong>Tasks ready: </strong> \n",
       "                        </td>\n",
       "                        <td style=\"text-align: left;\">\n",
       "                            <strong>Tasks in flight: </strong>\n",
       "                        </td>\n",
       "                    </tr>\n",
       "                    <tr>\n",
       "                        <td style=\"text-align: left;\">\n",
       "                            <strong>CPU usage:</strong> 6.0%\n",
       "                        </td>\n",
       "                        <td style=\"text-align: left;\">\n",
       "                            <strong>Last seen: </strong> Just now\n",
       "                        </td>\n",
       "                    </tr>\n",
       "                    <tr>\n",
       "                        <td style=\"text-align: left;\">\n",
       "                            <strong>Memory usage: </strong> 158.42 MiB\n",
       "                        </td>\n",
       "                        <td style=\"text-align: left;\">\n",
       "                            <strong>Spilled bytes: </strong> 0 B\n",
       "                        </td>\n",
       "                    </tr>\n",
       "                    <tr>\n",
       "                        <td style=\"text-align: left;\">\n",
       "                            <strong>Read bytes: </strong> 40.86 kiB\n",
       "                        </td>\n",
       "                        <td style=\"text-align: left;\">\n",
       "                            <strong>Write bytes: </strong> 30.08 kiB\n",
       "                        </td>\n",
       "                    </tr>\n",
       "                    \n",
       "\n",
       "                </table>\n",
       "            </details>\n",
       "            </div>\n",
       "        </div>\n",
       "        \n",
       "\n",
       "    </details>\n",
       "</div>\n",
       "            </details>\n",
       "        \n",
       "\n",
       "    </div>\n",
       "</div>"
      ],
      "text/plain": [
       "<Client: 'tcp://127.0.0.1:45993' processes=4 threads=4, memory=30.00 GiB>"
      ]
     },
     "execution_count": 4,
     "metadata": {},
     "output_type": "execute_result"
    }
   ],
   "source": [
    "from dask.distributed import Client\n",
    "\n",
    "client = Client(\"tcp://127.0.0.1:45993\")\n",
    "client"
   ]
  },
  {
   "cell_type": "markdown",
   "id": "92f9bc0e-b8ab-4f1a-a576-c9e132447bee",
   "metadata": {},
   "source": [
    "## Load the reference data from Allas"
   ]
  },
  {
   "cell_type": "code",
   "execution_count": 30,
   "id": "82cbc6af-5198-4d4f-a22d-e67b32f1d361",
   "metadata": {
    "tags": []
   },
   "outputs": [
    {
     "name": "stdout",
     "output_type": "stream",
     "text": [
      "mkdir: cannot create directory ‘/scratch/project_2000630/geoportti/maanpeitetulkinnan_opetuspaketti/point-eo-data’: File exists\n",
      "--2024-02-06 12:42:36--  https://a3s.fi/geoportti_training/lucas2018.tar\n",
      "Resolving a3s.fi (a3s.fi)... 86.50.254.18, 86.50.254.19\n",
      "Connecting to a3s.fi (a3s.fi)|86.50.254.18|:443... connected.\n",
      "HTTP request sent, awaiting response... 200 OK\n",
      "Length: 65228800 (62M) [application/x-tar]\n",
      "Saving to: ‘/scratch/project_2000630/geoportti/maanpeitetulkinnan_opetuspaketti/point-eo-data/lucas2018.tar.1’\n",
      "\n",
      "lucas2018.tar.1     100%[===================>]  62.21M   346MB/s    in 0.2s    \n",
      "\n",
      "2024-02-06 12:42:36 (346 MB/s) - ‘/scratch/project_2000630/geoportti/maanpeitetulkinnan_opetuspaketti/point-eo-data/lucas2018.tar.1’ saved [65228800/65228800]\n",
      "\n"
     ]
    }
   ],
   "source": [
    "!mkdir /scratch/project_2000630/geoportti/maanpeitetulkinnan_opetuspaketti/point-eo-data\n",
    "!wget -P /scratch/project_2000630/geoportti/maanpeitetulkinnan_opetuspaketti/point-eo-data https://a3s.fi/geoportti_training/lucas2018.tar"
   ]
  },
  {
   "cell_type": "code",
   "execution_count": 35,
   "id": "73d1f55f-6249-488f-81bb-1f87524d05b3",
   "metadata": {
    "tags": []
   },
   "outputs": [],
   "source": [
    "!cd /scratch/project_2000630/geoportti/maanpeitetulkinnan_opetuspaketti/point-eo-data\n",
    "!tar -xf /scratch/project_2000630/geoportti/maanpeitetulkinnan_opetuspaketti/point-eo-data/lucas2018.tar -C '/scratch/project_2000630/geoportti/maanpeitetulkinnan_opetuspaketti/'"
   ]
  },
  {
   "cell_type": "code",
   "execution_count": 4,
   "id": "70d065d2-3004-4f2c-b7aa-4573f3604bc3",
   "metadata": {
    "tags": []
   },
   "outputs": [
    {
     "data": {
      "text/plain": [
       "Index(['OBJECTID', 'POINT_ID', 'OFFICE_PI', 'SURVEYDATE', 'OBS_DIST',\n",
       "       'OBS_DIRECT', 'OBS_TYPE', 'LC1', 'LC2', 'LU1', 'LU2', 'LC1_name',\n",
       "       'LU1_name', 'photolinkN', 'photolinkE', 'photolinkS', 'photolinkW',\n",
       "       'photolinkP', 'LCluokka', 'maakunta_1', 'geometry'],\n",
       "      dtype='object')"
      ]
     },
     "execution_count": 4,
     "metadata": {},
     "output_type": "execute_result"
    }
   ],
   "source": [
    "lucas2018_lapland = gpd.read_file('/scratch/project_2000630/geoportti/maanpeitetulkinnan_opetuspaketti/training_data/lucas2018_19_lappi.shp')\n",
    "lucas2018_lapland.columns"
   ]
  },
  {
   "cell_type": "markdown",
   "id": "a68a1446-abe2-475c-bd75-32d41d605b47",
   "metadata": {},
   "source": [
    "## Load input rasters from GeoCubes"
   ]
  },
  {
   "cell_type": "code",
   "execution_count": 4,
   "id": "1fd2b39d-b601-4cce-ad12-62c3e576c4e4",
   "metadata": {
    "tags": []
   },
   "outputs": [],
   "source": [
    "def download_data(params):\n",
    "    download_url = params[0]\n",
    "    out_fn = params[1]\n",
    "    print(f\"Starting to download {download_url} \\n\")\n",
    "    r = urllib.request.urlretrieve(download_url, out_fn)\n",
    "    print(f\"Download completed. Results saved to {out_fn}\")"
   ]
  },
  {
   "cell_type": "code",
   "execution_count": 5,
   "id": "2fe958f7-6754-4dd3-96d8-fb60a4178db9",
   "metadata": {},
   "outputs": [],
   "source": [
    "raster_list = [\n",
    "    \"https://vm0160.kaj.pouta.csc.fi/geocubes/clip/10/ndvimax/maakuntajako:19/2021\",\n",
    "    \"https://vm0160.kaj.pouta.csc.fi/geocubes/clip/10/km2/maakuntajako:19/2022\",\n",
    "    \"https://vm0160.kaj.pouta.csc.fi/geocubes/clip/10/puustoisuusluokat/maakuntajako:19/2022\",\n",
    "    \"https://vm0160.kaj.pouta.csc.fi/geocubes/clip/10/kasvillisuudenkorkeus/maakuntajako:19/2022\",\n",
    "    \"https://vm0160.kaj.pouta.csc.fi/geocubes/clip/10/latvuspeitto/maakuntajako:19/2022\",\n",
    "    \"https://vm0160.kaj.pouta.csc.fi/geocubes/clip/10/sentinel2-rgb/maakuntajako:19/2021\",\n",
    "    \"https://vm0160.kaj.pouta.csc.fi/geocubes/clip/10/sentinel2-nir/maakuntajako:19/2021\"]\n",
    "    \n",
    "outfp = [\"/scratch/project_2000630/jutilaee/geoportti/input_data/ndvi_max_2021_lapland.tif\",\n",
    "         \"/scratch/project_2000630/jutilaee/geoportti/input_data/km2_lapland.tif\",\n",
    "         \"/scratch/project_2000630/jutilaee/geoportti/input_data/tree_classes_lapland.tif\",\n",
    "         \"/scratch/project_2000630/jutilaee/geoportti/input_data/vegetation_height_lapland.tif\",\n",
    "         \"/scratch/project_2000630/jutilaee/geoportti/input_data/canopy_cover_lapland.tif\",\n",
    "         \"/scratch/project_2000630/jutilaee/geoportti/input_data/s2_rgb_lapland.tif\",\n",
    "         \"/scratch/project_2000630/jutilaee/geoportti/input_data/s2_nir_lapland.tif\"]"
   ]
  },
  {
   "cell_type": "code",
   "execution_count": 6,
   "id": "ed9c4cbc-71e7-49d2-95a0-21b67a20a752",
   "metadata": {
    "tags": []
   },
   "outputs": [],
   "source": [
    "param_list = []\n",
    "\n",
    "for i in range(len(raster_list)):\n",
    "\tparam_list.append([raster_list[i], outfp[i]])"
   ]
  },
  {
   "cell_type": "code",
   "execution_count": 8,
   "id": "45092b36-f91e-45b0-bad2-f1692e8e7783",
   "metadata": {},
   "outputs": [],
   "source": [
    "list_of_delayed_functions = []\n",
    "\n",
    "for parameters in param_list:\n",
    "    list_of_delayed_functions.append(delayed(download_data)(parameters))\n"
   ]
  },
  {
   "cell_type": "code",
   "execution_count": 9,
   "id": "3f1a4a2b-fe9e-48dc-9626-c22285795d61",
   "metadata": {
    "tags": []
   },
   "outputs": [
    {
     "name": "stdout",
     "output_type": "stream",
     "text": [
      "CPU times: user 242 ms, sys: 40 ms, total: 282 ms\n",
      "Wall time: 5min 21s\n"
     ]
    }
   ],
   "source": [
    "%%time\n",
    "with ProgressBar():\n",
    "        compute(list_of_delayed_functions)"
   ]
  },
  {
   "cell_type": "markdown",
   "id": "129f0ced-2cad-4f78-9042-5268312cf693",
   "metadata": {},
   "source": [
    "## Rasterize training data\n"
   ]
  },
  {
   "cell_type": "code",
   "execution_count": 10,
   "id": "7babe84f-1441-43b0-8071-3e39fa334b1c",
   "metadata": {
    "tags": []
   },
   "outputs": [
    {
     "name": "stdout",
     "output_type": "stream",
     "text": [
      "0...10...20...30...40...50...60...70...80...90...100 - done.\n",
      "CPU times: user 122 ms, sys: 31.9 ms, total: 154 ms\n",
      "Wall time: 15.9 s\n"
     ]
    }
   ],
   "source": [
    "%%time\n",
    "! gdal_rasterize /users/jutilaee/land_cover_classification/training_data/lucas2018_19_lappi.shp /scratch/project_2000630/jutilaee/geoportti/lucas2018_lapland.tif -ot \"UInt16\" \\\n",
    "    -a LCluokka \\\n",
    "    -tr 10 10 \\\n",
    "    -te 243095.91 7244045.217 627855.91 7776445.217 -co \"COMPRESS=LZW\""
   ]
  },
  {
   "cell_type": "markdown",
   "id": "58338511-7d48-4b8f-901c-066b6a0faa28",
   "metadata": {},
   "source": [
    "## Split multi-band rasters to single-band rasters"
   ]
  },
  {
   "cell_type": "code",
   "execution_count": null,
   "id": "d9fb764f-137c-4bf1-8417-723258145c90",
   "metadata": {
    "tags": []
   },
   "outputs": [],
   "source": [
    "%%time\n",
    "def split_multiband_raster(input_path, output_folder):\n",
    "    # Open the multiband raster\n",
    "    ds = rxr.open_rasterio(input_path)\n",
    "\n",
    "    # Get the number of bands\n",
    "    num_bands = ds.shape[0]\n",
    "\n",
    "    # Loop through each band\n",
    "    for band_index in range(num_bands):\n",
    "        # Get the band data\n",
    "        band = ds[band_index]\n",
    "\n",
    "        # Create the output file name\n",
    "        output_name = f\"s2_rgb_lapland_band{band_index + 1}.tif\"\n",
    "        output_path = os.path.join(output_folder, output_name)\n",
    "\n",
    "        # Save the band as a single-band raster\n",
    "        band.rio.to_raster(output_path)\n",
    "\n",
    "        print(f\"Band {band_index + 1} saved as {output_path}\")\n",
    "\n",
    "# Example usage\n",
    "input_raster = \"/scratch/project_2000630/jutilaee/geoportti/input_data/s2_rgb_lapland.tif\"\n",
    "output_folder = \"/scratch/project_2000630/jutilaee/geoportti/input_data\"\n",
    "split_multiband_raster(input_raster, output_folder)"
   ]
  },
  {
   "cell_type": "markdown",
   "id": "a3eb46bd-29bc-4dea-8cbb-6bb07772e64b",
   "metadata": {},
   "source": [
    "## Create a datacube"
   ]
  },
  {
   "cell_type": "code",
   "execution_count": 5,
   "id": "2c097c26-33c9-4468-b7e2-eb1fb10e4927",
   "metadata": {
    "tags": []
   },
   "outputs": [
    {
     "name": "stdout",
     "output_type": "stream",
     "text": [
      "CPU times: user 54.8 ms, sys: 12.4 ms, total: 67.2 ms\n",
      "Wall time: 2.49 s\n"
     ]
    }
   ],
   "source": [
    "%%time\n",
    "\n",
    "\n",
    "def load_raster(raster, band_name):\n",
    "    xds = rxr.open_rasterio(raster)\n",
    "    return xds.rename(band_name)\n",
    "\n",
    "\n",
    "\n",
    "def create_cube():\n",
    "    ## Raster input data for sampling\n",
    "    rasters = [\n",
    "        \"/scratch/project_2000630/jutilaee/geoportti/input_data/ndvi_max_2021_lapland.tif\",\n",
    "        \"/scratch/project_2000630/jutilaee/geoportti/input_data/km2_lapland.tif\",\n",
    "        \"/scratch/project_2000630/jutilaee/geoportti/input_data/tree_classes_lapland.tif\",\n",
    "        \"/scratch/project_2000630/jutilaee/geoportti/input_data/vegetation_height_lapland.tif\",\n",
    "        \"/scratch/project_2000630/jutilaee/geoportti/input_data/canopy_cover_lapland.tif\",\n",
    "        \"/scratch/project_2000630/jutilaee/geoportti/input_data/s2_rgb_lapland_band1.tif\",\n",
    "        \"/scratch/project_2000630/jutilaee/geoportti/input_data/s2_rgb_lapland_band2.tif\",\n",
    "        \"/scratch/project_2000630/jutilaee/geoportti/input_data/s2_rgb_lapland_band3.tif\",\n",
    "        \"/scratch/project_2000630/jutilaee/geoportti/input_data/s2_nir_lapland.tif\"\n",
    "    ]\n",
    "    band_names = [\n",
    "        'ndvi_max', 'dem', 'tree_classes', 'veg_height', 'canopy_cover',\n",
    "        's2_b4', 's2_b3', 's2_b2', 's2_nir'\n",
    "    ]\n",
    "    delayed_rasters = [\n",
    "        dask.delayed(load_raster)(raster, band_names[i]) for i, raster in enumerate(rasters)\n",
    "    ]\n",
    "    rasters_to_merge = dask.compute(*delayed_rasters)\n",
    "    cube = xr.merge(rasters_to_merge)\n",
    "    cube = cube.transpose('band', 'y', 'x')\n",
    "    return cube, band_names\n",
    "\n",
    "cube, band_names = create_cube()"
   ]
  },
  {
   "cell_type": "code",
   "execution_count": 6,
   "id": "09d26113-45f4-4503-9ab0-3765fe1c9bbe",
   "metadata": {
    "tags": []
   },
   "outputs": [
    {
     "data": {
      "text/html": [
       "<div><svg style=\"position: absolute; width: 0; height: 0; overflow: hidden\">\n",
       "<defs>\n",
       "<symbol id=\"icon-database\" viewBox=\"0 0 32 32\">\n",
       "<path d=\"M16 0c-8.837 0-16 2.239-16 5v4c0 2.761 7.163 5 16 5s16-2.239 16-5v-4c0-2.761-7.163-5-16-5z\"></path>\n",
       "<path d=\"M16 17c-8.837 0-16-2.239-16-5v6c0 2.761 7.163 5 16 5s16-2.239 16-5v-6c0 2.761-7.163 5-16 5z\"></path>\n",
       "<path d=\"M16 26c-8.837 0-16-2.239-16-5v6c0 2.761 7.163 5 16 5s16-2.239 16-5v-6c0 2.761-7.163 5-16 5z\"></path>\n",
       "</symbol>\n",
       "<symbol id=\"icon-file-text2\" viewBox=\"0 0 32 32\">\n",
       "<path d=\"M28.681 7.159c-0.694-0.947-1.662-2.053-2.724-3.116s-2.169-2.030-3.116-2.724c-1.612-1.182-2.393-1.319-2.841-1.319h-15.5c-1.378 0-2.5 1.121-2.5 2.5v27c0 1.378 1.122 2.5 2.5 2.5h23c1.378 0 2.5-1.122 2.5-2.5v-19.5c0-0.448-0.137-1.23-1.319-2.841zM24.543 5.457c0.959 0.959 1.712 1.825 2.268 2.543h-4.811v-4.811c0.718 0.556 1.584 1.309 2.543 2.268zM28 29.5c0 0.271-0.229 0.5-0.5 0.5h-23c-0.271 0-0.5-0.229-0.5-0.5v-27c0-0.271 0.229-0.5 0.5-0.5 0 0 15.499-0 15.5 0v7c0 0.552 0.448 1 1 1h7v19.5z\"></path>\n",
       "<path d=\"M23 26h-14c-0.552 0-1-0.448-1-1s0.448-1 1-1h14c0.552 0 1 0.448 1 1s-0.448 1-1 1z\"></path>\n",
       "<path d=\"M23 22h-14c-0.552 0-1-0.448-1-1s0.448-1 1-1h14c0.552 0 1 0.448 1 1s-0.448 1-1 1z\"></path>\n",
       "<path d=\"M23 18h-14c-0.552 0-1-0.448-1-1s0.448-1 1-1h14c0.552 0 1 0.448 1 1s-0.448 1-1 1z\"></path>\n",
       "</symbol>\n",
       "</defs>\n",
       "</svg>\n",
       "<style>/* CSS stylesheet for displaying xarray objects in jupyterlab.\n",
       " *\n",
       " */\n",
       "\n",
       ":root {\n",
       "  --xr-font-color0: var(--jp-content-font-color0, rgba(0, 0, 0, 1));\n",
       "  --xr-font-color2: var(--jp-content-font-color2, rgba(0, 0, 0, 0.54));\n",
       "  --xr-font-color3: var(--jp-content-font-color3, rgba(0, 0, 0, 0.38));\n",
       "  --xr-border-color: var(--jp-border-color2, #e0e0e0);\n",
       "  --xr-disabled-color: var(--jp-layout-color3, #bdbdbd);\n",
       "  --xr-background-color: var(--jp-layout-color0, white);\n",
       "  --xr-background-color-row-even: var(--jp-layout-color1, white);\n",
       "  --xr-background-color-row-odd: var(--jp-layout-color2, #eeeeee);\n",
       "}\n",
       "\n",
       "html[theme=dark],\n",
       "body[data-theme=dark],\n",
       "body.vscode-dark {\n",
       "  --xr-font-color0: rgba(255, 255, 255, 1);\n",
       "  --xr-font-color2: rgba(255, 255, 255, 0.54);\n",
       "  --xr-font-color3: rgba(255, 255, 255, 0.38);\n",
       "  --xr-border-color: #1F1F1F;\n",
       "  --xr-disabled-color: #515151;\n",
       "  --xr-background-color: #111111;\n",
       "  --xr-background-color-row-even: #111111;\n",
       "  --xr-background-color-row-odd: #313131;\n",
       "}\n",
       "\n",
       ".xr-wrap {\n",
       "  display: block !important;\n",
       "  min-width: 300px;\n",
       "  max-width: 700px;\n",
       "}\n",
       "\n",
       ".xr-text-repr-fallback {\n",
       "  /* fallback to plain text repr when CSS is not injected (untrusted notebook) */\n",
       "  display: none;\n",
       "}\n",
       "\n",
       ".xr-header {\n",
       "  padding-top: 6px;\n",
       "  padding-bottom: 6px;\n",
       "  margin-bottom: 4px;\n",
       "  border-bottom: solid 1px var(--xr-border-color);\n",
       "}\n",
       "\n",
       ".xr-header > div,\n",
       ".xr-header > ul {\n",
       "  display: inline;\n",
       "  margin-top: 0;\n",
       "  margin-bottom: 0;\n",
       "}\n",
       "\n",
       ".xr-obj-type,\n",
       ".xr-array-name {\n",
       "  margin-left: 2px;\n",
       "  margin-right: 10px;\n",
       "}\n",
       "\n",
       ".xr-obj-type {\n",
       "  color: var(--xr-font-color2);\n",
       "}\n",
       "\n",
       ".xr-sections {\n",
       "  padding-left: 0 !important;\n",
       "  display: grid;\n",
       "  grid-template-columns: 150px auto auto 1fr 20px 20px;\n",
       "}\n",
       "\n",
       ".xr-section-item {\n",
       "  display: contents;\n",
       "}\n",
       "\n",
       ".xr-section-item input {\n",
       "  display: none;\n",
       "}\n",
       "\n",
       ".xr-section-item input + label {\n",
       "  color: var(--xr-disabled-color);\n",
       "}\n",
       "\n",
       ".xr-section-item input:enabled + label {\n",
       "  cursor: pointer;\n",
       "  color: var(--xr-font-color2);\n",
       "}\n",
       "\n",
       ".xr-section-item input:enabled + label:hover {\n",
       "  color: var(--xr-font-color0);\n",
       "}\n",
       "\n",
       ".xr-section-summary {\n",
       "  grid-column: 1;\n",
       "  color: var(--xr-font-color2);\n",
       "  font-weight: 500;\n",
       "}\n",
       "\n",
       ".xr-section-summary > span {\n",
       "  display: inline-block;\n",
       "  padding-left: 0.5em;\n",
       "}\n",
       "\n",
       ".xr-section-summary-in:disabled + label {\n",
       "  color: var(--xr-font-color2);\n",
       "}\n",
       "\n",
       ".xr-section-summary-in + label:before {\n",
       "  display: inline-block;\n",
       "  content: '►';\n",
       "  font-size: 11px;\n",
       "  width: 15px;\n",
       "  text-align: center;\n",
       "}\n",
       "\n",
       ".xr-section-summary-in:disabled + label:before {\n",
       "  color: var(--xr-disabled-color);\n",
       "}\n",
       "\n",
       ".xr-section-summary-in:checked + label:before {\n",
       "  content: '▼';\n",
       "}\n",
       "\n",
       ".xr-section-summary-in:checked + label > span {\n",
       "  display: none;\n",
       "}\n",
       "\n",
       ".xr-section-summary,\n",
       ".xr-section-inline-details {\n",
       "  padding-top: 4px;\n",
       "  padding-bottom: 4px;\n",
       "}\n",
       "\n",
       ".xr-section-inline-details {\n",
       "  grid-column: 2 / -1;\n",
       "}\n",
       "\n",
       ".xr-section-details {\n",
       "  display: none;\n",
       "  grid-column: 1 / -1;\n",
       "  margin-bottom: 5px;\n",
       "}\n",
       "\n",
       ".xr-section-summary-in:checked ~ .xr-section-details {\n",
       "  display: contents;\n",
       "}\n",
       "\n",
       ".xr-array-wrap {\n",
       "  grid-column: 1 / -1;\n",
       "  display: grid;\n",
       "  grid-template-columns: 20px auto;\n",
       "}\n",
       "\n",
       ".xr-array-wrap > label {\n",
       "  grid-column: 1;\n",
       "  vertical-align: top;\n",
       "}\n",
       "\n",
       ".xr-preview {\n",
       "  color: var(--xr-font-color3);\n",
       "}\n",
       "\n",
       ".xr-array-preview,\n",
       ".xr-array-data {\n",
       "  padding: 0 5px !important;\n",
       "  grid-column: 2;\n",
       "}\n",
       "\n",
       ".xr-array-data,\n",
       ".xr-array-in:checked ~ .xr-array-preview {\n",
       "  display: none;\n",
       "}\n",
       "\n",
       ".xr-array-in:checked ~ .xr-array-data,\n",
       ".xr-array-preview {\n",
       "  display: inline-block;\n",
       "}\n",
       "\n",
       ".xr-dim-list {\n",
       "  display: inline-block !important;\n",
       "  list-style: none;\n",
       "  padding: 0 !important;\n",
       "  margin: 0;\n",
       "}\n",
       "\n",
       ".xr-dim-list li {\n",
       "  display: inline-block;\n",
       "  padding: 0;\n",
       "  margin: 0;\n",
       "}\n",
       "\n",
       ".xr-dim-list:before {\n",
       "  content: '(';\n",
       "}\n",
       "\n",
       ".xr-dim-list:after {\n",
       "  content: ')';\n",
       "}\n",
       "\n",
       ".xr-dim-list li:not(:last-child):after {\n",
       "  content: ',';\n",
       "  padding-right: 5px;\n",
       "}\n",
       "\n",
       ".xr-has-index {\n",
       "  font-weight: bold;\n",
       "}\n",
       "\n",
       ".xr-var-list,\n",
       ".xr-var-item {\n",
       "  display: contents;\n",
       "}\n",
       "\n",
       ".xr-var-item > div,\n",
       ".xr-var-item label,\n",
       ".xr-var-item > .xr-var-name span {\n",
       "  background-color: var(--xr-background-color-row-even);\n",
       "  margin-bottom: 0;\n",
       "}\n",
       "\n",
       ".xr-var-item > .xr-var-name:hover span {\n",
       "  padding-right: 5px;\n",
       "}\n",
       "\n",
       ".xr-var-list > li:nth-child(odd) > div,\n",
       ".xr-var-list > li:nth-child(odd) > label,\n",
       ".xr-var-list > li:nth-child(odd) > .xr-var-name span {\n",
       "  background-color: var(--xr-background-color-row-odd);\n",
       "}\n",
       "\n",
       ".xr-var-name {\n",
       "  grid-column: 1;\n",
       "}\n",
       "\n",
       ".xr-var-dims {\n",
       "  grid-column: 2;\n",
       "}\n",
       "\n",
       ".xr-var-dtype {\n",
       "  grid-column: 3;\n",
       "  text-align: right;\n",
       "  color: var(--xr-font-color2);\n",
       "}\n",
       "\n",
       ".xr-var-preview {\n",
       "  grid-column: 4;\n",
       "}\n",
       "\n",
       ".xr-index-preview {\n",
       "  grid-column: 2 / 5;\n",
       "  color: var(--xr-font-color2);\n",
       "}\n",
       "\n",
       ".xr-var-name,\n",
       ".xr-var-dims,\n",
       ".xr-var-dtype,\n",
       ".xr-preview,\n",
       ".xr-attrs dt {\n",
       "  white-space: nowrap;\n",
       "  overflow: hidden;\n",
       "  text-overflow: ellipsis;\n",
       "  padding-right: 10px;\n",
       "}\n",
       "\n",
       ".xr-var-name:hover,\n",
       ".xr-var-dims:hover,\n",
       ".xr-var-dtype:hover,\n",
       ".xr-attrs dt:hover {\n",
       "  overflow: visible;\n",
       "  width: auto;\n",
       "  z-index: 1;\n",
       "}\n",
       "\n",
       ".xr-var-attrs,\n",
       ".xr-var-data,\n",
       ".xr-index-data {\n",
       "  display: none;\n",
       "  background-color: var(--xr-background-color) !important;\n",
       "  padding-bottom: 5px !important;\n",
       "}\n",
       "\n",
       ".xr-var-attrs-in:checked ~ .xr-var-attrs,\n",
       ".xr-var-data-in:checked ~ .xr-var-data,\n",
       ".xr-index-data-in:checked ~ .xr-index-data {\n",
       "  display: block;\n",
       "}\n",
       "\n",
       ".xr-var-data > table {\n",
       "  float: right;\n",
       "}\n",
       "\n",
       ".xr-var-name span,\n",
       ".xr-var-data,\n",
       ".xr-index-name div,\n",
       ".xr-index-data,\n",
       ".xr-attrs {\n",
       "  padding-left: 25px !important;\n",
       "}\n",
       "\n",
       ".xr-attrs,\n",
       ".xr-var-attrs,\n",
       ".xr-var-data,\n",
       ".xr-index-data {\n",
       "  grid-column: 1 / -1;\n",
       "}\n",
       "\n",
       "dl.xr-attrs {\n",
       "  padding: 0;\n",
       "  margin: 0;\n",
       "  display: grid;\n",
       "  grid-template-columns: 125px auto;\n",
       "}\n",
       "\n",
       ".xr-attrs dt,\n",
       ".xr-attrs dd {\n",
       "  padding: 0;\n",
       "  margin: 0;\n",
       "  float: left;\n",
       "  padding-right: 10px;\n",
       "  width: auto;\n",
       "}\n",
       "\n",
       ".xr-attrs dt {\n",
       "  font-weight: normal;\n",
       "  grid-column: 1;\n",
       "}\n",
       "\n",
       ".xr-attrs dt:hover span {\n",
       "  display: inline-block;\n",
       "  background: var(--xr-background-color);\n",
       "  padding-right: 10px;\n",
       "}\n",
       "\n",
       ".xr-attrs dd {\n",
       "  grid-column: 2;\n",
       "  white-space: pre-wrap;\n",
       "  word-break: break-all;\n",
       "}\n",
       "\n",
       ".xr-icon-database,\n",
       ".xr-icon-file-text2,\n",
       ".xr-no-icon {\n",
       "  display: inline-block;\n",
       "  vertical-align: middle;\n",
       "  width: 1em;\n",
       "  height: 1.5em !important;\n",
       "  stroke-width: 0;\n",
       "  stroke: currentColor;\n",
       "  fill: currentColor;\n",
       "}\n",
       "</style><pre class='xr-text-repr-fallback'>&lt;xarray.Dataset&gt;\n",
       "Dimensions:       (band: 1, x: 38477, y: 53241)\n",
       "Coordinates:\n",
       "  * band          (band) int64 1\n",
       "  * x             (x) float64 2.431e+05 2.431e+05 ... 6.278e+05 6.279e+05\n",
       "  * y             (y) float64 7.776e+06 7.776e+06 ... 7.244e+06 7.244e+06\n",
       "    spatial_ref   int64 0\n",
       "Data variables:\n",
       "    ndvi_max      (band, y, x) uint8 ...\n",
       "    dem           (band, y, x) float32 ...\n",
       "    tree_classes  (band, y, x) uint8 ...\n",
       "    veg_height    (band, y, x) uint8 ...\n",
       "    canopy_cover  (band, y, x) uint8 ...\n",
       "    s2_b4         (band, y, x) uint16 ...\n",
       "    s2_b3         (band, y, x) uint16 ...\n",
       "    s2_b2         (band, y, x) uint16 ...\n",
       "    s2_nir        (band, y, x) uint16 ...\n",
       "Attributes:\n",
       "    AREA_OR_POINT:  Area\n",
       "    _FillValue:     255\n",
       "    scale_factor:   1.0\n",
       "    add_offset:     0.0</pre><div class='xr-wrap' style='display:none'><div class='xr-header'><div class='xr-obj-type'>xarray.Dataset</div></div><ul class='xr-sections'><li class='xr-section-item'><input id='section-eb050b08-2988-4698-ab9d-35c3d70a8b20' class='xr-section-summary-in' type='checkbox' disabled ><label for='section-eb050b08-2988-4698-ab9d-35c3d70a8b20' class='xr-section-summary'  title='Expand/collapse section'>Dimensions:</label><div class='xr-section-inline-details'><ul class='xr-dim-list'><li><span class='xr-has-index'>band</span>: 1</li><li><span class='xr-has-index'>x</span>: 38477</li><li><span class='xr-has-index'>y</span>: 53241</li></ul></div><div class='xr-section-details'></div></li><li class='xr-section-item'><input id='section-c7828bfd-521d-4418-9ef8-a83cf2ed0f07' class='xr-section-summary-in' type='checkbox'  checked><label for='section-c7828bfd-521d-4418-9ef8-a83cf2ed0f07' class='xr-section-summary' >Coordinates: <span>(4)</span></label><div class='xr-section-inline-details'></div><div class='xr-section-details'><ul class='xr-var-list'><li class='xr-var-item'><div class='xr-var-name'><span class='xr-has-index'>band</span></div><div class='xr-var-dims'>(band)</div><div class='xr-var-dtype'>int64</div><div class='xr-var-preview xr-preview'>1</div><input id='attrs-cd2fb7c7-2e43-44ba-9650-b4c4e84c89f8' class='xr-var-attrs-in' type='checkbox' disabled><label for='attrs-cd2fb7c7-2e43-44ba-9650-b4c4e84c89f8' title='Show/Hide attributes'><svg class='icon xr-icon-file-text2'><use xlink:href='#icon-file-text2'></use></svg></label><input id='data-44e01f7a-0a03-47fd-875a-9cf1f1615ce8' class='xr-var-data-in' type='checkbox'><label for='data-44e01f7a-0a03-47fd-875a-9cf1f1615ce8' title='Show/Hide data repr'><svg class='icon xr-icon-database'><use xlink:href='#icon-database'></use></svg></label><div class='xr-var-attrs'><dl class='xr-attrs'></dl></div><div class='xr-var-data'><pre>array([1])</pre></div></li><li class='xr-var-item'><div class='xr-var-name'><span class='xr-has-index'>x</span></div><div class='xr-var-dims'>(x)</div><div class='xr-var-dtype'>float64</div><div class='xr-var-preview xr-preview'>2.431e+05 2.431e+05 ... 6.279e+05</div><input id='attrs-86890ca9-2270-4191-a23d-6afd6d18581b' class='xr-var-attrs-in' type='checkbox' disabled><label for='attrs-86890ca9-2270-4191-a23d-6afd6d18581b' title='Show/Hide attributes'><svg class='icon xr-icon-file-text2'><use xlink:href='#icon-file-text2'></use></svg></label><input id='data-f06cb1b5-48dd-49f0-9bfd-e514941d2cda' class='xr-var-data-in' type='checkbox'><label for='data-f06cb1b5-48dd-49f0-9bfd-e514941d2cda' title='Show/Hide data repr'><svg class='icon xr-icon-database'><use xlink:href='#icon-database'></use></svg></label><div class='xr-var-attrs'><dl class='xr-attrs'></dl></div><div class='xr-var-data'><pre>array([243095.91, 243105.91, 243115.91, ..., 627835.91, 627845.91, 627855.91])</pre></div></li><li class='xr-var-item'><div class='xr-var-name'><span class='xr-has-index'>y</span></div><div class='xr-var-dims'>(y)</div><div class='xr-var-dtype'>float64</div><div class='xr-var-preview xr-preview'>7.776e+06 7.776e+06 ... 7.244e+06</div><input id='attrs-0146deda-490a-41b5-86bf-0548d5b60f74' class='xr-var-attrs-in' type='checkbox' disabled><label for='attrs-0146deda-490a-41b5-86bf-0548d5b60f74' title='Show/Hide attributes'><svg class='icon xr-icon-file-text2'><use xlink:href='#icon-file-text2'></use></svg></label><input id='data-71718a10-8cd8-47d1-a0d6-6ef997377d8b' class='xr-var-data-in' type='checkbox'><label for='data-71718a10-8cd8-47d1-a0d6-6ef997377d8b' title='Show/Hide data repr'><svg class='icon xr-icon-database'><use xlink:href='#icon-database'></use></svg></label><div class='xr-var-attrs'><dl class='xr-attrs'></dl></div><div class='xr-var-data'><pre>array([7776445.217, 7776435.217, 7776425.217, ..., 7244065.217, 7244055.217,\n",
       "       7244045.217])</pre></div></li><li class='xr-var-item'><div class='xr-var-name'><span>spatial_ref</span></div><div class='xr-var-dims'>()</div><div class='xr-var-dtype'>int64</div><div class='xr-var-preview xr-preview'>0</div><input id='attrs-30d64f42-e1fb-4467-a978-00e75df370cc' class='xr-var-attrs-in' type='checkbox' ><label for='attrs-30d64f42-e1fb-4467-a978-00e75df370cc' title='Show/Hide attributes'><svg class='icon xr-icon-file-text2'><use xlink:href='#icon-file-text2'></use></svg></label><input id='data-dc310733-e60d-4ec8-972f-bb3f999a4b9b' class='xr-var-data-in' type='checkbox'><label for='data-dc310733-e60d-4ec8-972f-bb3f999a4b9b' title='Show/Hide data repr'><svg class='icon xr-icon-database'><use xlink:href='#icon-database'></use></svg></label><div class='xr-var-attrs'><dl class='xr-attrs'><dt><span>crs_wkt :</span></dt><dd>PROJCS[&quot;ETRS89 / TM35FIN(E,N)&quot;,GEOGCS[&quot;ETRS89&quot;,DATUM[&quot;European_Terrestrial_Reference_System_1989&quot;,SPHEROID[&quot;GRS 1980&quot;,6378137,298.257222101,AUTHORITY[&quot;EPSG&quot;,&quot;7019&quot;]],AUTHORITY[&quot;EPSG&quot;,&quot;6258&quot;]],PRIMEM[&quot;Greenwich&quot;,0,AUTHORITY[&quot;EPSG&quot;,&quot;8901&quot;]],UNIT[&quot;degree&quot;,0.0174532925199433,AUTHORITY[&quot;EPSG&quot;,&quot;9122&quot;]],AUTHORITY[&quot;EPSG&quot;,&quot;4258&quot;]],PROJECTION[&quot;Transverse_Mercator&quot;],PARAMETER[&quot;latitude_of_origin&quot;,0],PARAMETER[&quot;central_meridian&quot;,27],PARAMETER[&quot;scale_factor&quot;,0.9996],PARAMETER[&quot;false_easting&quot;,500000],PARAMETER[&quot;false_northing&quot;,0],UNIT[&quot;metre&quot;,1,AUTHORITY[&quot;EPSG&quot;,&quot;9001&quot;]],AXIS[&quot;Easting&quot;,EAST],AXIS[&quot;Northing&quot;,NORTH],AUTHORITY[&quot;EPSG&quot;,&quot;3067&quot;]]</dd><dt><span>semi_major_axis :</span></dt><dd>6378137.0</dd><dt><span>semi_minor_axis :</span></dt><dd>6356752.314140356</dd><dt><span>inverse_flattening :</span></dt><dd>298.257222101</dd><dt><span>reference_ellipsoid_name :</span></dt><dd>GRS 1980</dd><dt><span>longitude_of_prime_meridian :</span></dt><dd>0.0</dd><dt><span>prime_meridian_name :</span></dt><dd>Greenwich</dd><dt><span>geographic_crs_name :</span></dt><dd>ETRS89</dd><dt><span>horizontal_datum_name :</span></dt><dd>European Terrestrial Reference System 1989</dd><dt><span>projected_crs_name :</span></dt><dd>ETRS89 / TM35FIN(E,N)</dd><dt><span>grid_mapping_name :</span></dt><dd>transverse_mercator</dd><dt><span>latitude_of_projection_origin :</span></dt><dd>0.0</dd><dt><span>longitude_of_central_meridian :</span></dt><dd>27.0</dd><dt><span>false_easting :</span></dt><dd>500000.0</dd><dt><span>false_northing :</span></dt><dd>0.0</dd><dt><span>scale_factor_at_central_meridian :</span></dt><dd>0.9996</dd><dt><span>spatial_ref :</span></dt><dd>PROJCS[&quot;ETRS89 / TM35FIN(E,N)&quot;,GEOGCS[&quot;ETRS89&quot;,DATUM[&quot;European_Terrestrial_Reference_System_1989&quot;,SPHEROID[&quot;GRS 1980&quot;,6378137,298.257222101,AUTHORITY[&quot;EPSG&quot;,&quot;7019&quot;]],AUTHORITY[&quot;EPSG&quot;,&quot;6258&quot;]],PRIMEM[&quot;Greenwich&quot;,0,AUTHORITY[&quot;EPSG&quot;,&quot;8901&quot;]],UNIT[&quot;degree&quot;,0.0174532925199433,AUTHORITY[&quot;EPSG&quot;,&quot;9122&quot;]],AUTHORITY[&quot;EPSG&quot;,&quot;4258&quot;]],PROJECTION[&quot;Transverse_Mercator&quot;],PARAMETER[&quot;latitude_of_origin&quot;,0],PARAMETER[&quot;central_meridian&quot;,27],PARAMETER[&quot;scale_factor&quot;,0.9996],PARAMETER[&quot;false_easting&quot;,500000],PARAMETER[&quot;false_northing&quot;,0],UNIT[&quot;metre&quot;,1,AUTHORITY[&quot;EPSG&quot;,&quot;9001&quot;]],AXIS[&quot;Easting&quot;,EAST],AXIS[&quot;Northing&quot;,NORTH],AUTHORITY[&quot;EPSG&quot;,&quot;3067&quot;]]</dd><dt><span>GeoTransform :</span></dt><dd>243090.91 10.0 0.0 7776450.217 0.0 -10.0</dd></dl></div><div class='xr-var-data'><pre>array(0)</pre></div></li></ul></div></li><li class='xr-section-item'><input id='section-a2ab8fc8-388d-4a20-8e5d-c8033ca1dd1e' class='xr-section-summary-in' type='checkbox'  checked><label for='section-a2ab8fc8-388d-4a20-8e5d-c8033ca1dd1e' class='xr-section-summary' >Data variables: <span>(9)</span></label><div class='xr-section-inline-details'></div><div class='xr-section-details'><ul class='xr-var-list'><li class='xr-var-item'><div class='xr-var-name'><span>ndvi_max</span></div><div class='xr-var-dims'>(band, y, x)</div><div class='xr-var-dtype'>uint8</div><div class='xr-var-preview xr-preview'>...</div><input id='attrs-6016e11c-b6f3-43ca-bc19-efe3319b77bf' class='xr-var-attrs-in' type='checkbox' ><label for='attrs-6016e11c-b6f3-43ca-bc19-efe3319b77bf' title='Show/Hide attributes'><svg class='icon xr-icon-file-text2'><use xlink:href='#icon-file-text2'></use></svg></label><input id='data-6b70f51b-0bd7-48c8-981f-953da48dfd3f' class='xr-var-data-in' type='checkbox'><label for='data-6b70f51b-0bd7-48c8-981f-953da48dfd3f' title='Show/Hide data repr'><svg class='icon xr-icon-database'><use xlink:href='#icon-database'></use></svg></label><div class='xr-var-attrs'><dl class='xr-attrs'><dt><span>AREA_OR_POINT :</span></dt><dd>Area</dd><dt><span>_FillValue :</span></dt><dd>255</dd><dt><span>scale_factor :</span></dt><dd>1.0</dd><dt><span>add_offset :</span></dt><dd>0.0</dd></dl></div><div class='xr-var-data'><pre>[2048553957 values with dtype=uint8]</pre></div></li><li class='xr-var-item'><div class='xr-var-name'><span>dem</span></div><div class='xr-var-dims'>(band, y, x)</div><div class='xr-var-dtype'>float32</div><div class='xr-var-preview xr-preview'>...</div><input id='attrs-cd6ca8f8-383b-43cf-ab6c-e5f456986df4' class='xr-var-attrs-in' type='checkbox' ><label for='attrs-cd6ca8f8-383b-43cf-ab6c-e5f456986df4' title='Show/Hide attributes'><svg class='icon xr-icon-file-text2'><use xlink:href='#icon-file-text2'></use></svg></label><input id='data-169996ce-bcfd-49dc-82a2-447dbeff94f3' class='xr-var-data-in' type='checkbox'><label for='data-169996ce-bcfd-49dc-82a2-447dbeff94f3' title='Show/Hide data repr'><svg class='icon xr-icon-database'><use xlink:href='#icon-database'></use></svg></label><div class='xr-var-attrs'><dl class='xr-attrs'><dt><span>AREA_OR_POINT :</span></dt><dd>Area</dd><dt><span>_FillValue :</span></dt><dd>-9999.0</dd><dt><span>scale_factor :</span></dt><dd>1.0</dd><dt><span>add_offset :</span></dt><dd>0.0</dd></dl></div><div class='xr-var-data'><pre>[2048553957 values with dtype=float32]</pre></div></li><li class='xr-var-item'><div class='xr-var-name'><span>tree_classes</span></div><div class='xr-var-dims'>(band, y, x)</div><div class='xr-var-dtype'>uint8</div><div class='xr-var-preview xr-preview'>...</div><input id='attrs-4e42d476-dc0c-4b17-9744-5ca7f7f21fa9' class='xr-var-attrs-in' type='checkbox' ><label for='attrs-4e42d476-dc0c-4b17-9744-5ca7f7f21fa9' title='Show/Hide attributes'><svg class='icon xr-icon-file-text2'><use xlink:href='#icon-file-text2'></use></svg></label><input id='data-50990c48-75e8-4d1e-9147-1356d9de2f4e' class='xr-var-data-in' type='checkbox'><label for='data-50990c48-75e8-4d1e-9147-1356d9de2f4e' title='Show/Hide data repr'><svg class='icon xr-icon-database'><use xlink:href='#icon-database'></use></svg></label><div class='xr-var-attrs'><dl class='xr-attrs'><dt><span>AREA_OR_POINT :</span></dt><dd>Area</dd><dt><span>_FillValue :</span></dt><dd>127</dd><dt><span>scale_factor :</span></dt><dd>1.0</dd><dt><span>add_offset :</span></dt><dd>0.0</dd></dl></div><div class='xr-var-data'><pre>[2048553957 values with dtype=uint8]</pre></div></li><li class='xr-var-item'><div class='xr-var-name'><span>veg_height</span></div><div class='xr-var-dims'>(band, y, x)</div><div class='xr-var-dtype'>uint8</div><div class='xr-var-preview xr-preview'>...</div><input id='attrs-1bdc0cd4-0d6b-4e19-b93f-a06170cdcc7b' class='xr-var-attrs-in' type='checkbox' ><label for='attrs-1bdc0cd4-0d6b-4e19-b93f-a06170cdcc7b' title='Show/Hide attributes'><svg class='icon xr-icon-file-text2'><use xlink:href='#icon-file-text2'></use></svg></label><input id='data-9e6b7c80-10af-41ed-8813-58c7746ddfcc' class='xr-var-data-in' type='checkbox'><label for='data-9e6b7c80-10af-41ed-8813-58c7746ddfcc' title='Show/Hide data repr'><svg class='icon xr-icon-database'><use xlink:href='#icon-database'></use></svg></label><div class='xr-var-attrs'><dl class='xr-attrs'><dt><span>AREA_OR_POINT :</span></dt><dd>Area</dd><dt><span>_FillValue :</span></dt><dd>255</dd><dt><span>scale_factor :</span></dt><dd>1.0</dd><dt><span>add_offset :</span></dt><dd>0.0</dd></dl></div><div class='xr-var-data'><pre>[2048553957 values with dtype=uint8]</pre></div></li><li class='xr-var-item'><div class='xr-var-name'><span>canopy_cover</span></div><div class='xr-var-dims'>(band, y, x)</div><div class='xr-var-dtype'>uint8</div><div class='xr-var-preview xr-preview'>...</div><input id='attrs-651d9957-c4c9-4697-911c-f2f459ccb17e' class='xr-var-attrs-in' type='checkbox' ><label for='attrs-651d9957-c4c9-4697-911c-f2f459ccb17e' title='Show/Hide attributes'><svg class='icon xr-icon-file-text2'><use xlink:href='#icon-file-text2'></use></svg></label><input id='data-1bed2448-1405-40fe-a27a-ea24a3875204' class='xr-var-data-in' type='checkbox'><label for='data-1bed2448-1405-40fe-a27a-ea24a3875204' title='Show/Hide data repr'><svg class='icon xr-icon-database'><use xlink:href='#icon-database'></use></svg></label><div class='xr-var-attrs'><dl class='xr-attrs'><dt><span>AREA_OR_POINT :</span></dt><dd>Area</dd><dt><span>_FillValue :</span></dt><dd>127</dd><dt><span>scale_factor :</span></dt><dd>1.0</dd><dt><span>add_offset :</span></dt><dd>0.0</dd></dl></div><div class='xr-var-data'><pre>[2048553957 values with dtype=uint8]</pre></div></li><li class='xr-var-item'><div class='xr-var-name'><span>s2_b4</span></div><div class='xr-var-dims'>(band, y, x)</div><div class='xr-var-dtype'>uint16</div><div class='xr-var-preview xr-preview'>...</div><input id='attrs-34d22d30-7356-4405-b672-40444f9f47f5' class='xr-var-attrs-in' type='checkbox' ><label for='attrs-34d22d30-7356-4405-b672-40444f9f47f5' title='Show/Hide attributes'><svg class='icon xr-icon-file-text2'><use xlink:href='#icon-file-text2'></use></svg></label><input id='data-424b929e-86f3-4501-9d96-baf3e05bb79a' class='xr-var-data-in' type='checkbox'><label for='data-424b929e-86f3-4501-9d96-baf3e05bb79a' title='Show/Hide data repr'><svg class='icon xr-icon-database'><use xlink:href='#icon-database'></use></svg></label><div class='xr-var-attrs'><dl class='xr-attrs'><dt><span>AREA_OR_POINT :</span></dt><dd>Area</dd><dt><span>_FillValue :</span></dt><dd>65535</dd><dt><span>scale_factor :</span></dt><dd>1.0</dd><dt><span>add_offset :</span></dt><dd>0.0</dd></dl></div><div class='xr-var-data'><pre>[2048553957 values with dtype=uint16]</pre></div></li><li class='xr-var-item'><div class='xr-var-name'><span>s2_b3</span></div><div class='xr-var-dims'>(band, y, x)</div><div class='xr-var-dtype'>uint16</div><div class='xr-var-preview xr-preview'>...</div><input id='attrs-518148a4-4317-4aa5-92f0-fe41b12a892c' class='xr-var-attrs-in' type='checkbox' ><label for='attrs-518148a4-4317-4aa5-92f0-fe41b12a892c' title='Show/Hide attributes'><svg class='icon xr-icon-file-text2'><use xlink:href='#icon-file-text2'></use></svg></label><input id='data-19b65dc4-1ca5-4ce7-bfa3-3415db923bd0' class='xr-var-data-in' type='checkbox'><label for='data-19b65dc4-1ca5-4ce7-bfa3-3415db923bd0' title='Show/Hide data repr'><svg class='icon xr-icon-database'><use xlink:href='#icon-database'></use></svg></label><div class='xr-var-attrs'><dl class='xr-attrs'><dt><span>AREA_OR_POINT :</span></dt><dd>Area</dd><dt><span>_FillValue :</span></dt><dd>65535</dd><dt><span>scale_factor :</span></dt><dd>1.0</dd><dt><span>add_offset :</span></dt><dd>0.0</dd></dl></div><div class='xr-var-data'><pre>[2048553957 values with dtype=uint16]</pre></div></li><li class='xr-var-item'><div class='xr-var-name'><span>s2_b2</span></div><div class='xr-var-dims'>(band, y, x)</div><div class='xr-var-dtype'>uint16</div><div class='xr-var-preview xr-preview'>...</div><input id='attrs-e55b5642-c7fa-4c2f-9d2c-27ae5dfde90f' class='xr-var-attrs-in' type='checkbox' ><label for='attrs-e55b5642-c7fa-4c2f-9d2c-27ae5dfde90f' title='Show/Hide attributes'><svg class='icon xr-icon-file-text2'><use xlink:href='#icon-file-text2'></use></svg></label><input id='data-c27ea2b1-ad68-4e61-848c-c48529d8242a' class='xr-var-data-in' type='checkbox'><label for='data-c27ea2b1-ad68-4e61-848c-c48529d8242a' title='Show/Hide data repr'><svg class='icon xr-icon-database'><use xlink:href='#icon-database'></use></svg></label><div class='xr-var-attrs'><dl class='xr-attrs'><dt><span>AREA_OR_POINT :</span></dt><dd>Area</dd><dt><span>_FillValue :</span></dt><dd>65535</dd><dt><span>scale_factor :</span></dt><dd>1.0</dd><dt><span>add_offset :</span></dt><dd>0.0</dd></dl></div><div class='xr-var-data'><pre>[2048553957 values with dtype=uint16]</pre></div></li><li class='xr-var-item'><div class='xr-var-name'><span>s2_nir</span></div><div class='xr-var-dims'>(band, y, x)</div><div class='xr-var-dtype'>uint16</div><div class='xr-var-preview xr-preview'>...</div><input id='attrs-f6e21697-7f91-429f-9f02-e1eb246fb1d6' class='xr-var-attrs-in' type='checkbox' ><label for='attrs-f6e21697-7f91-429f-9f02-e1eb246fb1d6' title='Show/Hide attributes'><svg class='icon xr-icon-file-text2'><use xlink:href='#icon-file-text2'></use></svg></label><input id='data-57d7df79-65c7-4bfa-8f1d-db7c8ffc0911' class='xr-var-data-in' type='checkbox'><label for='data-57d7df79-65c7-4bfa-8f1d-db7c8ffc0911' title='Show/Hide data repr'><svg class='icon xr-icon-database'><use xlink:href='#icon-database'></use></svg></label><div class='xr-var-attrs'><dl class='xr-attrs'><dt><span>AREA_OR_POINT :</span></dt><dd>Area</dd><dt><span>_FillValue :</span></dt><dd>65535</dd><dt><span>scale_factor :</span></dt><dd>1.0</dd><dt><span>add_offset :</span></dt><dd>0.0</dd></dl></div><div class='xr-var-data'><pre>[2048553957 values with dtype=uint16]</pre></div></li></ul></div></li><li class='xr-section-item'><input id='section-2102eb66-4032-488a-9648-7c2444fa4a5f' class='xr-section-summary-in' type='checkbox'  ><label for='section-2102eb66-4032-488a-9648-7c2444fa4a5f' class='xr-section-summary' >Indexes: <span>(3)</span></label><div class='xr-section-inline-details'></div><div class='xr-section-details'><ul class='xr-var-list'><li class='xr-var-item'><div class='xr-index-name'><div>band</div></div><div class='xr-index-preview'>PandasIndex</div><div></div><input id='index-45c7ef7f-f327-45c2-b0ab-3fa8d190e468' class='xr-index-data-in' type='checkbox'/><label for='index-45c7ef7f-f327-45c2-b0ab-3fa8d190e468' title='Show/Hide index repr'><svg class='icon xr-icon-database'><use xlink:href='#icon-database'></use></svg></label><div class='xr-index-data'><pre>PandasIndex(Int64Index([1], dtype=&#x27;int64&#x27;, name=&#x27;band&#x27;))</pre></div></li><li class='xr-var-item'><div class='xr-index-name'><div>x</div></div><div class='xr-index-preview'>PandasIndex</div><div></div><input id='index-baf178d8-c233-488b-810b-4eb04a0616ad' class='xr-index-data-in' type='checkbox'/><label for='index-baf178d8-c233-488b-810b-4eb04a0616ad' title='Show/Hide index repr'><svg class='icon xr-icon-database'><use xlink:href='#icon-database'></use></svg></label><div class='xr-index-data'><pre>PandasIndex(Float64Index([243095.91, 243105.91, 243115.91, 243125.91, 243135.91, 243145.91,\n",
       "              243155.91, 243165.91, 243175.91, 243185.91,\n",
       "              ...\n",
       "              627765.91, 627775.91, 627785.91, 627795.91, 627805.91, 627815.91,\n",
       "              627825.91, 627835.91, 627845.91, 627855.91],\n",
       "             dtype=&#x27;float64&#x27;, name=&#x27;x&#x27;, length=38477))</pre></div></li><li class='xr-var-item'><div class='xr-index-name'><div>y</div></div><div class='xr-index-preview'>PandasIndex</div><div></div><input id='index-af4b66d5-e1e4-4fba-acd1-1ad869fe8015' class='xr-index-data-in' type='checkbox'/><label for='index-af4b66d5-e1e4-4fba-acd1-1ad869fe8015' title='Show/Hide index repr'><svg class='icon xr-icon-database'><use xlink:href='#icon-database'></use></svg></label><div class='xr-index-data'><pre>PandasIndex(Float64Index([7776445.217, 7776435.217, 7776425.217, 7776415.217, 7776405.217,\n",
       "              7776395.217, 7776385.217, 7776375.217, 7776365.217, 7776355.217,\n",
       "              ...\n",
       "              7244135.217, 7244125.217, 7244115.217, 7244105.217, 7244095.217,\n",
       "              7244085.217, 7244075.217, 7244065.217, 7244055.217, 7244045.217],\n",
       "             dtype=&#x27;float64&#x27;, name=&#x27;y&#x27;, length=53241))</pre></div></li></ul></div></li><li class='xr-section-item'><input id='section-1fe3ea80-9633-4871-acd7-93533ef74d04' class='xr-section-summary-in' type='checkbox'  checked><label for='section-1fe3ea80-9633-4871-acd7-93533ef74d04' class='xr-section-summary' >Attributes: <span>(4)</span></label><div class='xr-section-inline-details'></div><div class='xr-section-details'><dl class='xr-attrs'><dt><span>AREA_OR_POINT :</span></dt><dd>Area</dd><dt><span>_FillValue :</span></dt><dd>255</dd><dt><span>scale_factor :</span></dt><dd>1.0</dd><dt><span>add_offset :</span></dt><dd>0.0</dd></dl></div></li></ul></div></div>"
      ],
      "text/plain": [
       "<xarray.Dataset>\n",
       "Dimensions:       (band: 1, x: 38477, y: 53241)\n",
       "Coordinates:\n",
       "  * band          (band) int64 1\n",
       "  * x             (x) float64 2.431e+05 2.431e+05 ... 6.278e+05 6.279e+05\n",
       "  * y             (y) float64 7.776e+06 7.776e+06 ... 7.244e+06 7.244e+06\n",
       "    spatial_ref   int64 0\n",
       "Data variables:\n",
       "    ndvi_max      (band, y, x) uint8 ...\n",
       "    dem           (band, y, x) float32 ...\n",
       "    tree_classes  (band, y, x) uint8 ...\n",
       "    veg_height    (band, y, x) uint8 ...\n",
       "    canopy_cover  (band, y, x) uint8 ...\n",
       "    s2_b4         (band, y, x) uint16 ...\n",
       "    s2_b3         (band, y, x) uint16 ...\n",
       "    s2_b2         (band, y, x) uint16 ...\n",
       "    s2_nir        (band, y, x) uint16 ...\n",
       "Attributes:\n",
       "    AREA_OR_POINT:  Area\n",
       "    _FillValue:     255\n",
       "    scale_factor:   1.0\n",
       "    add_offset:     0.0"
      ]
     },
     "execution_count": 6,
     "metadata": {},
     "output_type": "execute_result"
    }
   ],
   "source": [
    "cube"
   ]
  },
  {
   "cell_type": "markdown",
   "id": "a8057cc4-6ffc-410f-a546-3c1e7c47451c",
   "metadata": {},
   "source": [
    "## Store bands for point-eo sampling script"
   ]
  },
  {
   "cell_type": "code",
   "execution_count": 6,
   "id": "721f0ce0-218a-4a89-a3f3-41be874b5868",
   "metadata": {
    "tags": []
   },
   "outputs": [],
   "source": [
    "band_name_file = os.path.join(basepth,'band_names.txt')\n",
    "with open(band_name_file, 'w') as fp:\n",
    "    for item in band_names:\n",
    "        fp.write(\"%s\\n\" % item)"
   ]
  },
  {
   "cell_type": "markdown",
   "id": "2526e600-d353-428d-b972-69f7dd18600d",
   "metadata": {},
   "source": [
    "## Sample raster using point-eo for sampling\n",
    "Source: https://github.com/sykefi/point-eo\n",
    "\n",
    "Note that now sampling from xarray cube, requires modifications to point-eo tool that are installed locally"
   ]
  },
  {
   "cell_type": "code",
   "execution_count": 10,
   "id": "799e7f0b-aafe-441d-9188-c4333358e454",
   "metadata": {
    "tags": []
   },
   "outputs": [
    {
     "name": "stdout",
     "output_type": "stream",
     "text": [
      "Sampling xarray dataset using points from /scratch/project_2000630/geoportti/maanpeitetulkinnan_opetuspaketti/training_data/lucas2018_19_lappi.shp\n",
      "Using bandnames:\n",
      "['ndvi_max',\n",
      " 'dem',\n",
      " 'tree_classes',\n",
      " 'veg_height',\n",
      " 'canopy_cover',\n",
      " 's2_b4',\n",
      " 's2_b3',\n",
      " 's2_b2',\n",
      " 's2_nir']\n",
      "Saved outputs to /scratch/project_2000630/geoportti/maanpeitetulkinnan_opetuspaketti/point-eo-data/sampled/xarray__lucas2018_19_lappi__LCluokka.csv\n",
      "CPU times: user 36.5 s, sys: 11.6 s, total: 48.1 s\n",
      "Wall time: 1min\n"
     ]
    }
   ],
   "source": [
    "%%time\n",
    "input_shape = '/scratch/project_2000630/geoportti/maanpeitetulkinnan_opetuspaketti/training_data/lucas2018_19_lappi.shp'\n",
    "parser = argparse.ArgumentParser()\n",
    "subparsers = parser.add_subparsers(title=\"Available commands\", dest=\"script\")\n",
    "sample_xarray.add_args(subparsers)\n",
    "args = parser.parse_args(['sample_raster',\n",
    "    '--input', input_shape,\n",
    "    '--input_raster', 'dummy_placeholder',\n",
    "    '--target', 'LCluokka',\n",
    "    '--band_names', band_name_file,\n",
    "    '--out_folder', os.path.join(basepth,'sampled')])\n",
    "# Set input_raster to xarray variable\n",
    "args.input_raster = cube\n",
    "sample_xarray.main(args)"
   ]
  },
  {
   "cell_type": "code",
   "execution_count": 11,
   "id": "87ff3c81-8b0b-4923-bad5-06e00ac86183",
   "metadata": {
    "tags": []
   },
   "outputs": [],
   "source": [
    "df = pd.read_csv('/scratch/project_2000630/geoportti/maanpeitetulkinnan_opetuspaketti/point-eo-data/sampled/xarray__lucas2018_19_lappi__LCluokka.csv')"
   ]
  },
  {
   "cell_type": "code",
   "execution_count": 16,
   "id": "4f6e78b6-17e7-4f36-b504-691024fdd655",
   "metadata": {
    "tags": []
   },
   "outputs": [
    {
     "data": {
      "text/html": [
       "<div>\n",
       "<style scoped>\n",
       "    .dataframe tbody tr th:only-of-type {\n",
       "        vertical-align: middle;\n",
       "    }\n",
       "\n",
       "    .dataframe tbody tr th {\n",
       "        vertical-align: top;\n",
       "    }\n",
       "\n",
       "    .dataframe thead th {\n",
       "        text-align: right;\n",
       "    }\n",
       "</style>\n",
       "<table border=\"1\" class=\"dataframe\">\n",
       "  <thead>\n",
       "    <tr style=\"text-align: right;\">\n",
       "      <th></th>\n",
       "      <th>LCluokka</th>\n",
       "      <th>ndvi_max</th>\n",
       "      <th>dem</th>\n",
       "      <th>tree_classes</th>\n",
       "      <th>veg_height</th>\n",
       "      <th>canopy_cover</th>\n",
       "      <th>s2_b4</th>\n",
       "      <th>s2_b3</th>\n",
       "      <th>s2_b2</th>\n",
       "      <th>s2_nir</th>\n",
       "    </tr>\n",
       "  </thead>\n",
       "  <tbody>\n",
       "    <tr>\n",
       "      <th>0</th>\n",
       "      <td>6</td>\n",
       "      <td>112.0</td>\n",
       "      <td>859.72390</td>\n",
       "      <td>30.0</td>\n",
       "      <td>255.0</td>\n",
       "      <td>127.0</td>\n",
       "      <td>1047.0</td>\n",
       "      <td>977.0</td>\n",
       "      <td>841.0</td>\n",
       "      <td>1500.0</td>\n",
       "    </tr>\n",
       "    <tr>\n",
       "      <th>1</th>\n",
       "      <td>6</td>\n",
       "      <td>113.0</td>\n",
       "      <td>778.58010</td>\n",
       "      <td>30.0</td>\n",
       "      <td>255.0</td>\n",
       "      <td>127.0</td>\n",
       "      <td>1135.0</td>\n",
       "      <td>1103.0</td>\n",
       "      <td>995.0</td>\n",
       "      <td>1510.0</td>\n",
       "    </tr>\n",
       "    <tr>\n",
       "      <th>2</th>\n",
       "      <td>5</td>\n",
       "      <td>142.0</td>\n",
       "      <td>699.85986</td>\n",
       "      <td>30.0</td>\n",
       "      <td>255.0</td>\n",
       "      <td>127.0</td>\n",
       "      <td>743.0</td>\n",
       "      <td>730.0</td>\n",
       "      <td>600.0</td>\n",
       "      <td>2150.0</td>\n",
       "    </tr>\n",
       "    <tr>\n",
       "      <th>3</th>\n",
       "      <td>3</td>\n",
       "      <td>178.0</td>\n",
       "      <td>197.96394</td>\n",
       "      <td>11.0</td>\n",
       "      <td>4.0</td>\n",
       "      <td>15.0</td>\n",
       "      <td>224.0</td>\n",
       "      <td>423.0</td>\n",
       "      <td>271.0</td>\n",
       "      <td>3281.0</td>\n",
       "    </tr>\n",
       "    <tr>\n",
       "      <th>4</th>\n",
       "      <td>3</td>\n",
       "      <td>167.0</td>\n",
       "      <td>151.15020</td>\n",
       "      <td>11.0</td>\n",
       "      <td>3.0</td>\n",
       "      <td>2.0</td>\n",
       "      <td>267.0</td>\n",
       "      <td>429.0</td>\n",
       "      <td>311.0</td>\n",
       "      <td>2159.0</td>\n",
       "    </tr>\n",
       "    <tr>\n",
       "      <th>...</th>\n",
       "      <td>...</td>\n",
       "      <td>...</td>\n",
       "      <td>...</td>\n",
       "      <td>...</td>\n",
       "      <td>...</td>\n",
       "      <td>...</td>\n",
       "      <td>...</td>\n",
       "      <td>...</td>\n",
       "      <td>...</td>\n",
       "      <td>...</td>\n",
       "    </tr>\n",
       "    <tr>\n",
       "      <th>2593</th>\n",
       "      <td>8</td>\n",
       "      <td>143.0</td>\n",
       "      <td>190.24814</td>\n",
       "      <td>11.0</td>\n",
       "      <td>0.0</td>\n",
       "      <td>0.0</td>\n",
       "      <td>439.0</td>\n",
       "      <td>428.0</td>\n",
       "      <td>343.0</td>\n",
       "      <td>1717.0</td>\n",
       "    </tr>\n",
       "    <tr>\n",
       "      <th>2594</th>\n",
       "      <td>5</td>\n",
       "      <td>160.0</td>\n",
       "      <td>237.98238</td>\n",
       "      <td>30.0</td>\n",
       "      <td>255.0</td>\n",
       "      <td>127.0</td>\n",
       "      <td>491.0</td>\n",
       "      <td>561.0</td>\n",
       "      <td>346.0</td>\n",
       "      <td>2536.0</td>\n",
       "    </tr>\n",
       "    <tr>\n",
       "      <th>2595</th>\n",
       "      <td>3</td>\n",
       "      <td>155.0</td>\n",
       "      <td>173.44019</td>\n",
       "      <td>11.0</td>\n",
       "      <td>47.0</td>\n",
       "      <td>20.0</td>\n",
       "      <td>383.0</td>\n",
       "      <td>468.0</td>\n",
       "      <td>328.0</td>\n",
       "      <td>1888.0</td>\n",
       "    </tr>\n",
       "    <tr>\n",
       "      <th>2596</th>\n",
       "      <td>8</td>\n",
       "      <td>156.0</td>\n",
       "      <td>226.75183</td>\n",
       "      <td>30.0</td>\n",
       "      <td>0.0</td>\n",
       "      <td>0.0</td>\n",
       "      <td>625.0</td>\n",
       "      <td>613.0</td>\n",
       "      <td>399.0</td>\n",
       "      <td>2489.0</td>\n",
       "    </tr>\n",
       "    <tr>\n",
       "      <th>2597</th>\n",
       "      <td>5</td>\n",
       "      <td>150.0</td>\n",
       "      <td>454.34375</td>\n",
       "      <td>30.0</td>\n",
       "      <td>255.0</td>\n",
       "      <td>127.0</td>\n",
       "      <td>546.0</td>\n",
       "      <td>503.0</td>\n",
       "      <td>310.0</td>\n",
       "      <td>2004.0</td>\n",
       "    </tr>\n",
       "  </tbody>\n",
       "</table>\n",
       "<p>2598 rows × 10 columns</p>\n",
       "</div>"
      ],
      "text/plain": [
       "      LCluokka  ndvi_max        dem  tree_classes  veg_height  canopy_cover  \\\n",
       "0            6     112.0  859.72390          30.0       255.0         127.0   \n",
       "1            6     113.0  778.58010          30.0       255.0         127.0   \n",
       "2            5     142.0  699.85986          30.0       255.0         127.0   \n",
       "3            3     178.0  197.96394          11.0         4.0          15.0   \n",
       "4            3     167.0  151.15020          11.0         3.0           2.0   \n",
       "...        ...       ...        ...           ...         ...           ...   \n",
       "2593         8     143.0  190.24814          11.0         0.0           0.0   \n",
       "2594         5     160.0  237.98238          30.0       255.0         127.0   \n",
       "2595         3     155.0  173.44019          11.0        47.0          20.0   \n",
       "2596         8     156.0  226.75183          30.0         0.0           0.0   \n",
       "2597         5     150.0  454.34375          30.0       255.0         127.0   \n",
       "\n",
       "       s2_b4   s2_b3  s2_b2  s2_nir  \n",
       "0     1047.0   977.0  841.0  1500.0  \n",
       "1     1135.0  1103.0  995.0  1510.0  \n",
       "2      743.0   730.0  600.0  2150.0  \n",
       "3      224.0   423.0  271.0  3281.0  \n",
       "4      267.0   429.0  311.0  2159.0  \n",
       "...      ...     ...    ...     ...  \n",
       "2593   439.0   428.0  343.0  1717.0  \n",
       "2594   491.0   561.0  346.0  2536.0  \n",
       "2595   383.0   468.0  328.0  1888.0  \n",
       "2596   625.0   613.0  399.0  2489.0  \n",
       "2597   546.0   503.0  310.0  2004.0  \n",
       "\n",
       "[2598 rows x 10 columns]"
      ]
     },
     "execution_count": 16,
     "metadata": {},
     "output_type": "execute_result"
    }
   ],
   "source": [
    "df"
   ]
  },
  {
   "cell_type": "markdown",
   "id": "20593f98-cf2c-44d6-be05-579a49647913",
   "metadata": {},
   "source": [
    "## Training with TPOT AutoML-tool"
   ]
  },
  {
   "cell_type": "code",
   "execution_count": 3,
   "id": "29f32801-48ad-49e3-a694-01559ea34f76",
   "metadata": {
    "tags": []
   },
   "outputs": [
    {
     "name": "stdout",
     "output_type": "stream",
     "text": [
      "\u001b[1mColumns. First one is chosen as target\u001b[0m\n",
      "Index\t\tColumn\n",
      "0\t\tLCluokka\n",
      "1\t\tndvi_max\n",
      "2\t\tdem\n",
      "3\t\ttree_classes\n",
      "4\t\tveg_height\n",
      "5\t\tcanopy_cover\n",
      "6\t\ts2_b4\n",
      "7\t\ts2_b3\n",
      "8\t\ts2_b2\n",
      "9\t\ts2_nir\n",
      "\n",
      "\u001b[1m\n",
      "Target class distribution\u001b[0m\n",
      "label\tcount\n",
      "\n",
      "Classes smaller than 6 are removed:\n",
      "[]\n",
      "\n",
      "Shape of X: (2598, 9)\n",
      "Processing...\n"
     ]
    },
    {
     "data": {
      "application/vnd.jupyter.widget-view+json": {
       "model_id": "",
       "version_major": 2,
       "version_minor": 0
      },
      "text/plain": [
       "Optimization Progress:   0%|          | 0/1100 [00:00<?, ?pipeline/s]"
      ]
     },
     "metadata": {},
     "output_type": "display_data"
    },
    {
     "name": "stdout",
     "output_type": "stream",
     "text": [
      "\n",
      "Generation 1 - Current best internal CV score: 0.7117238183503243\n",
      "\n",
      "Generation 2 - Current best internal CV score: 0.7131580166821131\n",
      "\n",
      "Generation 3 - Current best internal CV score: 0.7146014828544949\n",
      "\n",
      "Generation 4 - Current best internal CV score: 0.7160495829471734\n",
      "\n",
      "Generation 5 - Current best internal CV score: 0.7189341983317888\n",
      "\n",
      "Generation 6 - Current best internal CV score: 0.7189341983317888\n",
      "\n",
      "Generation 7 - Current best internal CV score: 0.7189341983317888\n",
      "\n",
      "Generation 8 - Current best internal CV score: 0.7189341983317888\n",
      "\n",
      "Generation 9 - Current best internal CV score: 0.7189341983317888\n",
      "\n",
      "Generation 10 - Current best internal CV score: 0.7189492585727526\n",
      "\n",
      "Best pipeline: ExtraTreesClassifier(SelectPercentile(input_matrix, percentile=51), bootstrap=True, criterion=gini, max_features=0.6000000000000001, min_samples_leaf=1, min_samples_split=9, n_estimators=100)\n",
      "Done\n",
      "\n",
      " RUN STATISTICS:\n",
      "0.7096153846153846\n",
      "\u001b[1m\n",
      "Fold 0:\u001b[0m\n",
      "\n",
      "RF:\n",
      "RandomForestClassifier()\n",
      "Accuracy: 0.715\n",
      "Precision: 0.678\n",
      "F1: 0.685\n",
      "\n",
      "TPOT AutoML:\n",
      "Pipeline(steps=[('selectpercentile', SelectPercentile(percentile=51)),\n",
      "                ('extratreesclassifier',\n",
      "                 ExtraTreesClassifier(bootstrap=True,\n",
      "                                      max_features=0.6000000000000001,\n",
      "                                      min_samples_split=9, random_state=42))])\n",
      "Accuracy: 0.710\n",
      "Precision: 0.672\n",
      "F1: 0.664\n",
      "\u001b[1m\n",
      "Fold 1:\u001b[0m\n",
      "\n",
      "RF:\n",
      "RandomForestClassifier()\n",
      "Accuracy: 0.719\n",
      "Precision: 0.681\n",
      "F1: 0.690\n",
      "\n",
      "TPOT AutoML:\n",
      "Pipeline(steps=[('selectpercentile', SelectPercentile(percentile=51)),\n",
      "                ('extratreesclassifier',\n",
      "                 ExtraTreesClassifier(bootstrap=True,\n",
      "                                      max_features=0.6000000000000001,\n",
      "                                      min_samples_split=9, random_state=42))])\n",
      "Accuracy: 0.737\n",
      "Precision: 0.745\n",
      "F1: 0.678\n",
      "\u001b[1m\n",
      "Fold 2:\u001b[0m\n",
      "\n",
      "RF:\n",
      "RandomForestClassifier()\n",
      "Accuracy: 0.719\n",
      "Precision: 0.671\n",
      "F1: 0.685\n",
      "\n",
      "TPOT AutoML:\n",
      "Pipeline(steps=[('selectpercentile', SelectPercentile(percentile=51)),\n",
      "                ('extratreesclassifier',\n",
      "                 ExtraTreesClassifier(bootstrap=True,\n",
      "                                      max_features=0.6000000000000001,\n",
      "                                      min_samples_split=9, random_state=42))])\n",
      "Accuracy: 0.723\n",
      "Precision: 0.681\n",
      "F1: 0.679\n",
      "\u001b[1m\n",
      "Fold 3:\u001b[0m\n",
      "\n",
      "RF:\n",
      "RandomForestClassifier()\n",
      "Accuracy: 0.719\n",
      "Precision: 0.685\n",
      "F1: 0.695\n",
      "\n",
      "TPOT AutoML:\n",
      "Pipeline(steps=[('selectpercentile', SelectPercentile(percentile=51)),\n",
      "                ('extratreesclassifier',\n",
      "                 ExtraTreesClassifier(bootstrap=True,\n",
      "                                      max_features=0.6000000000000001,\n",
      "                                      min_samples_split=9, random_state=42))])\n",
      "Accuracy: 0.707\n",
      "Precision: 0.659\n",
      "F1: 0.668\n",
      "\u001b[1m\n",
      "Fold 4:\u001b[0m\n",
      "\n",
      "RF:\n",
      "RandomForestClassifier()\n",
      "Accuracy: 0.713\n",
      "Precision: 0.674\n",
      "F1: 0.682\n",
      "\n",
      "TPOT AutoML:\n",
      "Pipeline(steps=[('selectpercentile', SelectPercentile(percentile=51)),\n",
      "                ('extratreesclassifier',\n",
      "                 ExtraTreesClassifier(bootstrap=True,\n",
      "                                      max_features=0.6000000000000001,\n",
      "                                      min_samples_split=9, random_state=42))])\n",
      "Accuracy: 0.701\n",
      "Precision: 0.619\n",
      "F1: 0.649\n",
      "\u001b[1m\n",
      "\n",
      "FINAL RESULTS:\u001b[0m\n",
      "\n",
      "RF results:\n",
      "Accuracy: 0.717\n",
      "Precision: 0.675\n",
      "F1: 0.688\n",
      "\n",
      "TPOT AutoML results:\n",
      "Accuracy: 0.716\n",
      "Precision: 0.659\n",
      "F1: 0.667\n",
      "\n",
      "Saving model to /scratch/project_2000630/geoportti/maanpeitetulkinnan_opetuspaketti/point-eo-data/tpot_train/myexperiment_acc0.7156_240206T141248.py\n"
     ]
    }
   ],
   "source": [
    "####  tpot, model is later used with analysis\n",
    "parser = argparse.ArgumentParser()\n",
    "subparsers = parser.add_subparsers(title=\"Available commands\", dest=\"script\")\n",
    "tpot_train.add_args(subparsers)\n",
    "args = parser.parse_args(['tpot_train',\n",
    "    '--input', os.path.join(basepth,'sampled','xarray__lucas2018_19_lappi__LCluokka.csv'),\n",
    "    '--out_folder', os.path.join(basepth,'tpot_train'),\n",
    "    '--out_prefix','myexperiment',\n",
    "    '--population_size','100',\n",
    "    '--generations','10',\n",
    "    '--decimal', '.',\n",
    "    '--sep',','])\n",
    "tpot_train.main(args)"
   ]
  },
  {
   "cell_type": "code",
   "execution_count": 8,
   "id": "4d9e0646-dc62-4462-9a2c-2c43cf1661c2",
   "metadata": {
    "tags": []
   },
   "outputs": [
    {
     "name": "stderr",
     "output_type": "stream",
     "text": [
      "Input csv: /scratch/project_2000630/geoportti/maanpeitetulkinnan_opetuspaketti/point-eo-data/sampled/xarray__lucas2018_19_lappi__LCluokka.csv\n",
      "Input csv: /scratch/project_2000630/geoportti/maanpeitetulkinnan_opetuspaketti/point-eo-data/sampled/xarray__lucas2018_19_lappi__LCluokka.csv\n",
      "Input csv: /scratch/project_2000630/geoportti/maanpeitetulkinnan_opetuspaketti/point-eo-data/sampled/xarray__lucas2018_19_lappi__LCluokka.csv\n",
      "Input csv: /scratch/project_2000630/geoportti/maanpeitetulkinnan_opetuspaketti/point-eo-data/sampled/xarray__lucas2018_19_lappi__LCluokka.csv\n",
      "Input csv: /scratch/project_2000630/geoportti/maanpeitetulkinnan_opetuspaketti/point-eo-data/sampled/xarray__lucas2018_19_lappi__LCluokka.csv\n",
      "Model: /scratch/project_2000630/geoportti/maanpeitetulkinnan_opetuspaketti/point-eo-data/tpot_train/myexperiment_acc0.7156_240206T141248.py\n",
      "Model: /scratch/project_2000630/geoportti/maanpeitetulkinnan_opetuspaketti/point-eo-data/tpot_train/myexperiment_acc0.7156_240206T141248.py\n",
      "Model: /scratch/project_2000630/geoportti/maanpeitetulkinnan_opetuspaketti/point-eo-data/tpot_train/myexperiment_acc0.7156_240206T141248.py\n",
      "Model: /scratch/project_2000630/geoportti/maanpeitetulkinnan_opetuspaketti/point-eo-data/tpot_train/myexperiment_acc0.7156_240206T141248.py\n",
      "Model: /scratch/project_2000630/geoportti/maanpeitetulkinnan_opetuspaketti/point-eo-data/tpot_train/myexperiment_acc0.7156_240206T141248.py\n",
      "\n",
      "\n",
      "### Data info ###\n",
      "\n",
      "\n",
      "\n",
      "### Data info ###\n",
      "\n",
      "\n",
      "\n",
      "### Data info ###\n",
      "\n",
      "\n",
      "\n",
      "### Data info ###\n",
      "\n",
      "\n",
      "\n",
      "### Data info ###\n",
      "\n",
      "\u001b[1m\u001b[92mColumns. First one is chosen as target\u001b[0m\n",
      "\u001b[1m\u001b[92mColumns. First one is chosen as target\u001b[0m\n",
      "\u001b[1m\u001b[92mColumns. First one is chosen as target\u001b[0m\n",
      "\u001b[1m\u001b[92mColumns. First one is chosen as target\u001b[0m\n",
      "\u001b[1m\u001b[92mColumns. First one is chosen as target\u001b[0m\n",
      "Index\t\tColumn\n",
      "Index\t\tColumn\n",
      "Index\t\tColumn\n",
      "Index\t\tColumn\n",
      "Index\t\tColumn\n",
      "\u001b[92m0\t\tLCluokka\n",
      "\u001b[92m0\t\tLCluokka\n",
      "\u001b[92m0\t\tLCluokka\n",
      "\u001b[92m0\t\tLCluokka\n",
      "\u001b[92m0\t\tLCluokka\n",
      "\u001b[94m1\t\tndvi_max\u001b[0m\n",
      "\u001b[94m1\t\tndvi_max\u001b[0m\n",
      "\u001b[94m1\t\tndvi_max\u001b[0m\n",
      "\u001b[94m1\t\tndvi_max\u001b[0m\n",
      "\u001b[94m1\t\tndvi_max\u001b[0m\n",
      "\u001b[94m2\t\tdem\u001b[0m\n",
      "\u001b[94m2\t\tdem\u001b[0m\n",
      "\u001b[94m2\t\tdem\u001b[0m\n",
      "\u001b[94m2\t\tdem\u001b[0m\n",
      "\u001b[94m2\t\tdem\u001b[0m\n",
      "\u001b[94m3\t\ttree_classes\u001b[0m\n",
      "\u001b[94m3\t\ttree_classes\u001b[0m\n",
      "\u001b[94m3\t\ttree_classes\u001b[0m\n",
      "\u001b[94m3\t\ttree_classes\u001b[0m\n",
      "\u001b[94m3\t\ttree_classes\u001b[0m\n",
      "\u001b[94m4\t\tveg_height\u001b[0m\n",
      "\u001b[94m4\t\tveg_height\u001b[0m\n",
      "\u001b[94m4\t\tveg_height\u001b[0m\n",
      "\u001b[94m4\t\tveg_height\u001b[0m\n",
      "\u001b[94m4\t\tveg_height\u001b[0m\n",
      "\u001b[94m5\t\tcanopy_cover\u001b[0m\n",
      "\u001b[94m5\t\tcanopy_cover\u001b[0m\n",
      "\u001b[94m5\t\tcanopy_cover\u001b[0m\n",
      "\u001b[94m5\t\tcanopy_cover\u001b[0m\n",
      "\u001b[94m5\t\tcanopy_cover\u001b[0m\n",
      "\u001b[94m6\t\ts2_b4\u001b[0m\n",
      "\u001b[94m6\t\ts2_b4\u001b[0m\n",
      "\u001b[94m6\t\ts2_b4\u001b[0m\n",
      "\u001b[94m6\t\ts2_b4\u001b[0m\n",
      "\u001b[94m6\t\ts2_b4\u001b[0m\n",
      "\u001b[94m7\t\ts2_b3\u001b[0m\n",
      "\u001b[94m7\t\ts2_b3\u001b[0m\n",
      "\u001b[94m7\t\ts2_b3\u001b[0m\n",
      "\u001b[94m7\t\ts2_b3\u001b[0m\n",
      "\u001b[94m7\t\ts2_b3\u001b[0m\n",
      "\u001b[94m8\t\ts2_b2\u001b[0m\n",
      "\u001b[94m8\t\ts2_b2\u001b[0m\n",
      "\u001b[94m8\t\ts2_b2\u001b[0m\n",
      "\u001b[94m8\t\ts2_b2\u001b[0m\n",
      "\u001b[94m8\t\ts2_b2\u001b[0m\n",
      "\u001b[94m9\t\ts2_nir\u001b[0m\n",
      "\u001b[94m9\t\ts2_nir\u001b[0m\n",
      "\u001b[94m9\t\ts2_nir\u001b[0m\n",
      "\u001b[94m9\t\ts2_nir\u001b[0m\n",
      "\u001b[94m9\t\ts2_nir\u001b[0m\n",
      "\n",
      "\n",
      "\n",
      "\n",
      "\n",
      "\n",
      "\n",
      "\n",
      "\n",
      "\n",
      "Shape of data table:\n",
      "rows: 2598\n",
      "columns: 10\n",
      "Shape of data table:\n",
      "rows: 2598\n",
      "columns: 10\n",
      "Shape of data table:\n",
      "rows: 2598\n",
      "columns: 10\n",
      "Shape of data table:\n",
      "rows: 2598\n",
      "columns: 10\n",
      "Shape of data table:\n",
      "rows: 2598\n",
      "columns: 10\n",
      "\u001b[1m\u001b[92m\n",
      "Target class distribution\u001b[0m\n",
      "\u001b[1m\u001b[92m\n",
      "Target class distribution\u001b[0m\n",
      "\u001b[1m\u001b[92m\n",
      "Target class distribution\u001b[0m\n",
      "\u001b[1m\u001b[92m\n",
      "Target class distribution\u001b[0m\n",
      "\u001b[1m\u001b[92m\n",
      "Target class distribution\u001b[0m\n",
      "label\tcount\n",
      "label\tcount\n",
      "label\tcount\n",
      "label\tcount\n",
      "label\tcount\n",
      "3    1271\n",
      "8     741\n",
      "4     235\n",
      "5     194\n",
      "0      52\n",
      "6      42\n",
      "7      38\n",
      "2      17\n",
      "1       8\n",
      "Name: LCluokka, dtype: int64\n",
      "3    1271\n",
      "8     741\n",
      "4     235\n",
      "5     194\n",
      "0      52\n",
      "6      42\n",
      "7      38\n",
      "2      17\n",
      "1       8\n",
      "Name: LCluokka, dtype: int64\n",
      "3    1271\n",
      "8     741\n",
      "4     235\n",
      "5     194\n",
      "0      52\n",
      "6      42\n",
      "7      38\n",
      "2      17\n",
      "1       8\n",
      "Name: LCluokka, dtype: int64\n",
      "3    1271\n",
      "8     741\n",
      "4     235\n",
      "5     194\n",
      "0      52\n",
      "6      42\n",
      "7      38\n",
      "2      17\n",
      "1       8\n",
      "Name: LCluokka, dtype: int64\n",
      "3    1271\n",
      "8     741\n",
      "4     235\n",
      "5     194\n",
      "0      52\n",
      "6      42\n",
      "7      38\n",
      "2      17\n",
      "1       8\n",
      "Name: LCluokka, dtype: int64\n",
      "\n",
      "\n",
      "\n",
      "\n",
      "\n",
      "\n",
      "\n",
      "\n",
      "\n",
      "\n",
      "\u001b[1m\u001b[91m\n",
      "\n",
      "### Starting cross-validation ###\n",
      "\u001b[0m\n",
      "\u001b[1m\u001b[91m\n",
      "\n",
      "### Starting cross-validation ###\n",
      "\u001b[0m\n",
      "\u001b[1m\u001b[91m\n",
      "\n",
      "### Starting cross-validation ###\n",
      "\u001b[0m\n",
      "\u001b[1m\u001b[91m\n",
      "\n",
      "### Starting cross-validation ###\n",
      "\u001b[0m\n",
      "\u001b[1m\u001b[91m\n",
      "\n",
      "### Starting cross-validation ###\n",
      "\u001b[0m\n",
      "Pipeline(steps=[('selectpercentile', SelectPercentile(percentile=51)),\n",
      "                ('extratreesclassifier',\n",
      "                 ExtraTreesClassifier(bootstrap=True,\n",
      "                                      max_features=0.6000000000000001,\n",
      "                                      min_samples_split=9, random_state=42))])\n",
      "Pipeline(steps=[('selectpercentile', SelectPercentile(percentile=51)),\n",
      "                ('extratreesclassifier',\n",
      "                 ExtraTreesClassifier(bootstrap=True,\n",
      "                                      max_features=0.6000000000000001,\n",
      "                                      min_samples_split=9, random_state=42))])\n",
      "Pipeline(steps=[('selectpercentile', SelectPercentile(percentile=51)),\n",
      "                ('extratreesclassifier',\n",
      "                 ExtraTreesClassifier(bootstrap=True,\n",
      "                                      max_features=0.6000000000000001,\n",
      "                                      min_samples_split=9, random_state=42))])\n",
      "Pipeline(steps=[('selectpercentile', SelectPercentile(percentile=51)),\n",
      "                ('extratreesclassifier',\n",
      "                 ExtraTreesClassifier(bootstrap=True,\n",
      "                                      max_features=0.6000000000000001,\n",
      "                                      min_samples_split=9, random_state=42))])\n",
      "Pipeline(steps=[('selectpercentile', SelectPercentile(percentile=51)),\n",
      "                ('extratreesclassifier',\n",
      "                 ExtraTreesClassifier(bootstrap=True,\n",
      "                                      max_features=0.6000000000000001,\n",
      "                                      min_samples_split=9, random_state=42))])\n",
      "\u001b[94m\n",
      "Fold 0:\u001b[0m\n",
      "\u001b[94m\n",
      "Fold 0:\u001b[0m\n",
      "\u001b[94m\n",
      "Fold 0:\u001b[0m\n",
      "\u001b[94m\n",
      "Fold 0:\u001b[0m\n",
      "\u001b[94m\n",
      "Fold 0:\u001b[0m\n",
      "Accuracy: 0.713\n",
      "Precision: 0.624\n",
      "F1: 0.659\n",
      "Accuracy: 0.713\n",
      "Precision: 0.624\n",
      "F1: 0.659\n",
      "Accuracy: 0.713\n",
      "Precision: 0.624\n",
      "F1: 0.659\n",
      "Accuracy: 0.713\n",
      "Precision: 0.624\n",
      "F1: 0.659\n",
      "Accuracy: 0.713\n",
      "Precision: 0.624\n",
      "F1: 0.659\n",
      "\u001b[94m\n",
      "Fold 1:\u001b[0m\n",
      "\u001b[94m\n",
      "Fold 1:\u001b[0m\n",
      "\u001b[94m\n",
      "Fold 1:\u001b[0m\n",
      "\u001b[94m\n",
      "Fold 1:\u001b[0m\n",
      "\u001b[94m\n",
      "Fold 1:\u001b[0m\n",
      "Accuracy: 0.725\n",
      "Precision: 0.662\n",
      "F1: 0.674\n",
      "Accuracy: 0.725\n",
      "Precision: 0.662\n",
      "F1: 0.674\n",
      "Accuracy: 0.725\n",
      "Precision: 0.662\n",
      "F1: 0.674\n",
      "Accuracy: 0.725\n",
      "Precision: 0.662\n",
      "F1: 0.674\n",
      "Accuracy: 0.725\n",
      "Precision: 0.662\n",
      "F1: 0.674\n",
      "\u001b[94m\n",
      "Fold 2:\u001b[0m\n",
      "\u001b[94m\n",
      "Fold 2:\u001b[0m\n",
      "\u001b[94m\n",
      "Fold 2:\u001b[0m\n",
      "\u001b[94m\n",
      "Fold 2:\u001b[0m\n",
      "\u001b[94m\n",
      "Fold 2:\u001b[0m\n",
      "Accuracy: 0.723\n",
      "Precision: 0.665\n",
      "F1: 0.674\n",
      "Accuracy: 0.723\n",
      "Precision: 0.665\n",
      "F1: 0.674\n",
      "Accuracy: 0.723\n",
      "Precision: 0.665\n",
      "F1: 0.674\n",
      "Accuracy: 0.723\n",
      "Precision: 0.665\n",
      "F1: 0.674\n",
      "Accuracy: 0.723\n",
      "Precision: 0.665\n",
      "F1: 0.674\n",
      "\u001b[94m\n",
      "Fold 3:\u001b[0m\n",
      "\u001b[94m\n",
      "Fold 3:\u001b[0m\n",
      "\u001b[94m\n",
      "Fold 3:\u001b[0m\n",
      "\u001b[94m\n",
      "Fold 3:\u001b[0m\n",
      "\u001b[94m\n",
      "Fold 3:\u001b[0m\n",
      "Accuracy: 0.728\n",
      "Precision: 0.678\n",
      "F1: 0.684\n",
      "Accuracy: 0.728\n",
      "Precision: 0.678\n",
      "F1: 0.684\n",
      "Accuracy: 0.728\n",
      "Precision: 0.678\n",
      "F1: 0.684\n",
      "Accuracy: 0.728\n",
      "Precision: 0.678\n",
      "F1: 0.684\n",
      "Accuracy: 0.728\n",
      "Precision: 0.678\n",
      "F1: 0.684\n",
      "\u001b[94m\n",
      "Fold 4:\u001b[0m\n",
      "\u001b[94m\n",
      "Fold 4:\u001b[0m\n",
      "\u001b[94m\n",
      "Fold 4:\u001b[0m\n",
      "\u001b[94m\n",
      "Fold 4:\u001b[0m\n",
      "\u001b[94m\n",
      "Fold 4:\u001b[0m\n",
      "Accuracy: 0.713\n",
      "Precision: 0.658\n",
      "F1: 0.671\n",
      "Accuracy: 0.713\n",
      "Precision: 0.658\n",
      "F1: 0.671\n",
      "Accuracy: 0.713\n",
      "Precision: 0.658\n",
      "F1: 0.671\n",
      "Accuracy: 0.713\n",
      "Precision: 0.658\n",
      "F1: 0.671\n",
      "Accuracy: 0.713\n",
      "Precision: 0.658\n",
      "F1: 0.671\n",
      "\u001b[1m\u001b[92m\n",
      "Overall results:\n",
      "\u001b[1m\u001b[92m\n",
      "Overall results:\n",
      "\u001b[1m\u001b[92m\n",
      "Overall results:\n",
      "\u001b[1m\u001b[92m\n",
      "Overall results:\n",
      "\u001b[1m\u001b[92m\n",
      "Overall results:\n",
      "Accuracy: 0.721\n",
      "Precision: 0.663\n",
      "F1: 0.673\n",
      "Accuracy: 0.721\n",
      "Precision: 0.663\n",
      "F1: 0.673\n",
      "Accuracy: 0.721\n",
      "Precision: 0.663\n",
      "F1: 0.673\n",
      "Accuracy: 0.721\n",
      "Precision: 0.663\n",
      "F1: 0.673\n",
      "Accuracy: 0.721\n",
      "Precision: 0.663\n",
      "F1: 0.673\n",
      "\u001b[0m\n",
      "\u001b[0m\n",
      "\u001b[0m\n",
      "\u001b[0m\n",
      "\u001b[0m\n",
      "Using categorical units to plot a list of strings that are all parsable as floats or dates. If these strings should be plotted as numbers, cast to the appropriate data type before plotting.\n",
      "Using categorical units to plot a list of strings that are all parsable as floats or dates. If these strings should be plotted as numbers, cast to the appropriate data type before plotting.\n",
      "Using categorical units to plot a list of strings that are all parsable as floats or dates. If these strings should be plotted as numbers, cast to the appropriate data type before plotting.\n",
      "Using categorical units to plot a list of strings that are all parsable as floats or dates. If these strings should be plotted as numbers, cast to the appropriate data type before plotting.\n",
      "Using categorical units to plot a list of strings that are all parsable as floats or dates. If these strings should be plotted as numbers, cast to the appropriate data type before plotting.\n",
      "Using categorical units to plot a list of strings that are all parsable as floats or dates. If these strings should be plotted as numbers, cast to the appropriate data type before plotting.\n",
      "Using categorical units to plot a list of strings that are all parsable as floats or dates. If these strings should be plotted as numbers, cast to the appropriate data type before plotting.\n",
      "Using categorical units to plot a list of strings that are all parsable as floats or dates. If these strings should be plotted as numbers, cast to the appropriate data type before plotting.\n",
      "Using categorical units to plot a list of strings that are all parsable as floats or dates. If these strings should be plotted as numbers, cast to the appropriate data type before plotting.\n",
      "Using categorical units to plot a list of strings that are all parsable as floats or dates. If these strings should be plotted as numbers, cast to the appropriate data type before plotting.\n",
      "Using categorical units to plot a list of strings that are all parsable as floats or dates. If these strings should be plotted as numbers, cast to the appropriate data type before plotting.\n",
      "Using categorical units to plot a list of strings that are all parsable as floats or dates. If these strings should be plotted as numbers, cast to the appropriate data type before plotting.\n",
      "Using categorical units to plot a list of strings that are all parsable as floats or dates. If these strings should be plotted as numbers, cast to the appropriate data type before plotting.\n",
      "Using categorical units to plot a list of strings that are all parsable as floats or dates. If these strings should be plotted as numbers, cast to the appropriate data type before plotting.\n",
      "Using categorical units to plot a list of strings that are all parsable as floats or dates. If these strings should be plotted as numbers, cast to the appropriate data type before plotting.\n",
      "Using categorical units to plot a list of strings that are all parsable as floats or dates. If these strings should be plotted as numbers, cast to the appropriate data type before plotting.\n",
      "Using categorical units to plot a list of strings that are all parsable as floats or dates. If these strings should be plotted as numbers, cast to the appropriate data type before plotting.\n",
      "Using categorical units to plot a list of strings that are all parsable as floats or dates. If these strings should be plotted as numbers, cast to the appropriate data type before plotting.\n",
      "Using categorical units to plot a list of strings that are all parsable as floats or dates. If these strings should be plotted as numbers, cast to the appropriate data type before plotting.\n",
      "Using categorical units to plot a list of strings that are all parsable as floats or dates. If these strings should be plotted as numbers, cast to the appropriate data type before plotting.\n",
      "Using categorical units to plot a list of strings that are all parsable as floats or dates. If these strings should be plotted as numbers, cast to the appropriate data type before plotting.\n",
      "Using categorical units to plot a list of strings that are all parsable as floats or dates. If these strings should be plotted as numbers, cast to the appropriate data type before plotting.\n",
      "Using categorical units to plot a list of strings that are all parsable as floats or dates. If these strings should be plotted as numbers, cast to the appropriate data type before plotting.\n",
      "Using categorical units to plot a list of strings that are all parsable as floats or dates. If these strings should be plotted as numbers, cast to the appropriate data type before plotting.\n",
      "Using categorical units to plot a list of strings that are all parsable as floats or dates. If these strings should be plotted as numbers, cast to the appropriate data type before plotting.\n",
      "Using categorical units to plot a list of strings that are all parsable as floats or dates. If these strings should be plotted as numbers, cast to the appropriate data type before plotting.\n",
      "Using categorical units to plot a list of strings that are all parsable as floats or dates. If these strings should be plotted as numbers, cast to the appropriate data type before plotting.\n",
      "Using categorical units to plot a list of strings that are all parsable as floats or dates. If these strings should be plotted as numbers, cast to the appropriate data type before plotting.\n",
      "Using categorical units to plot a list of strings that are all parsable as floats or dates. If these strings should be plotted as numbers, cast to the appropriate data type before plotting.\n",
      "Using categorical units to plot a list of strings that are all parsable as floats or dates. If these strings should be plotted as numbers, cast to the appropriate data type before plotting.\n",
      "              precision    recall  f1-score   support\n",
      "\n",
      "           0       0.56      0.10      0.16        52\n",
      "           1       0.00      0.00      0.00         8\n",
      "           2       0.00      0.00      0.00        17\n",
      "           3       0.80      0.91      0.85      1271\n",
      "           4       0.20      0.04      0.06       235\n",
      "           5       0.50      0.20      0.28       194\n",
      "           6       0.58      0.36      0.44        42\n",
      "           7       0.80      0.74      0.77        38\n",
      "           8       0.64      0.84      0.73       741\n",
      "\n",
      "    accuracy                           0.72      2598\n",
      "   macro avg       0.45      0.35      0.37      2598\n",
      "weighted avg       0.66      0.72      0.67      2598\n",
      "\n",
      "              precision    recall  f1-score   support\n",
      "\n",
      "           0       0.56      0.10      0.16        52\n",
      "           1       0.00      0.00      0.00         8\n",
      "           2       0.00      0.00      0.00        17\n",
      "           3       0.80      0.91      0.85      1271\n",
      "           4       0.20      0.04      0.06       235\n",
      "           5       0.50      0.20      0.28       194\n",
      "           6       0.58      0.36      0.44        42\n",
      "           7       0.80      0.74      0.77        38\n",
      "           8       0.64      0.84      0.73       741\n",
      "\n",
      "    accuracy                           0.72      2598\n",
      "   macro avg       0.45      0.35      0.37      2598\n",
      "weighted avg       0.66      0.72      0.67      2598\n",
      "\n",
      "              precision    recall  f1-score   support\n",
      "\n",
      "           0       0.56      0.10      0.16        52\n",
      "           1       0.00      0.00      0.00         8\n",
      "           2       0.00      0.00      0.00        17\n",
      "           3       0.80      0.91      0.85      1271\n",
      "           4       0.20      0.04      0.06       235\n",
      "           5       0.50      0.20      0.28       194\n",
      "           6       0.58      0.36      0.44        42\n",
      "           7       0.80      0.74      0.77        38\n",
      "           8       0.64      0.84      0.73       741\n",
      "\n",
      "    accuracy                           0.72      2598\n",
      "   macro avg       0.45      0.35      0.37      2598\n",
      "weighted avg       0.66      0.72      0.67      2598\n",
      "\n",
      "              precision    recall  f1-score   support\n",
      "\n",
      "           0       0.56      0.10      0.16        52\n",
      "           1       0.00      0.00      0.00         8\n",
      "           2       0.00      0.00      0.00        17\n",
      "           3       0.80      0.91      0.85      1271\n",
      "           4       0.20      0.04      0.06       235\n",
      "           5       0.50      0.20      0.28       194\n",
      "           6       0.58      0.36      0.44        42\n",
      "           7       0.80      0.74      0.77        38\n",
      "           8       0.64      0.84      0.73       741\n",
      "\n",
      "    accuracy                           0.72      2598\n",
      "   macro avg       0.45      0.35      0.37      2598\n",
      "weighted avg       0.66      0.72      0.67      2598\n",
      "\n",
      "              precision    recall  f1-score   support\n",
      "\n",
      "           0       0.56      0.10      0.16        52\n",
      "           1       0.00      0.00      0.00         8\n",
      "           2       0.00      0.00      0.00        17\n",
      "           3       0.80      0.91      0.85      1271\n",
      "           4       0.20      0.04      0.06       235\n",
      "           5       0.50      0.20      0.28       194\n",
      "           6       0.58      0.36      0.44        42\n",
      "           7       0.80      0.74      0.77        38\n",
      "           8       0.64      0.84      0.73       741\n",
      "\n",
      "    accuracy                           0.72      2598\n",
      "   macro avg       0.45      0.35      0.37      2598\n",
      "weighted avg       0.66      0.72      0.67      2598\n",
      "\n",
      "\u001b[92mSaved classification graph to /scratch/project_2000630/geoportti/maanpeitetulkinnan_opetuspaketti/point-eo-data/model_fitting_tpot/myexperiment__xarray__lucas2018_19_lappi__LCluokka__2024-02-06T14-59-41_metrics.png\u001b[0m\n",
      "\n",
      "\u001b[92mSaved classification graph to /scratch/project_2000630/geoportti/maanpeitetulkinnan_opetuspaketti/point-eo-data/model_fitting_tpot/myexperiment__xarray__lucas2018_19_lappi__LCluokka__2024-02-06T14-59-41_metrics.png\u001b[0m\n",
      "\n",
      "\u001b[92mSaved classification graph to /scratch/project_2000630/geoportti/maanpeitetulkinnan_opetuspaketti/point-eo-data/model_fitting_tpot/myexperiment__xarray__lucas2018_19_lappi__LCluokka__2024-02-06T14-59-41_metrics.png\u001b[0m\n",
      "\n",
      "\u001b[92mSaved classification graph to /scratch/project_2000630/geoportti/maanpeitetulkinnan_opetuspaketti/point-eo-data/model_fitting_tpot/myexperiment__xarray__lucas2018_19_lappi__LCluokka__2024-02-06T14-59-41_metrics.png\u001b[0m\n",
      "\n",
      "\u001b[92mSaved classification graph to /scratch/project_2000630/geoportti/maanpeitetulkinnan_opetuspaketti/point-eo-data/model_fitting_tpot/myexperiment__xarray__lucas2018_19_lappi__LCluokka__2024-02-06T14-59-41_metrics.png\u001b[0m\n",
      "\n",
      "\u001b[92mSaved confusion matrix to /scratch/project_2000630/geoportti/maanpeitetulkinnan_opetuspaketti/point-eo-data/model_fitting_tpot/myexperiment__xarray__lucas2018_19_lappi__LCluokka__2024-02-06T14-59-41_confusion.png\u001b[0m\n",
      "\n",
      "\u001b[92mSaved confusion matrix to /scratch/project_2000630/geoportti/maanpeitetulkinnan_opetuspaketti/point-eo-data/model_fitting_tpot/myexperiment__xarray__lucas2018_19_lappi__LCluokka__2024-02-06T14-59-41_confusion.png\u001b[0m\n",
      "\n",
      "\u001b[92mSaved confusion matrix to /scratch/project_2000630/geoportti/maanpeitetulkinnan_opetuspaketti/point-eo-data/model_fitting_tpot/myexperiment__xarray__lucas2018_19_lappi__LCluokka__2024-02-06T14-59-41_confusion.png\u001b[0m\n",
      "\n",
      "\u001b[92mSaved confusion matrix to /scratch/project_2000630/geoportti/maanpeitetulkinnan_opetuspaketti/point-eo-data/model_fitting_tpot/myexperiment__xarray__lucas2018_19_lappi__LCluokka__2024-02-06T14-59-41_confusion.png\u001b[0m\n",
      "\n",
      "\u001b[92mSaved confusion matrix to /scratch/project_2000630/geoportti/maanpeitetulkinnan_opetuspaketti/point-eo-data/model_fitting_tpot/myexperiment__xarray__lucas2018_19_lappi__LCluokka__2024-02-06T14-59-41_confusion.png\u001b[0m\n",
      "\n",
      "\u001b[92mSaved permutation importance to /scratch/project_2000630/geoportti/maanpeitetulkinnan_opetuspaketti/point-eo-data/model_fitting_tpot/myexperiment__xarray__lucas2018_19_lappi__LCluokka__2024-02-06T14-59-41_permutation_importance.png\u001b[0m\n",
      "\u001b[92mSaved permutation importance to /scratch/project_2000630/geoportti/maanpeitetulkinnan_opetuspaketti/point-eo-data/model_fitting_tpot/myexperiment__xarray__lucas2018_19_lappi__LCluokka__2024-02-06T14-59-41_permutation_importance.png\u001b[0m\n",
      "\u001b[92mSaved permutation importance to /scratch/project_2000630/geoportti/maanpeitetulkinnan_opetuspaketti/point-eo-data/model_fitting_tpot/myexperiment__xarray__lucas2018_19_lappi__LCluokka__2024-02-06T14-59-41_permutation_importance.png\u001b[0m\n",
      "\u001b[92mSaved permutation importance to /scratch/project_2000630/geoportti/maanpeitetulkinnan_opetuspaketti/point-eo-data/model_fitting_tpot/myexperiment__xarray__lucas2018_19_lappi__LCluokka__2024-02-06T14-59-41_permutation_importance.png\u001b[0m\n",
      "\u001b[92mSaved permutation importance to /scratch/project_2000630/geoportti/maanpeitetulkinnan_opetuspaketti/point-eo-data/model_fitting_tpot/myexperiment__xarray__lucas2018_19_lappi__LCluokka__2024-02-06T14-59-41_permutation_importance.png\u001b[0m\n",
      "Saved model to /scratch/project_2000630/geoportti/maanpeitetulkinnan_opetuspaketti/point-eo-data/model_fitting_tpot/myexperiment__xarray__lucas2018_19_lappi__LCluokka__2024-02-06T14-59-41_model.pkl\n",
      "Saved model to /scratch/project_2000630/geoportti/maanpeitetulkinnan_opetuspaketti/point-eo-data/model_fitting_tpot/myexperiment__xarray__lucas2018_19_lappi__LCluokka__2024-02-06T14-59-41_model.pkl\n",
      "Saved model to /scratch/project_2000630/geoportti/maanpeitetulkinnan_opetuspaketti/point-eo-data/model_fitting_tpot/myexperiment__xarray__lucas2018_19_lappi__LCluokka__2024-02-06T14-59-41_model.pkl\n",
      "Saved model to /scratch/project_2000630/geoportti/maanpeitetulkinnan_opetuspaketti/point-eo-data/model_fitting_tpot/myexperiment__xarray__lucas2018_19_lappi__LCluokka__2024-02-06T14-59-41_model.pkl\n",
      "Saved model to /scratch/project_2000630/geoportti/maanpeitetulkinnan_opetuspaketti/point-eo-data/model_fitting_tpot/myexperiment__xarray__lucas2018_19_lappi__LCluokka__2024-02-06T14-59-41_model.pkl\n"
     ]
    },
    {
     "data": {
      "image/png": "[encoded data removed]",
      "text/plain": [
       "<Figure size 1200x500 with 2 Axes>"
      ]
     },
     "metadata": {},
     "output_type": "display_data"
    },
    {
     "data": {
      "image/png": "[encoded data removed]",
      "text/plain": [
       "<Figure size 1500x1500 with 1 Axes>"
      ]
     },
     "metadata": {},
     "output_type": "display_data"
    },
    {
     "data": {
      "image/png": "[encoded data removed]",
      "text/plain": [
       "<Figure size 500x300 with 1 Axes>"
      ]
     },
     "metadata": {},
     "output_type": "display_data"
    }
   ],
   "source": [
    "####  Training, analysis with tpot model\n",
    "parser = argparse.ArgumentParser()\n",
    "subparsers = parser.add_subparsers(title=\"Available commands\", dest=\"script\")\n",
    "analysis.add_args(subparsers)\n",
    "args = parser.parse_args(['analysis',\n",
    "    '--input', os.path.join(basepth,'sampled','xarray__lucas2018_19_lappi__LCluokka.csv'),\n",
    "    '--out_folder', os.path.join(basepth,'model_fitting_tpot'),\n",
    "    '--out_prefix', 'myexperiment',\n",
    "    '--tpot_model',os.path.join(basepth,'tpot_train','myexperiment_acc0.7156_240206T141248.py'),\n",
    "    '--decimal', '.',\n",
    "    '--separator',','])\n",
    "analysis.main(args)"
   ]
  },
  {
   "cell_type": "code",
   "execution_count": 9,
   "id": "fbe42821-7715-48d5-9c52-2dc5118757c6",
   "metadata": {
    "tags": []
   },
   "outputs": [
    {
     "name": "stderr",
     "output_type": "stream",
     "text": [
      "Input csv: /scratch/project_2000630/geoportti/maanpeitetulkinnan_opetuspaketti/point-eo-data/sampled/xarray__lucas2018_19_lappi__LCluokka.csv\n",
      "Input csv: /scratch/project_2000630/geoportti/maanpeitetulkinnan_opetuspaketti/point-eo-data/sampled/xarray__lucas2018_19_lappi__LCluokka.csv\n",
      "Input csv: /scratch/project_2000630/geoportti/maanpeitetulkinnan_opetuspaketti/point-eo-data/sampled/xarray__lucas2018_19_lappi__LCluokka.csv\n",
      "Input csv: /scratch/project_2000630/geoportti/maanpeitetulkinnan_opetuspaketti/point-eo-data/sampled/xarray__lucas2018_19_lappi__LCluokka.csv\n",
      "Input csv: /scratch/project_2000630/geoportti/maanpeitetulkinnan_opetuspaketti/point-eo-data/sampled/xarray__lucas2018_19_lappi__LCluokka.csv\n",
      "Input csv: /scratch/project_2000630/geoportti/maanpeitetulkinnan_opetuspaketti/point-eo-data/sampled/xarray__lucas2018_19_lappi__LCluokka.csv\n",
      "Model: RF\n",
      "Model: RF\n",
      "Model: RF\n",
      "Model: RF\n",
      "Model: RF\n",
      "Model: RF\n",
      "\n",
      "\n",
      "### Data info ###\n",
      "\n",
      "\n",
      "\n",
      "### Data info ###\n",
      "\n",
      "\n",
      "\n",
      "### Data info ###\n",
      "\n",
      "\n",
      "\n",
      "### Data info ###\n",
      "\n",
      "\n",
      "\n",
      "### Data info ###\n",
      "\n",
      "\n",
      "\n",
      "### Data info ###\n",
      "\n",
      "\u001b[1m\u001b[92mColumns. First one is chosen as target\u001b[0m\n",
      "\u001b[1m\u001b[92mColumns. First one is chosen as target\u001b[0m\n",
      "\u001b[1m\u001b[92mColumns. First one is chosen as target\u001b[0m\n",
      "\u001b[1m\u001b[92mColumns. First one is chosen as target\u001b[0m\n",
      "\u001b[1m\u001b[92mColumns. First one is chosen as target\u001b[0m\n",
      "\u001b[1m\u001b[92mColumns. First one is chosen as target\u001b[0m\n",
      "Index\t\tColumn\n",
      "Index\t\tColumn\n",
      "Index\t\tColumn\n",
      "Index\t\tColumn\n",
      "Index\t\tColumn\n",
      "Index\t\tColumn\n",
      "\u001b[92m0\t\tLCluokka\n",
      "\u001b[92m0\t\tLCluokka\n",
      "\u001b[92m0\t\tLCluokka\n",
      "\u001b[92m0\t\tLCluokka\n",
      "\u001b[92m0\t\tLCluokka\n",
      "\u001b[92m0\t\tLCluokka\n",
      "\u001b[94m1\t\tndvi_max\u001b[0m\n",
      "\u001b[94m1\t\tndvi_max\u001b[0m\n",
      "\u001b[94m1\t\tndvi_max\u001b[0m\n",
      "\u001b[94m1\t\tndvi_max\u001b[0m\n",
      "\u001b[94m1\t\tndvi_max\u001b[0m\n",
      "\u001b[94m1\t\tndvi_max\u001b[0m\n",
      "\u001b[94m2\t\tdem\u001b[0m\n",
      "\u001b[94m2\t\tdem\u001b[0m\n",
      "\u001b[94m2\t\tdem\u001b[0m\n",
      "\u001b[94m2\t\tdem\u001b[0m\n",
      "\u001b[94m2\t\tdem\u001b[0m\n",
      "\u001b[94m2\t\tdem\u001b[0m\n",
      "\u001b[94m3\t\ttree_classes\u001b[0m\n",
      "\u001b[94m3\t\ttree_classes\u001b[0m\n",
      "\u001b[94m3\t\ttree_classes\u001b[0m\n",
      "\u001b[94m3\t\ttree_classes\u001b[0m\n",
      "\u001b[94m3\t\ttree_classes\u001b[0m\n",
      "\u001b[94m3\t\ttree_classes\u001b[0m\n",
      "\u001b[94m4\t\tveg_height\u001b[0m\n",
      "\u001b[94m4\t\tveg_height\u001b[0m\n",
      "\u001b[94m4\t\tveg_height\u001b[0m\n",
      "\u001b[94m4\t\tveg_height\u001b[0m\n",
      "\u001b[94m4\t\tveg_height\u001b[0m\n",
      "\u001b[94m4\t\tveg_height\u001b[0m\n",
      "\u001b[94m5\t\tcanopy_cover\u001b[0m\n",
      "\u001b[94m5\t\tcanopy_cover\u001b[0m\n",
      "\u001b[94m5\t\tcanopy_cover\u001b[0m\n",
      "\u001b[94m5\t\tcanopy_cover\u001b[0m\n",
      "\u001b[94m5\t\tcanopy_cover\u001b[0m\n",
      "\u001b[94m5\t\tcanopy_cover\u001b[0m\n",
      "\u001b[94m6\t\ts2_b4\u001b[0m\n",
      "\u001b[94m6\t\ts2_b4\u001b[0m\n",
      "\u001b[94m6\t\ts2_b4\u001b[0m\n",
      "\u001b[94m6\t\ts2_b4\u001b[0m\n",
      "\u001b[94m6\t\ts2_b4\u001b[0m\n",
      "\u001b[94m6\t\ts2_b4\u001b[0m\n",
      "\u001b[94m7\t\ts2_b3\u001b[0m\n",
      "\u001b[94m7\t\ts2_b3\u001b[0m\n",
      "\u001b[94m7\t\ts2_b3\u001b[0m\n",
      "\u001b[94m7\t\ts2_b3\u001b[0m\n",
      "\u001b[94m7\t\ts2_b3\u001b[0m\n",
      "\u001b[94m7\t\ts2_b3\u001b[0m\n",
      "\u001b[94m8\t\ts2_b2\u001b[0m\n",
      "\u001b[94m8\t\ts2_b2\u001b[0m\n",
      "\u001b[94m8\t\ts2_b2\u001b[0m\n",
      "\u001b[94m8\t\ts2_b2\u001b[0m\n",
      "\u001b[94m8\t\ts2_b2\u001b[0m\n",
      "\u001b[94m8\t\ts2_b2\u001b[0m\n",
      "\u001b[94m9\t\ts2_nir\u001b[0m\n",
      "\u001b[94m9\t\ts2_nir\u001b[0m\n",
      "\u001b[94m9\t\ts2_nir\u001b[0m\n",
      "\u001b[94m9\t\ts2_nir\u001b[0m\n",
      "\u001b[94m9\t\ts2_nir\u001b[0m\n",
      "\u001b[94m9\t\ts2_nir\u001b[0m\n",
      "\n",
      "\n",
      "\n",
      "\n",
      "\n",
      "\n",
      "\n",
      "\n",
      "\n",
      "\n",
      "\n",
      "\n",
      "Shape of data table:\n",
      "rows: 2598\n",
      "columns: 10\n",
      "Shape of data table:\n",
      "rows: 2598\n",
      "columns: 10\n",
      "Shape of data table:\n",
      "rows: 2598\n",
      "columns: 10\n",
      "Shape of data table:\n",
      "rows: 2598\n",
      "columns: 10\n",
      "Shape of data table:\n",
      "rows: 2598\n",
      "columns: 10\n",
      "Shape of data table:\n",
      "rows: 2598\n",
      "columns: 10\n",
      "\u001b[1m\u001b[92m\n",
      "Target class distribution\u001b[0m\n",
      "\u001b[1m\u001b[92m\n",
      "Target class distribution\u001b[0m\n",
      "\u001b[1m\u001b[92m\n",
      "Target class distribution\u001b[0m\n",
      "\u001b[1m\u001b[92m\n",
      "Target class distribution\u001b[0m\n",
      "\u001b[1m\u001b[92m\n",
      "Target class distribution\u001b[0m\n",
      "\u001b[1m\u001b[92m\n",
      "Target class distribution\u001b[0m\n",
      "label\tcount\n",
      "label\tcount\n",
      "label\tcount\n",
      "label\tcount\n",
      "label\tcount\n",
      "label\tcount\n",
      "3    1271\n",
      "8     741\n",
      "4     235\n",
      "5     194\n",
      "0      52\n",
      "6      42\n",
      "7      38\n",
      "2      17\n",
      "1       8\n",
      "Name: LCluokka, dtype: int64\n",
      "3    1271\n",
      "8     741\n",
      "4     235\n",
      "5     194\n",
      "0      52\n",
      "6      42\n",
      "7      38\n",
      "2      17\n",
      "1       8\n",
      "Name: LCluokka, dtype: int64\n",
      "3    1271\n",
      "8     741\n",
      "4     235\n",
      "5     194\n",
      "0      52\n",
      "6      42\n",
      "7      38\n",
      "2      17\n",
      "1       8\n",
      "Name: LCluokka, dtype: int64\n",
      "3    1271\n",
      "8     741\n",
      "4     235\n",
      "5     194\n",
      "0      52\n",
      "6      42\n",
      "7      38\n",
      "2      17\n",
      "1       8\n",
      "Name: LCluokka, dtype: int64\n",
      "3    1271\n",
      "8     741\n",
      "4     235\n",
      "5     194\n",
      "0      52\n",
      "6      42\n",
      "7      38\n",
      "2      17\n",
      "1       8\n",
      "Name: LCluokka, dtype: int64\n",
      "3    1271\n",
      "8     741\n",
      "4     235\n",
      "5     194\n",
      "0      52\n",
      "6      42\n",
      "7      38\n",
      "2      17\n",
      "1       8\n",
      "Name: LCluokka, dtype: int64\n",
      "\n",
      "\n",
      "\n",
      "\n",
      "\n",
      "\n",
      "\n",
      "\n",
      "\n",
      "\n",
      "\n",
      "\n",
      "\u001b[1m\u001b[91m\n",
      "\n",
      "### Starting cross-validation ###\n",
      "\u001b[0m\n",
      "\u001b[1m\u001b[91m\n",
      "\n",
      "### Starting cross-validation ###\n",
      "\u001b[0m\n",
      "\u001b[1m\u001b[91m\n",
      "\n",
      "### Starting cross-validation ###\n",
      "\u001b[0m\n",
      "\u001b[1m\u001b[91m\n",
      "\n",
      "### Starting cross-validation ###\n",
      "\u001b[0m\n",
      "\u001b[1m\u001b[91m\n",
      "\n",
      "### Starting cross-validation ###\n",
      "\u001b[0m\n",
      "\u001b[1m\u001b[91m\n",
      "\n",
      "### Starting cross-validation ###\n",
      "\u001b[0m\n",
      "\u001b[1m\u001b[92mRandom forest parameters:\u001b[0m\n",
      "\u001b[1m\u001b[92mRandom forest parameters:\u001b[0m\n",
      "\u001b[1m\u001b[92mRandom forest parameters:\u001b[0m\n",
      "\u001b[1m\u001b[92mRandom forest parameters:\u001b[0m\n",
      "\u001b[1m\u001b[92mRandom forest parameters:\u001b[0m\n",
      "\u001b[1m\u001b[92mRandom forest parameters:\u001b[0m\n",
      "{'bootstrap': True, 'ccp_alpha': 0.0, 'class_weight': None, 'criterion': 'gini', 'max_depth': None, 'max_features': 'sqrt', 'max_leaf_nodes': None, 'max_samples': None, 'min_impurity_decrease': 0.0, 'min_samples_leaf': 1, 'min_samples_split': 2, 'min_weight_fraction_leaf': 0.0, 'n_estimators': 100, 'n_jobs': -1, 'oob_score': False, 'random_state': None, 'verbose': 0, 'warm_start': False}\n",
      "{'bootstrap': True, 'ccp_alpha': 0.0, 'class_weight': None, 'criterion': 'gini', 'max_depth': None, 'max_features': 'sqrt', 'max_leaf_nodes': None, 'max_samples': None, 'min_impurity_decrease': 0.0, 'min_samples_leaf': 1, 'min_samples_split': 2, 'min_weight_fraction_leaf': 0.0, 'n_estimators': 100, 'n_jobs': -1, 'oob_score': False, 'random_state': None, 'verbose': 0, 'warm_start': False}\n",
      "{'bootstrap': True, 'ccp_alpha': 0.0, 'class_weight': None, 'criterion': 'gini', 'max_depth': None, 'max_features': 'sqrt', 'max_leaf_nodes': None, 'max_samples': None, 'min_impurity_decrease': 0.0, 'min_samples_leaf': 1, 'min_samples_split': 2, 'min_weight_fraction_leaf': 0.0, 'n_estimators': 100, 'n_jobs': -1, 'oob_score': False, 'random_state': None, 'verbose': 0, 'warm_start': False}\n",
      "{'bootstrap': True, 'ccp_alpha': 0.0, 'class_weight': None, 'criterion': 'gini', 'max_depth': None, 'max_features': 'sqrt', 'max_leaf_nodes': None, 'max_samples': None, 'min_impurity_decrease': 0.0, 'min_samples_leaf': 1, 'min_samples_split': 2, 'min_weight_fraction_leaf': 0.0, 'n_estimators': 100, 'n_jobs': -1, 'oob_score': False, 'random_state': None, 'verbose': 0, 'warm_start': False}\n",
      "{'bootstrap': True, 'ccp_alpha': 0.0, 'class_weight': None, 'criterion': 'gini', 'max_depth': None, 'max_features': 'sqrt', 'max_leaf_nodes': None, 'max_samples': None, 'min_impurity_decrease': 0.0, 'min_samples_leaf': 1, 'min_samples_split': 2, 'min_weight_fraction_leaf': 0.0, 'n_estimators': 100, 'n_jobs': -1, 'oob_score': False, 'random_state': None, 'verbose': 0, 'warm_start': False}\n",
      "{'bootstrap': True, 'ccp_alpha': 0.0, 'class_weight': None, 'criterion': 'gini', 'max_depth': None, 'max_features': 'sqrt', 'max_leaf_nodes': None, 'max_samples': None, 'min_impurity_decrease': 0.0, 'min_samples_leaf': 1, 'min_samples_split': 2, 'min_weight_fraction_leaf': 0.0, 'n_estimators': 100, 'n_jobs': -1, 'oob_score': False, 'random_state': None, 'verbose': 0, 'warm_start': False}\n",
      "\u001b[94m\n",
      "Fold 0:\u001b[0m\n",
      "\u001b[94m\n",
      "Fold 0:\u001b[0m\n",
      "\u001b[94m\n",
      "Fold 0:\u001b[0m\n",
      "\u001b[94m\n",
      "Fold 0:\u001b[0m\n",
      "\u001b[94m\n",
      "Fold 0:\u001b[0m\n",
      "\u001b[94m\n",
      "Fold 0:\u001b[0m\n",
      "Accuracy: 0.738\n",
      "Precision: 0.699\n",
      "F1: 0.708\n",
      "Accuracy: 0.738\n",
      "Precision: 0.699\n",
      "F1: 0.708\n",
      "Accuracy: 0.738\n",
      "Precision: 0.699\n",
      "F1: 0.708\n",
      "Accuracy: 0.738\n",
      "Precision: 0.699\n",
      "F1: 0.708\n",
      "Accuracy: 0.738\n",
      "Precision: 0.699\n",
      "F1: 0.708\n",
      "Accuracy: 0.738\n",
      "Precision: 0.699\n",
      "F1: 0.708\n",
      "\u001b[94m\n",
      "Fold 1:\u001b[0m\n",
      "\u001b[94m\n",
      "Fold 1:\u001b[0m\n",
      "\u001b[94m\n",
      "Fold 1:\u001b[0m\n",
      "\u001b[94m\n",
      "Fold 1:\u001b[0m\n",
      "\u001b[94m\n",
      "Fold 1:\u001b[0m\n",
      "\u001b[94m\n",
      "Fold 1:\u001b[0m\n",
      "Accuracy: 0.723\n",
      "Precision: 0.680\n",
      "F1: 0.692\n",
      "Accuracy: 0.723\n",
      "Precision: 0.680\n",
      "F1: 0.692\n",
      "Accuracy: 0.723\n",
      "Precision: 0.680\n",
      "F1: 0.692\n",
      "Accuracy: 0.723\n",
      "Precision: 0.680\n",
      "F1: 0.692\n",
      "Accuracy: 0.723\n",
      "Precision: 0.680\n",
      "F1: 0.692\n",
      "Accuracy: 0.723\n",
      "Precision: 0.680\n",
      "F1: 0.692\n",
      "\u001b[94m\n",
      "Fold 2:\u001b[0m\n",
      "\u001b[94m\n",
      "Fold 2:\u001b[0m\n",
      "\u001b[94m\n",
      "Fold 2:\u001b[0m\n",
      "\u001b[94m\n",
      "Fold 2:\u001b[0m\n",
      "\u001b[94m\n",
      "Fold 2:\u001b[0m\n",
      "\u001b[94m\n",
      "Fold 2:\u001b[0m\n",
      "Accuracy: 0.723\n",
      "Precision: 0.677\n",
      "F1: 0.688\n",
      "Accuracy: 0.723\n",
      "Precision: 0.677\n",
      "F1: 0.688\n",
      "Accuracy: 0.723\n",
      "Precision: 0.677\n",
      "F1: 0.688\n",
      "Accuracy: 0.723\n",
      "Precision: 0.677\n",
      "F1: 0.688\n",
      "Accuracy: 0.723\n",
      "Precision: 0.677\n",
      "F1: 0.688\n",
      "Accuracy: 0.723\n",
      "Precision: 0.677\n",
      "F1: 0.688\n",
      "\u001b[94m\n",
      "Fold 3:\u001b[0m\n",
      "\u001b[94m\n",
      "Fold 3:\u001b[0m\n",
      "\u001b[94m\n",
      "Fold 3:\u001b[0m\n",
      "\u001b[94m\n",
      "Fold 3:\u001b[0m\n",
      "\u001b[94m\n",
      "Fold 3:\u001b[0m\n",
      "\u001b[94m\n",
      "Fold 3:\u001b[0m\n",
      "Accuracy: 0.703\n",
      "Precision: 0.665\n",
      "F1: 0.675\n",
      "Accuracy: 0.703\n",
      "Precision: 0.665\n",
      "F1: 0.675\n",
      "Accuracy: 0.703\n",
      "Precision: 0.665\n",
      "F1: 0.675\n",
      "Accuracy: 0.703\n",
      "Precision: 0.665\n",
      "F1: 0.675\n",
      "Accuracy: 0.703\n",
      "Precision: 0.665\n",
      "F1: 0.675\n",
      "Accuracy: 0.703\n",
      "Precision: 0.665\n",
      "F1: 0.675\n",
      "\u001b[94m\n",
      "Fold 4:\u001b[0m\n",
      "\u001b[94m\n",
      "Fold 4:\u001b[0m\n",
      "\u001b[94m\n",
      "Fold 4:\u001b[0m\n",
      "\u001b[94m\n",
      "Fold 4:\u001b[0m\n",
      "\u001b[94m\n",
      "Fold 4:\u001b[0m\n",
      "\u001b[94m\n",
      "Fold 4:\u001b[0m\n",
      "Accuracy: 0.723\n",
      "Precision: 0.682\n",
      "F1: 0.696\n",
      "Accuracy: 0.723\n",
      "Precision: 0.682\n",
      "F1: 0.696\n",
      "Accuracy: 0.723\n",
      "Precision: 0.682\n",
      "F1: 0.696\n",
      "Accuracy: 0.723\n",
      "Precision: 0.682\n",
      "F1: 0.696\n",
      "Accuracy: 0.723\n",
      "Precision: 0.682\n",
      "F1: 0.696\n",
      "Accuracy: 0.723\n",
      "Precision: 0.682\n",
      "F1: 0.696\n",
      "\u001b[1m\u001b[92m\n",
      "Overall results:\n",
      "\u001b[1m\u001b[92m\n",
      "Overall results:\n",
      "\u001b[1m\u001b[92m\n",
      "Overall results:\n",
      "\u001b[1m\u001b[92m\n",
      "Overall results:\n",
      "\u001b[1m\u001b[92m\n",
      "Overall results:\n",
      "\u001b[1m\u001b[92m\n",
      "Overall results:\n",
      "Accuracy: 0.722\n",
      "Precision: 0.679\n",
      "F1: 0.692\n",
      "Accuracy: 0.722\n",
      "Precision: 0.679\n",
      "F1: 0.692\n",
      "Accuracy: 0.722\n",
      "Precision: 0.679\n",
      "F1: 0.692\n",
      "Accuracy: 0.722\n",
      "Precision: 0.679\n",
      "F1: 0.692\n",
      "Accuracy: 0.722\n",
      "Precision: 0.679\n",
      "F1: 0.692\n",
      "Accuracy: 0.722\n",
      "Precision: 0.679\n",
      "F1: 0.692\n",
      "\u001b[0m\n",
      "\u001b[0m\n",
      "\u001b[0m\n",
      "\u001b[0m\n",
      "\u001b[0m\n",
      "\u001b[0m\n",
      "Using categorical units to plot a list of strings that are all parsable as floats or dates. If these strings should be plotted as numbers, cast to the appropriate data type before plotting.\n",
      "Using categorical units to plot a list of strings that are all parsable as floats or dates. If these strings should be plotted as numbers, cast to the appropriate data type before plotting.\n",
      "Using categorical units to plot a list of strings that are all parsable as floats or dates. If these strings should be plotted as numbers, cast to the appropriate data type before plotting.\n",
      "Using categorical units to plot a list of strings that are all parsable as floats or dates. If these strings should be plotted as numbers, cast to the appropriate data type before plotting.\n",
      "Using categorical units to plot a list of strings that are all parsable as floats or dates. If these strings should be plotted as numbers, cast to the appropriate data type before plotting.\n",
      "Using categorical units to plot a list of strings that are all parsable as floats or dates. If these strings should be plotted as numbers, cast to the appropriate data type before plotting.\n",
      "Using categorical units to plot a list of strings that are all parsable as floats or dates. If these strings should be plotted as numbers, cast to the appropriate data type before plotting.\n",
      "Using categorical units to plot a list of strings that are all parsable as floats or dates. If these strings should be plotted as numbers, cast to the appropriate data type before plotting.\n",
      "Using categorical units to plot a list of strings that are all parsable as floats or dates. If these strings should be plotted as numbers, cast to the appropriate data type before plotting.\n",
      "Using categorical units to plot a list of strings that are all parsable as floats or dates. If these strings should be plotted as numbers, cast to the appropriate data type before plotting.\n",
      "Using categorical units to plot a list of strings that are all parsable as floats or dates. If these strings should be plotted as numbers, cast to the appropriate data type before plotting.\n",
      "Using categorical units to plot a list of strings that are all parsable as floats or dates. If these strings should be plotted as numbers, cast to the appropriate data type before plotting.\n",
      "Using categorical units to plot a list of strings that are all parsable as floats or dates. If these strings should be plotted as numbers, cast to the appropriate data type before plotting.\n",
      "Using categorical units to plot a list of strings that are all parsable as floats or dates. If these strings should be plotted as numbers, cast to the appropriate data type before plotting.\n",
      "Using categorical units to plot a list of strings that are all parsable as floats or dates. If these strings should be plotted as numbers, cast to the appropriate data type before plotting.\n",
      "Using categorical units to plot a list of strings that are all parsable as floats or dates. If these strings should be plotted as numbers, cast to the appropriate data type before plotting.\n",
      "Using categorical units to plot a list of strings that are all parsable as floats or dates. If these strings should be plotted as numbers, cast to the appropriate data type before plotting.\n",
      "Using categorical units to plot a list of strings that are all parsable as floats or dates. If these strings should be plotted as numbers, cast to the appropriate data type before plotting.\n",
      "Using categorical units to plot a list of strings that are all parsable as floats or dates. If these strings should be plotted as numbers, cast to the appropriate data type before plotting.\n",
      "Using categorical units to plot a list of strings that are all parsable as floats or dates. If these strings should be plotted as numbers, cast to the appropriate data type before plotting.\n",
      "Using categorical units to plot a list of strings that are all parsable as floats or dates. If these strings should be plotted as numbers, cast to the appropriate data type before plotting.\n",
      "Using categorical units to plot a list of strings that are all parsable as floats or dates. If these strings should be plotted as numbers, cast to the appropriate data type before plotting.\n",
      "Using categorical units to plot a list of strings that are all parsable as floats or dates. If these strings should be plotted as numbers, cast to the appropriate data type before plotting.\n",
      "Using categorical units to plot a list of strings that are all parsable as floats or dates. If these strings should be plotted as numbers, cast to the appropriate data type before plotting.\n",
      "Using categorical units to plot a list of strings that are all parsable as floats or dates. If these strings should be plotted as numbers, cast to the appropriate data type before plotting.\n",
      "Using categorical units to plot a list of strings that are all parsable as floats or dates. If these strings should be plotted as numbers, cast to the appropriate data type before plotting.\n",
      "Using categorical units to plot a list of strings that are all parsable as floats or dates. If these strings should be plotted as numbers, cast to the appropriate data type before plotting.\n",
      "Using categorical units to plot a list of strings that are all parsable as floats or dates. If these strings should be plotted as numbers, cast to the appropriate data type before plotting.\n",
      "Using categorical units to plot a list of strings that are all parsable as floats or dates. If these strings should be plotted as numbers, cast to the appropriate data type before plotting.\n",
      "Using categorical units to plot a list of strings that are all parsable as floats or dates. If these strings should be plotted as numbers, cast to the appropriate data type before plotting.\n",
      "Using categorical units to plot a list of strings that are all parsable as floats or dates. If these strings should be plotted as numbers, cast to the appropriate data type before plotting.\n",
      "Using categorical units to plot a list of strings that are all parsable as floats or dates. If these strings should be plotted as numbers, cast to the appropriate data type before plotting.\n",
      "Using categorical units to plot a list of strings that are all parsable as floats or dates. If these strings should be plotted as numbers, cast to the appropriate data type before plotting.\n",
      "Using categorical units to plot a list of strings that are all parsable as floats or dates. If these strings should be plotted as numbers, cast to the appropriate data type before plotting.\n",
      "Using categorical units to plot a list of strings that are all parsable as floats or dates. If these strings should be plotted as numbers, cast to the appropriate data type before plotting.\n",
      "Using categorical units to plot a list of strings that are all parsable as floats or dates. If these strings should be plotted as numbers, cast to the appropriate data type before plotting.\n",
      "              precision    recall  f1-score   support\n",
      "\n",
      "           0       0.53      0.33      0.40        52\n",
      "           1       0.00      0.00      0.00         8\n",
      "           2       0.00      0.00      0.00        17\n",
      "           3       0.81      0.91      0.86      1271\n",
      "           4       0.33      0.13      0.19       235\n",
      "           5       0.34      0.21      0.26       194\n",
      "           6       0.61      0.45      0.52        42\n",
      "           7       0.88      0.79      0.83        38\n",
      "           8       0.68      0.79      0.73       741\n",
      "\n",
      "    accuracy                           0.72      2598\n",
      "   macro avg       0.47      0.40      0.42      2598\n",
      "weighted avg       0.68      0.72      0.69      2598\n",
      "\n",
      "              precision    recall  f1-score   support\n",
      "\n",
      "           0       0.53      0.33      0.40        52\n",
      "           1       0.00      0.00      0.00         8\n",
      "           2       0.00      0.00      0.00        17\n",
      "           3       0.81      0.91      0.86      1271\n",
      "           4       0.33      0.13      0.19       235\n",
      "           5       0.34      0.21      0.26       194\n",
      "           6       0.61      0.45      0.52        42\n",
      "           7       0.88      0.79      0.83        38\n",
      "           8       0.68      0.79      0.73       741\n",
      "\n",
      "    accuracy                           0.72      2598\n",
      "   macro avg       0.47      0.40      0.42      2598\n",
      "weighted avg       0.68      0.72      0.69      2598\n",
      "\n",
      "              precision    recall  f1-score   support\n",
      "\n",
      "           0       0.53      0.33      0.40        52\n",
      "           1       0.00      0.00      0.00         8\n",
      "           2       0.00      0.00      0.00        17\n",
      "           3       0.81      0.91      0.86      1271\n",
      "           4       0.33      0.13      0.19       235\n",
      "           5       0.34      0.21      0.26       194\n",
      "           6       0.61      0.45      0.52        42\n",
      "           7       0.88      0.79      0.83        38\n",
      "           8       0.68      0.79      0.73       741\n",
      "\n",
      "    accuracy                           0.72      2598\n",
      "   macro avg       0.47      0.40      0.42      2598\n",
      "weighted avg       0.68      0.72      0.69      2598\n",
      "\n",
      "              precision    recall  f1-score   support\n",
      "\n",
      "           0       0.53      0.33      0.40        52\n",
      "           1       0.00      0.00      0.00         8\n",
      "           2       0.00      0.00      0.00        17\n",
      "           3       0.81      0.91      0.86      1271\n",
      "           4       0.33      0.13      0.19       235\n",
      "           5       0.34      0.21      0.26       194\n",
      "           6       0.61      0.45      0.52        42\n",
      "           7       0.88      0.79      0.83        38\n",
      "           8       0.68      0.79      0.73       741\n",
      "\n",
      "    accuracy                           0.72      2598\n",
      "   macro avg       0.47      0.40      0.42      2598\n",
      "weighted avg       0.68      0.72      0.69      2598\n",
      "\n",
      "              precision    recall  f1-score   support\n",
      "\n",
      "           0       0.53      0.33      0.40        52\n",
      "           1       0.00      0.00      0.00         8\n",
      "           2       0.00      0.00      0.00        17\n",
      "           3       0.81      0.91      0.86      1271\n",
      "           4       0.33      0.13      0.19       235\n",
      "           5       0.34      0.21      0.26       194\n",
      "           6       0.61      0.45      0.52        42\n",
      "           7       0.88      0.79      0.83        38\n",
      "           8       0.68      0.79      0.73       741\n",
      "\n",
      "    accuracy                           0.72      2598\n",
      "   macro avg       0.47      0.40      0.42      2598\n",
      "weighted avg       0.68      0.72      0.69      2598\n",
      "\n",
      "              precision    recall  f1-score   support\n",
      "\n",
      "           0       0.53      0.33      0.40        52\n",
      "           1       0.00      0.00      0.00         8\n",
      "           2       0.00      0.00      0.00        17\n",
      "           3       0.81      0.91      0.86      1271\n",
      "           4       0.33      0.13      0.19       235\n",
      "           5       0.34      0.21      0.26       194\n",
      "           6       0.61      0.45      0.52        42\n",
      "           7       0.88      0.79      0.83        38\n",
      "           8       0.68      0.79      0.73       741\n",
      "\n",
      "    accuracy                           0.72      2598\n",
      "   macro avg       0.47      0.40      0.42      2598\n",
      "weighted avg       0.68      0.72      0.69      2598\n",
      "\n",
      "\u001b[92mSaved classification graph to /scratch/project_2000630/geoportti/maanpeitetulkinnan_opetuspaketti/point-eo-data/model_fitting_RF/myexperiment__xarray__lucas2018_19_lappi__LCluokka__2024-02-06T15-00-47_metrics.png\u001b[0m\n",
      "\n",
      "\u001b[92mSaved classification graph to /scratch/project_2000630/geoportti/maanpeitetulkinnan_opetuspaketti/point-eo-data/model_fitting_RF/myexperiment__xarray__lucas2018_19_lappi__LCluokka__2024-02-06T15-00-47_metrics.png\u001b[0m\n",
      "\n",
      "\u001b[92mSaved classification graph to /scratch/project_2000630/geoportti/maanpeitetulkinnan_opetuspaketti/point-eo-data/model_fitting_RF/myexperiment__xarray__lucas2018_19_lappi__LCluokka__2024-02-06T15-00-47_metrics.png\u001b[0m\n",
      "\n",
      "\u001b[92mSaved classification graph to /scratch/project_2000630/geoportti/maanpeitetulkinnan_opetuspaketti/point-eo-data/model_fitting_RF/myexperiment__xarray__lucas2018_19_lappi__LCluokka__2024-02-06T15-00-47_metrics.png\u001b[0m\n",
      "\n",
      "\u001b[92mSaved classification graph to /scratch/project_2000630/geoportti/maanpeitetulkinnan_opetuspaketti/point-eo-data/model_fitting_RF/myexperiment__xarray__lucas2018_19_lappi__LCluokka__2024-02-06T15-00-47_metrics.png\u001b[0m\n",
      "\n",
      "\u001b[92mSaved classification graph to /scratch/project_2000630/geoportti/maanpeitetulkinnan_opetuspaketti/point-eo-data/model_fitting_RF/myexperiment__xarray__lucas2018_19_lappi__LCluokka__2024-02-06T15-00-47_metrics.png\u001b[0m\n",
      "\n",
      "\u001b[92mSaved confusion matrix to /scratch/project_2000630/geoportti/maanpeitetulkinnan_opetuspaketti/point-eo-data/model_fitting_RF/myexperiment__xarray__lucas2018_19_lappi__LCluokka__2024-02-06T15-00-47_confusion.png\u001b[0m\n",
      "\n",
      "\u001b[92mSaved confusion matrix to /scratch/project_2000630/geoportti/maanpeitetulkinnan_opetuspaketti/point-eo-data/model_fitting_RF/myexperiment__xarray__lucas2018_19_lappi__LCluokka__2024-02-06T15-00-47_confusion.png\u001b[0m\n",
      "\n",
      "\u001b[92mSaved confusion matrix to /scratch/project_2000630/geoportti/maanpeitetulkinnan_opetuspaketti/point-eo-data/model_fitting_RF/myexperiment__xarray__lucas2018_19_lappi__LCluokka__2024-02-06T15-00-47_confusion.png\u001b[0m\n",
      "\n",
      "\u001b[92mSaved confusion matrix to /scratch/project_2000630/geoportti/maanpeitetulkinnan_opetuspaketti/point-eo-data/model_fitting_RF/myexperiment__xarray__lucas2018_19_lappi__LCluokka__2024-02-06T15-00-47_confusion.png\u001b[0m\n",
      "\n",
      "\u001b[92mSaved confusion matrix to /scratch/project_2000630/geoportti/maanpeitetulkinnan_opetuspaketti/point-eo-data/model_fitting_RF/myexperiment__xarray__lucas2018_19_lappi__LCluokka__2024-02-06T15-00-47_confusion.png\u001b[0m\n",
      "\n",
      "\u001b[92mSaved confusion matrix to /scratch/project_2000630/geoportti/maanpeitetulkinnan_opetuspaketti/point-eo-data/model_fitting_RF/myexperiment__xarray__lucas2018_19_lappi__LCluokka__2024-02-06T15-00-47_confusion.png\u001b[0m\n",
      "\n",
      "\u001b[92mSaved permutation importance to /scratch/project_2000630/geoportti/maanpeitetulkinnan_opetuspaketti/point-eo-data/model_fitting_RF/myexperiment__xarray__lucas2018_19_lappi__LCluokka__2024-02-06T15-00-47_permutation_importance.png\u001b[0m\n",
      "\u001b[92mSaved permutation importance to /scratch/project_2000630/geoportti/maanpeitetulkinnan_opetuspaketti/point-eo-data/model_fitting_RF/myexperiment__xarray__lucas2018_19_lappi__LCluokka__2024-02-06T15-00-47_permutation_importance.png\u001b[0m\n",
      "\u001b[92mSaved permutation importance to /scratch/project_2000630/geoportti/maanpeitetulkinnan_opetuspaketti/point-eo-data/model_fitting_RF/myexperiment__xarray__lucas2018_19_lappi__LCluokka__2024-02-06T15-00-47_permutation_importance.png\u001b[0m\n",
      "\u001b[92mSaved permutation importance to /scratch/project_2000630/geoportti/maanpeitetulkinnan_opetuspaketti/point-eo-data/model_fitting_RF/myexperiment__xarray__lucas2018_19_lappi__LCluokka__2024-02-06T15-00-47_permutation_importance.png\u001b[0m\n",
      "\u001b[92mSaved permutation importance to /scratch/project_2000630/geoportti/maanpeitetulkinnan_opetuspaketti/point-eo-data/model_fitting_RF/myexperiment__xarray__lucas2018_19_lappi__LCluokka__2024-02-06T15-00-47_permutation_importance.png\u001b[0m\n",
      "\u001b[92mSaved permutation importance to /scratch/project_2000630/geoportti/maanpeitetulkinnan_opetuspaketti/point-eo-data/model_fitting_RF/myexperiment__xarray__lucas2018_19_lappi__LCluokka__2024-02-06T15-00-47_permutation_importance.png\u001b[0m\n",
      "Saved model to /scratch/project_2000630/geoportti/maanpeitetulkinnan_opetuspaketti/point-eo-data/model_fitting_RF/myexperiment__xarray__lucas2018_19_lappi__LCluokka__2024-02-06T15-00-47_model.pkl\n",
      "Saved model to /scratch/project_2000630/geoportti/maanpeitetulkinnan_opetuspaketti/point-eo-data/model_fitting_RF/myexperiment__xarray__lucas2018_19_lappi__LCluokka__2024-02-06T15-00-47_model.pkl\n",
      "Saved model to /scratch/project_2000630/geoportti/maanpeitetulkinnan_opetuspaketti/point-eo-data/model_fitting_RF/myexperiment__xarray__lucas2018_19_lappi__LCluokka__2024-02-06T15-00-47_model.pkl\n",
      "Saved model to /scratch/project_2000630/geoportti/maanpeitetulkinnan_opetuspaketti/point-eo-data/model_fitting_RF/myexperiment__xarray__lucas2018_19_lappi__LCluokka__2024-02-06T15-00-47_model.pkl\n",
      "Saved model to /scratch/project_2000630/geoportti/maanpeitetulkinnan_opetuspaketti/point-eo-data/model_fitting_RF/myexperiment__xarray__lucas2018_19_lappi__LCluokka__2024-02-06T15-00-47_model.pkl\n",
      "Saved model to /scratch/project_2000630/geoportti/maanpeitetulkinnan_opetuspaketti/point-eo-data/model_fitting_RF/myexperiment__xarray__lucas2018_19_lappi__LCluokka__2024-02-06T15-00-47_model.pkl\n"
     ]
    },
    {
     "data": {
      "image/png": "[encoded data removed]",
      "text/plain": [
       "<Figure size 1200x500 with 2 Axes>"
      ]
     },
     "metadata": {},
     "output_type": "display_data"
    },
    {
     "data": {
      "image/png": "[encoded data removed]",
      "text/plain": [
       "<Figure size 1500x1500 with 1 Axes>"
      ]
     },
     "metadata": {},
     "output_type": "display_data"
    },
    {
     "data": {
      "image/png": "[encoded data removed]",
      "text/plain": [
       "<Figure size 500x300 with 1 Axes>"
      ]
     },
     "metadata": {},
     "output_type": "display_data"
    }
   ],
   "source": [
    "####  Training, analysis with the defaults (Random Forest)\n",
    "parser = argparse.ArgumentParser()\n",
    "subparsers = parser.add_subparsers(title=\"Available commands\", dest=\"script\")\n",
    "analysis.add_args(subparsers)\n",
    "args = parser.parse_args(['analysis',\n",
    "    '--input', os.path.join(basepth,'sampled','xarray__lucas2018_19_lappi__LCluokka.csv'),\n",
    "    '--out_folder', os.path.join(basepth,'model_fitting_RF'),\n",
    "    '--out_prefix', 'myexperiment',\n",
    "    '--decimal', '.',\n",
    "    '--separator',','])\n",
    "analysis.main(args)"
   ]
  },
  {
   "cell_type": "markdown",
   "id": "05ce02aa-965b-42f7-92d3-6038021fc032",
   "metadata": {},
   "source": [
    "## Inference with the point-eo library\n",
    "### First with TPOT-model \n",
    " "
   ]
  },
  {
   "cell_type": "code",
   "execution_count": null,
   "id": "12dd9250-8b60-4e56-bf84-d093efa502a5",
   "metadata": {
    "tags": []
   },
   "outputs": [
    {
     "name": "stderr",
     "output_type": "stream",
     "text": [
      "  3%|▎         | 1/30 [00:00<00:23,  1.23it/s]"
     ]
    },
    {
     "name": "stdout",
     "output_type": "stream",
     "text": [
      "NoDataInBounds in 0\n"
     ]
    },
    {
     "name": "stderr",
     "output_type": "stream",
     "text": [
      "  7%|▋         | 2/30 [00:01<00:17,  1.61it/s]"
     ]
    },
    {
     "name": "stdout",
     "output_type": "stream",
     "text": [
      "NoDataInBounds in 1\n"
     ]
    },
    {
     "name": "stderr",
     "output_type": "stream",
     "text": [
      " 10%|█         | 3/30 [00:01<00:15,  1.79it/s]"
     ]
    },
    {
     "name": "stdout",
     "output_type": "stream",
     "text": [
      "NoDataInBounds in 2\n"
     ]
    },
    {
     "name": "stderr",
     "output_type": "stream",
     "text": [
      " 13%|█▎        | 4/30 [00:02<00:13,  1.90it/s]"
     ]
    },
    {
     "name": "stdout",
     "output_type": "stream",
     "text": [
      "NoDataInBounds in 3\n"
     ]
    },
    {
     "name": "stderr",
     "output_type": "stream",
     "text": [
      " 17%|█▋        | 5/30 [00:02<00:11,  2.12it/s]"
     ]
    },
    {
     "name": "stdout",
     "output_type": "stream",
     "text": [
      "NoDataInBounds in 4\n"
     ]
    },
    {
     "name": "stderr",
     "output_type": "stream",
     "text": [
      " 20%|██        | 6/30 [00:15<01:52,  4.67s/it]"
     ]
    },
    {
     "name": "stdout",
     "output_type": "stream",
     "text": [
      "SAVED 5\n"
     ]
    },
    {
     "name": "stderr",
     "output_type": "stream",
     "text": [
      " 23%|██▎       | 7/30 [00:27<02:43,  7.11s/it]"
     ]
    },
    {
     "name": "stdout",
     "output_type": "stream",
     "text": [
      "SAVED 6\n"
     ]
    },
    {
     "name": "stderr",
     "output_type": "stream",
     "text": [
      " 27%|██▋       | 8/30 [00:39<03:13,  8.79s/it]"
     ]
    },
    {
     "name": "stdout",
     "output_type": "stream",
     "text": [
      "SAVED 7\n"
     ]
    },
    {
     "name": "stderr",
     "output_type": "stream",
     "text": [
      " 30%|███       | 9/30 [00:48<03:03,  8.73s/it]"
     ]
    },
    {
     "name": "stdout",
     "output_type": "stream",
     "text": [
      "SAVED 8\n"
     ]
    },
    {
     "name": "stderr",
     "output_type": "stream",
     "text": [
      " 33%|███▎      | 10/30 [00:48<02:02,  6.15s/it]"
     ]
    },
    {
     "name": "stdout",
     "output_type": "stream",
     "text": [
      "NoDataInBounds in 9\n"
     ]
    },
    {
     "name": "stderr",
     "output_type": "stream",
     "text": [
      " 37%|███▋      | 11/30 [01:01<02:33,  8.10s/it]"
     ]
    },
    {
     "name": "stdout",
     "output_type": "stream",
     "text": [
      "SAVED 10\n"
     ]
    },
    {
     "name": "stderr",
     "output_type": "stream",
     "text": [
      " 40%|████      | 12/30 [01:14<02:51,  9.54s/it]"
     ]
    },
    {
     "name": "stdout",
     "output_type": "stream",
     "text": [
      "SAVED 11\n"
     ]
    },
    {
     "name": "stderr",
     "output_type": "stream",
     "text": [
      " 43%|████▎     | 13/30 [01:26<02:57, 10.47s/it]"
     ]
    },
    {
     "name": "stdout",
     "output_type": "stream",
     "text": [
      "SAVED 12\n"
     ]
    },
    {
     "name": "stderr",
     "output_type": "stream",
     "text": [
      " 47%|████▋     | 14/30 [01:36<02:41, 10.09s/it]"
     ]
    },
    {
     "name": "stdout",
     "output_type": "stream",
     "text": [
      "SAVED 13\n"
     ]
    },
    {
     "name": "stderr",
     "output_type": "stream",
     "text": [
      " 50%|█████     | 15/30 [01:36<01:47,  7.16s/it]"
     ]
    },
    {
     "name": "stdout",
     "output_type": "stream",
     "text": [
      "NoDataInBounds in 14\n"
     ]
    },
    {
     "name": "stderr",
     "output_type": "stream",
     "text": [
      " 53%|█████▎    | 16/30 [01:48<02:02,  8.72s/it]"
     ]
    },
    {
     "name": "stdout",
     "output_type": "stream",
     "text": [
      "SAVED 15\n"
     ]
    },
    {
     "name": "stderr",
     "output_type": "stream",
     "text": [
      " 57%|█████▋    | 17/30 [02:01<02:08,  9.89s/it]"
     ]
    },
    {
     "name": "stdout",
     "output_type": "stream",
     "text": [
      "SAVED 16\n"
     ]
    },
    {
     "name": "stderr",
     "output_type": "stream",
     "text": [
      " 60%|██████    | 18/30 [02:14<02:08, 10.71s/it]"
     ]
    },
    {
     "name": "stdout",
     "output_type": "stream",
     "text": [
      "SAVED 17\n"
     ]
    },
    {
     "name": "stderr",
     "output_type": "stream",
     "text": [
      " 63%|██████▎   | 19/30 [02:23<01:53, 10.34s/it]"
     ]
    },
    {
     "name": "stdout",
     "output_type": "stream",
     "text": [
      "SAVED 18\n"
     ]
    },
    {
     "name": "stderr",
     "output_type": "stream",
     "text": [
      " 67%|██████▋   | 20/30 [02:23<01:13,  7.35s/it]"
     ]
    },
    {
     "name": "stdout",
     "output_type": "stream",
     "text": [
      "NoDataInBounds in 19\n"
     ]
    },
    {
     "name": "stderr",
     "output_type": "stream",
     "text": [
      " 70%|███████   | 21/30 [02:36<01:19,  8.80s/it]"
     ]
    },
    {
     "name": "stdout",
     "output_type": "stream",
     "text": [
      "SAVED 20\n"
     ]
    },
    {
     "name": "stderr",
     "output_type": "stream",
     "text": [
      " 73%|███████▎  | 22/30 [02:48<01:18,  9.84s/it]"
     ]
    },
    {
     "name": "stdout",
     "output_type": "stream",
     "text": [
      "SAVED 21\n"
     ]
    },
    {
     "name": "stderr",
     "output_type": "stream",
     "text": [
      " 77%|███████▋  | 23/30 [03:00<01:14, 10.61s/it]"
     ]
    },
    {
     "name": "stdout",
     "output_type": "stream",
     "text": [
      "SAVED 22\n"
     ]
    },
    {
     "name": "stderr",
     "output_type": "stream",
     "text": [
      " 80%|████████  | 24/30 [03:09<01:00, 10.15s/it]"
     ]
    },
    {
     "name": "stdout",
     "output_type": "stream",
     "text": [
      "SAVED 23\n"
     ]
    },
    {
     "name": "stderr",
     "output_type": "stream",
     "text": [
      " 83%|████████▎ | 25/30 [03:10<00:36,  7.22s/it]"
     ]
    },
    {
     "name": "stdout",
     "output_type": "stream",
     "text": [
      "NoDataInBounds in 24\n"
     ]
    },
    {
     "name": "stderr",
     "output_type": "stream",
     "text": [
      " 87%|████████▋ | 26/30 [03:13<00:24,  6.02s/it]"
     ]
    },
    {
     "name": "stdout",
     "output_type": "stream",
     "text": [
      "SAVED 25\n"
     ]
    },
    {
     "name": "stderr",
     "output_type": "stream",
     "text": [
      " 90%|█████████ | 27/30 [03:16<00:15,  5.24s/it]"
     ]
    },
    {
     "name": "stdout",
     "output_type": "stream",
     "text": [
      "SAVED 26\n"
     ]
    },
    {
     "name": "stderr",
     "output_type": "stream",
     "text": [
      " 93%|█████████▎| 28/30 [03:20<00:09,  4.65s/it]"
     ]
    },
    {
     "name": "stdout",
     "output_type": "stream",
     "text": [
      "SAVED 27\n"
     ]
    },
    {
     "name": "stderr",
     "output_type": "stream",
     "text": [
      " 97%|█████████▋| 29/30 [03:22<00:04,  4.00s/it]"
     ]
    },
    {
     "name": "stdout",
     "output_type": "stream",
     "text": [
      "SAVED 28\n"
     ]
    },
    {
     "name": "stderr",
     "output_type": "stream",
     "text": [
      "100%|██████████| 30/30 [03:22<00:00,  6.77s/it]"
     ]
    },
    {
     "name": "stdout",
     "output_type": "stream",
     "text": [
      "NoDataInBounds in 29\n",
      "Writing .vrt file...\n"
     ]
    },
    {
     "name": "stderr",
     "output_type": "stream",
     "text": [
      "\n"
     ]
    },
    {
     "name": "stdout",
     "output_type": "stream",
     "text": [
      "0...10...20...30...40...50...60...70...80...90...100 - done.\n"
     ]
    }
   ],
   "source": [
    "bbox  = [484280.9100000000325963,7693860.217000000178813,526940.9100000000325963,7730770.2170000001788139]\n",
    "\n",
    "\n",
    "Fx = cube.where((bbox[0] < cube.x) & (cube.x < bbox[2])\n",
    "         & (bbox[1] < cube.y) & (cube.y < bbox[3]), drop=True).to_array().squeeze()\n",
    "\n",
    "# Load tpot-model from analysis step\n",
    "with open(os.path.join(basepth,'model_fitting_tpot','myexperiment__xarray__lucas2018_19_lappi__LCluokka__2024-02-06T14-59-41_model.pkl'), \"rb\") as f:\n",
    "    TPOT_model = pickle.load(f)\n",
    "\n",
    "\n",
    "# cell size of the interference blocks\n",
    "grid_cells = predict.create_cell_grid(Fx, 10000)\n",
    "predict.calculate(model = TPOT_model,\n",
    "                  Fx = Fx,\n",
    "                  cell_list = grid_cells,\n",
    "                  verbose=2,\n",
    "                  out_folder = os.path.join(basepth,'predict_output_tpot'))\n",
    "# Combine blocks\n",
    "predict.merge_folder(os.path.join(basepth,'predict_output_tpot'),\n",
    "                     os.path.join(basepth,\"out_tpot.vrt\"))\n",
    "\n",
    "#### postprocess_prediction, creates 2 tiff files\n",
    "parser = argparse.ArgumentParser()\n",
    "subparsers = parser.add_subparsers(title=\"Available commands\", dest=\"script\")\n",
    "postprocess_prediction.add_args(subparsers)\n",
    "args = parser.parse_args(['postprocess_prediction',\n",
    "    '--input_raster', os.path.join(basepth,\"out_tpot.vrt\"),\n",
    "    '--out_folder', os.path.join(basepth,'postprocess_tpot')\n",
    "    ])\n",
    "postprocess_prediction.main(args)\n",
    "\n",
    "\n",
    "# Save as geotiff\n",
    "Rx = rxr.open_rasterio(\n",
    "    os.path.join(basepth,\"out_tpot.vrt\"),\n",
    "    chunks={\"band\": -1, \"x\": 2**10, \"y\": 2**10},\n",
    "    lock=False,\n",
    "    parallel=True,\n",
    ")\n",
    "Rx.rio.to_raster(os.path.join(basepth,'myresult_tpot.tif'))"
   ]
  },
  {
   "cell_type": "markdown",
   "id": "d3685459-51cb-4037-b1fb-1ded69a8020b",
   "metadata": {},
   "source": [
    "### Then with RF-model"
   ]
  },
  {
   "cell_type": "code",
   "execution_count": 15,
   "id": "b2f1bca8-c4a9-4cf8-844d-c23d5eb00c76",
   "metadata": {
    "tags": []
   },
   "outputs": [
    {
     "name": "stderr",
     "output_type": "stream",
     "text": [
      "  3%|▎         | 1/30 [00:00<00:18,  1.53it/s]"
     ]
    },
    {
     "name": "stdout",
     "output_type": "stream",
     "text": [
      "NoDataInBounds in 0\n"
     ]
    },
    {
     "name": "stderr",
     "output_type": "stream",
     "text": [
      "  7%|▋         | 2/30 [00:01<00:14,  1.87it/s]"
     ]
    },
    {
     "name": "stdout",
     "output_type": "stream",
     "text": [
      "NoDataInBounds in 1\n"
     ]
    },
    {
     "name": "stderr",
     "output_type": "stream",
     "text": [
      " 10%|█         | 3/30 [00:01<00:13,  1.99it/s]"
     ]
    },
    {
     "name": "stdout",
     "output_type": "stream",
     "text": [
      "NoDataInBounds in 2\n"
     ]
    },
    {
     "name": "stderr",
     "output_type": "stream",
     "text": [
      " 13%|█▎        | 4/30 [00:02<00:12,  2.06it/s]"
     ]
    },
    {
     "name": "stdout",
     "output_type": "stream",
     "text": [
      "NoDataInBounds in 3\n"
     ]
    },
    {
     "name": "stderr",
     "output_type": "stream",
     "text": [
      " 17%|█▋        | 5/30 [00:02<00:10,  2.28it/s]"
     ]
    },
    {
     "name": "stdout",
     "output_type": "stream",
     "text": [
      "NoDataInBounds in 4\n"
     ]
    },
    {
     "name": "stderr",
     "output_type": "stream",
     "text": [
      " 20%|██        | 6/30 [00:14<01:42,  4.25s/it]"
     ]
    },
    {
     "name": "stdout",
     "output_type": "stream",
     "text": [
      "SAVED 5\n"
     ]
    },
    {
     "name": "stderr",
     "output_type": "stream",
     "text": [
      " 23%|██▎       | 7/30 [00:25<02:30,  6.56s/it]"
     ]
    },
    {
     "name": "stdout",
     "output_type": "stream",
     "text": [
      "SAVED 6\n"
     ]
    },
    {
     "name": "stderr",
     "output_type": "stream",
     "text": [
      " 27%|██▋       | 8/30 [00:36<02:58,  8.13s/it]"
     ]
    },
    {
     "name": "stdout",
     "output_type": "stream",
     "text": [
      "SAVED 7\n"
     ]
    },
    {
     "name": "stderr",
     "output_type": "stream",
     "text": [
      " 30%|███       | 9/30 [00:44<02:48,  8.00s/it]"
     ]
    },
    {
     "name": "stdout",
     "output_type": "stream",
     "text": [
      "SAVED 8\n"
     ]
    },
    {
     "name": "stderr",
     "output_type": "stream",
     "text": [
      " 33%|███▎      | 10/30 [00:44<01:52,  5.64s/it]"
     ]
    },
    {
     "name": "stdout",
     "output_type": "stream",
     "text": [
      "NoDataInBounds in 9\n"
     ]
    },
    {
     "name": "stderr",
     "output_type": "stream",
     "text": [
      " 37%|███▋      | 11/30 [00:56<02:21,  7.45s/it]"
     ]
    },
    {
     "name": "stdout",
     "output_type": "stream",
     "text": [
      "SAVED 10\n"
     ]
    },
    {
     "name": "stderr",
     "output_type": "stream",
     "text": [
      " 40%|████      | 12/30 [01:08<02:37,  8.73s/it]"
     ]
    },
    {
     "name": "stdout",
     "output_type": "stream",
     "text": [
      "SAVED 11\n"
     ]
    },
    {
     "name": "stderr",
     "output_type": "stream",
     "text": [
      " 43%|████▎     | 13/30 [01:20<02:44,  9.68s/it]"
     ]
    },
    {
     "name": "stdout",
     "output_type": "stream",
     "text": [
      "SAVED 12\n"
     ]
    },
    {
     "name": "stderr",
     "output_type": "stream",
     "text": [
      " 47%|████▋     | 14/30 [01:28<02:28,  9.30s/it]"
     ]
    },
    {
     "name": "stdout",
     "output_type": "stream",
     "text": [
      "SAVED 13\n"
     ]
    },
    {
     "name": "stderr",
     "output_type": "stream",
     "text": [
      " 50%|█████     | 15/30 [01:28<01:39,  6.60s/it]"
     ]
    },
    {
     "name": "stdout",
     "output_type": "stream",
     "text": [
      "NoDataInBounds in 14\n"
     ]
    },
    {
     "name": "stderr",
     "output_type": "stream",
     "text": [
      " 53%|█████▎    | 16/30 [01:40<01:52,  8.06s/it]"
     ]
    },
    {
     "name": "stdout",
     "output_type": "stream",
     "text": [
      "SAVED 15\n"
     ]
    },
    {
     "name": "stderr",
     "output_type": "stream",
     "text": [
      " 57%|█████▋    | 17/30 [01:51<01:58,  9.12s/it]"
     ]
    },
    {
     "name": "stdout",
     "output_type": "stream",
     "text": [
      "SAVED 16\n"
     ]
    },
    {
     "name": "stderr",
     "output_type": "stream",
     "text": [
      " 60%|██████    | 18/30 [02:03<01:58,  9.90s/it]"
     ]
    },
    {
     "name": "stdout",
     "output_type": "stream",
     "text": [
      "SAVED 17\n"
     ]
    },
    {
     "name": "stderr",
     "output_type": "stream",
     "text": [
      " 63%|██████▎   | 19/30 [02:11<01:44,  9.47s/it]"
     ]
    },
    {
     "name": "stdout",
     "output_type": "stream",
     "text": [
      "SAVED 18\n"
     ]
    },
    {
     "name": "stderr",
     "output_type": "stream",
     "text": [
      " 67%|██████▋   | 20/30 [02:12<01:07,  6.74s/it]"
     ]
    },
    {
     "name": "stdout",
     "output_type": "stream",
     "text": [
      "NoDataInBounds in 19\n"
     ]
    },
    {
     "name": "stderr",
     "output_type": "stream",
     "text": [
      " 70%|███████   | 21/30 [02:23<01:12,  8.08s/it]"
     ]
    },
    {
     "name": "stdout",
     "output_type": "stream",
     "text": [
      "SAVED 20\n"
     ]
    },
    {
     "name": "stderr",
     "output_type": "stream",
     "text": [
      " 73%|███████▎  | 22/30 [02:35<01:12,  9.10s/it]"
     ]
    },
    {
     "name": "stdout",
     "output_type": "stream",
     "text": [
      "SAVED 21\n"
     ]
    },
    {
     "name": "stderr",
     "output_type": "stream",
     "text": [
      " 77%|███████▋  | 23/30 [02:46<01:08,  9.84s/it]"
     ]
    },
    {
     "name": "stdout",
     "output_type": "stream",
     "text": [
      "SAVED 22\n"
     ]
    },
    {
     "name": "stderr",
     "output_type": "stream",
     "text": [
      " 80%|████████  | 24/30 [02:54<00:55,  9.31s/it]"
     ]
    },
    {
     "name": "stdout",
     "output_type": "stream",
     "text": [
      "SAVED 23\n"
     ]
    },
    {
     "name": "stderr",
     "output_type": "stream",
     "text": [
      " 83%|████████▎ | 25/30 [02:55<00:33,  6.63s/it]"
     ]
    },
    {
     "name": "stdout",
     "output_type": "stream",
     "text": [
      "NoDataInBounds in 24\n"
     ]
    },
    {
     "name": "stderr",
     "output_type": "stream",
     "text": [
      " 87%|████████▋ | 26/30 [02:57<00:22,  5.51s/it]"
     ]
    },
    {
     "name": "stdout",
     "output_type": "stream",
     "text": [
      "SAVED 25\n"
     ]
    },
    {
     "name": "stderr",
     "output_type": "stream",
     "text": [
      " 90%|█████████ | 27/30 [03:01<00:14,  4.78s/it]"
     ]
    },
    {
     "name": "stdout",
     "output_type": "stream",
     "text": [
      "SAVED 26\n"
     ]
    },
    {
     "name": "stderr",
     "output_type": "stream",
     "text": [
      " 93%|█████████▎| 28/30 [03:04<00:08,  4.24s/it]"
     ]
    },
    {
     "name": "stdout",
     "output_type": "stream",
     "text": [
      "SAVED 27\n"
     ]
    },
    {
     "name": "stderr",
     "output_type": "stream",
     "text": [
      " 97%|█████████▋| 29/30 [03:06<00:03,  3.65s/it]"
     ]
    },
    {
     "name": "stdout",
     "output_type": "stream",
     "text": [
      "SAVED 28\n"
     ]
    },
    {
     "name": "stderr",
     "output_type": "stream",
     "text": [
      "100%|██████████| 30/30 [03:06<00:00,  6.22s/it]"
     ]
    },
    {
     "name": "stdout",
     "output_type": "stream",
     "text": [
      "NoDataInBounds in 29\n",
      "Writing .vrt file...\n",
      "0...10...20...30...40...50...60...70...80...90...100 - done.\n"
     ]
    },
    {
     "name": "stderr",
     "output_type": "stream",
     "text": [
      "\n"
     ]
    },
    {
     "name": "stdout",
     "output_type": "stream",
     "text": [
      "Saved S and M rasters\n"
     ]
    }
   ],
   "source": [
    "# load rf-model from the analysis stem\n",
    "with open(os.path.join(basepth,'model_fitting_RF','myexperiment__xarray__lucas2018_19_lappi__LCluokka__2024-02-06T11-04-12_model.pkl'), \"rb\") as f:\n",
    "    RF_model = pickle.load(f)\n",
    "\n",
    "predict.calculate(model = RF_model,\n",
    "                  Fx = Fx,\n",
    "                  cell_list = grid_cells,\n",
    "                  verbose=2,\n",
    "                  out_folder = os.path.join(basepth,'predict_output_RF'))\n",
    "# Combine blocks\n",
    "predict.merge_folder(os.path.join(basepth,'predict_output_RF'),\n",
    "                     os.path.join(basepth,\"out_RF.vrt\"))\n",
    "\n",
    "# Save as geotiff\n",
    "Rx = rxr.open_rasterio(\n",
    "    os.path.join(basepth,\"out_RF.vrt\"),\n",
    "    chunks={\"band\": -1, \"x\": 2**10, \"y\": 2**10},\n",
    "    lock=False,\n",
    "    parallel=True,\n",
    ")\n",
    "Rx.rio.to_raster(os.path.join(basepth,'myresult_RF.tif'))\n",
    "\n",
    "\n",
    "#### postprocess_prediction, creates 2 tiff files\n",
    "parser = argparse.ArgumentParser()\n",
    "subparsers = parser.add_subparsers(title=\"Available commands\", dest=\"script\")\n",
    "postprocess_prediction.add_args(subparsers)\n",
    "args = parser.parse_args(['postprocess_prediction',\n",
    "    '--input_raster', os.path.join(basepth,\"out_RF.vrt\"),\n",
    "    '--out_folder', os.path.join(basepth,'postprocess_RF')\n",
    "    ])\n",
    "postprocess_prediction.main(args)"
   ]
  },
  {
   "cell_type": "markdown",
   "id": "849ddbc6-ddff-4ba9-90e4-995d51f4894f",
   "metadata": {},
   "source": [
    "## Visualisation of the results\n",
    "\n",
    "Open the RF_S and tpot_S rasters, found in the outputfolder of the postprocessing step, in QGIS and visually evaluate the prediction performance and write a written summary about it "
   ]
  },
  {
   "cell_type": "code",
   "execution_count": null,
   "id": "be3c7338-96b8-45d8-80d3-16ff58683474",
   "metadata": {},
   "outputs": [],
   "source": []
  }
 ],
 "metadata": {
  "kernelspec": {
   "display_name": "Python 3 (ipykernel)",
   "language": "python",
   "name": "python3"
  },
  "language_info": {
   "codemirror_mode": {
    "name": "ipython",
    "version": 3
   },
   "file_extension": ".py",
   "mimetype": "text/x-python",
   "name": "python",
   "nbconvert_exporter": "python",
   "pygments_lexer": "ipython3",
   "version": "3.10.9"
  }
 },
 "nbformat": 4,
 "nbformat_minor": 5
}
