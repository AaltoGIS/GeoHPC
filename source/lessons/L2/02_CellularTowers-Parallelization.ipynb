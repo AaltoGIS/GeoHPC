{
 "cells": [
  {
   "cell_type": "markdown",
   "id": "eefa4f10",
   "metadata": {},
   "source": [
    "# Tutorial 2. Point aggregation\n",
    "\n",
    "# Aggregation of Cell Towers at country level around the world\n",
    "\n",
    "# MAP\n",
    "\n",
    "## Introduction\n",
    "\n",
    "In this Lesson 2, we are going to aggregate a global dataset of Cell Towers at country level. Commonly, the aggregation points to polygons is done using **Spatial Join** which is incorporated in the common python library Geopandas for spatial analysis. Geopandas has improved considerably and the aggregation runs quite fast. But, as we are exploring parallelization, we will test the library **Dask** which is designed to use the computational resources in parallel. Also, there is an integration to Geopandas which is **Dask-Geopandas** that will be used to compare the time processing with and withouth parallelization.\n",
    "\n",
    "This exercise is designed for teaching purposes of **Spatial Data Science with High Performance Computing (HPC) at Aalto University**. Thanks to the computational resources provided by [CSC](https://www.csc.fi/) this exercises was tested in the Puhti supercomputer.\n",
    "\n",
    "## Objective\n",
    "To compare the time processing of a spatial join at global level using Geopandas and Dask-Geopandas \n",
    "\n",
    "## Datasets\n",
    "\n",
    "### Cell Towers from OpenCellID\n",
    "The database of Cell Towers was downloaded from [OpenCellID](https://opencellid.org/downloads.php) and stored in Allas for your availability. The compressed file is ~1 GB and decompressed ~7 GB. You will downloaded directly on your supercomputer.\n",
    "\n",
    "### Country admin level\n",
    "The country border layer was downloded from [Natural Earth](https://www.naturalearthdata.com/downloads/10m-cultural-vectors/10m-admin-0-countries/) and stored in Allas for your availability. The Geopackage file is ~4 MB.\n",
    "\n",
    "## Output\n",
    "The process will give as output the Cell Towers with country name attribute and also the country border with the aggregation value.\n",
    "\n",
    "## HPC resources\n",
    "\n",
    "CSC Machine-Puhti:\n",
    "\n",
    "- *Partition*: small\n",
    "- *CPU Cores*: 8\n",
    "- *Memory (GB)*: 64\n",
    "- *Local Disk (GB)*: 100"
   ]
  },
  {
   "cell_type": "markdown",
   "id": "ef5c57d4",
   "metadata": {},
   "source": [
    "## Download dataset from Allas\n",
    "\n",
    "The dataset for this practice are stored in Allas and can be downloaded to your local HPC using the next commands. Simply, run the next cells."
   ]
  },
  {
   "cell_type": "code",
   "execution_count": null,
   "id": "02ef0d5f",
   "metadata": {},
   "outputs": [],
   "source": [
    "!wget https://a3s.fi/swift/v1/AUTH_a6b8530017f34af9861fcf45a738ad3f/L2-CellTowers/L2-CellTowers-data.csv.gz"
   ]
  },
  {
   "cell_type": "code",
   "execution_count": null,
   "id": "091ad8d5",
   "metadata": {},
   "outputs": [],
   "source": [
    "!wget https://a3s.fi/swift/v1/AUTH_a6b8530017f34af9861fcf45a738ad3f/L2-CellTowers/L2-CountryAdmin-data.gpkg"
   ]
  },
  {
   "cell_type": "markdown",
   "id": "33317a25",
   "metadata": {},
   "source": [
    "# Hands-on coding\n",
    "Follow the instructions and run every cell in the supercomputer.\n",
    "\n",
    "## Importing Python libraries\n",
    "\n",
    "Be sure that you have installed the *dask_geopandas* in your environment. Get familiar with this library reading a bit the [Dask-Geopandas Documentation](https://dask-geopandas.readthedocs.io/en/stable/)"
   ]
  },
  {
   "cell_type": "code",
   "execution_count": 45,
   "id": "aa67749b",
   "metadata": {},
   "outputs": [],
   "source": [
    "import os\n",
    "\n",
    "import dask_geopandas as geodask\n",
    "import dask\n",
    "import pyarrow\n",
    "\n",
    "from dask import delayed\n",
    "import geopandas as gpd\n",
    "import pandas as pd\n",
    "\n",
    "import multiprocessing as mp\n",
    "\n",
    "import time\n",
    "import matplotlib.pyplot as plt\n",
    "\n",
    "import warnings\n",
    "warnings.simplefilter(\"ignore\")"
   ]
  },
  {
   "cell_type": "markdown",
   "id": "d45bca5a",
   "metadata": {},
   "source": [
    "# 1) Geopandas - 1 Core"
   ]
  },
  {
   "cell_type": "markdown",
   "id": "69e44094",
   "metadata": {},
   "source": [
    "### Read data"
   ]
  },
  {
   "cell_type": "code",
   "execution_count": 2,
   "id": "83c74302",
   "metadata": {},
   "outputs": [
    {
     "name": "stdout",
     "output_type": "stream",
     "text": [
      "CPU times: user 46.7 s, sys: 10 s, total: 56.7 s\n",
      "Wall time: 56.9 s\n"
     ]
    }
   ],
   "source": [
    "%%time\n",
    "\n",
    "# read as loop of pandas dataframe\n",
    "\n",
    "# ---- read in DF  \n",
    "data_df = pd.read_csv('opencellid/cell_towers.csv.gz', \n",
    "                      compression='gzip'\n",
    "                      )"
   ]
  },
  {
   "cell_type": "code",
   "execution_count": 3,
   "id": "53a5d71d",
   "metadata": {},
   "outputs": [
    {
     "data": {
      "text/plain": [
       "47.263882"
      ]
     },
     "execution_count": 3,
     "metadata": {},
     "output_type": "execute_result"
    }
   ],
   "source": [
    "len(data_df)/1000000"
   ]
  },
  {
   "cell_type": "code",
   "execution_count": 4,
   "id": "7724c270",
   "metadata": {},
   "outputs": [
    {
     "data": {
      "text/html": [
       "<div>\n",
       "<style scoped>\n",
       "    .dataframe tbody tr th:only-of-type {\n",
       "        vertical-align: middle;\n",
       "    }\n",
       "\n",
       "    .dataframe tbody tr th {\n",
       "        vertical-align: top;\n",
       "    }\n",
       "\n",
       "    .dataframe thead th {\n",
       "        text-align: right;\n",
       "    }\n",
       "</style>\n",
       "<table border=\"1\" class=\"dataframe\">\n",
       "  <thead>\n",
       "    <tr style=\"text-align: right;\">\n",
       "      <th></th>\n",
       "      <th>radio</th>\n",
       "      <th>mcc</th>\n",
       "      <th>net</th>\n",
       "      <th>area</th>\n",
       "      <th>cell</th>\n",
       "      <th>unit</th>\n",
       "      <th>lon</th>\n",
       "      <th>lat</th>\n",
       "      <th>range</th>\n",
       "      <th>samples</th>\n",
       "      <th>changeable</th>\n",
       "      <th>created</th>\n",
       "      <th>updated</th>\n",
       "      <th>averageSignal</th>\n",
       "    </tr>\n",
       "  </thead>\n",
       "  <tbody>\n",
       "    <tr>\n",
       "      <th>0</th>\n",
       "      <td>UMTS</td>\n",
       "      <td>262</td>\n",
       "      <td>2</td>\n",
       "      <td>801</td>\n",
       "      <td>86355</td>\n",
       "      <td>0</td>\n",
       "      <td>13.285512</td>\n",
       "      <td>52.522202</td>\n",
       "      <td>1000</td>\n",
       "      <td>7</td>\n",
       "      <td>1</td>\n",
       "      <td>1282569574</td>\n",
       "      <td>1300155341</td>\n",
       "      <td>0</td>\n",
       "    </tr>\n",
       "    <tr>\n",
       "      <th>1</th>\n",
       "      <td>GSM</td>\n",
       "      <td>262</td>\n",
       "      <td>2</td>\n",
       "      <td>801</td>\n",
       "      <td>1795</td>\n",
       "      <td>0</td>\n",
       "      <td>13.276907</td>\n",
       "      <td>52.525714</td>\n",
       "      <td>5716</td>\n",
       "      <td>9</td>\n",
       "      <td>1</td>\n",
       "      <td>1282569574</td>\n",
       "      <td>1300155341</td>\n",
       "      <td>0</td>\n",
       "    </tr>\n",
       "  </tbody>\n",
       "</table>\n",
       "</div>"
      ],
      "text/plain": [
       "  radio  mcc  net  area   cell  unit        lon        lat  range  samples  \\\n",
       "0  UMTS  262    2   801  86355     0  13.285512  52.522202   1000        7   \n",
       "1   GSM  262    2   801   1795     0  13.276907  52.525714   5716        9   \n",
       "\n",
       "   changeable     created     updated  averageSignal  \n",
       "0           1  1282569574  1300155341              0  \n",
       "1           1  1282569574  1300155341              0  "
      ]
     },
     "execution_count": 4,
     "metadata": {},
     "output_type": "execute_result"
    }
   ],
   "source": [
    "data_df.head(2)"
   ]
  },
  {
   "cell_type": "markdown",
   "id": "8a6545dc",
   "metadata": {},
   "source": [
    "### Create Geodataframe"
   ]
  },
  {
   "cell_type": "code",
   "execution_count": 5,
   "id": "7d0fbc46",
   "metadata": {},
   "outputs": [],
   "source": [
    "# geodataframe\n",
    "data_gdf = gpd.GeoDataFrame(data_df, \n",
    "                           geometry = gpd.points_from_xy(data_df.lon, data_df.lat),\n",
    "                           crs=4326)"
   ]
  },
  {
   "cell_type": "code",
   "execution_count": 6,
   "id": "ae74ca61",
   "metadata": {},
   "outputs": [],
   "source": [
    "antennas_gdf = data_gdf[['lon', 'lat', 'created', 'geometry']]"
   ]
  },
  {
   "cell_type": "code",
   "execution_count": 7,
   "id": "0f5ebd83",
   "metadata": {},
   "outputs": [
    {
     "data": {
      "text/html": [
       "<div>\n",
       "<style scoped>\n",
       "    .dataframe tbody tr th:only-of-type {\n",
       "        vertical-align: middle;\n",
       "    }\n",
       "\n",
       "    .dataframe tbody tr th {\n",
       "        vertical-align: top;\n",
       "    }\n",
       "\n",
       "    .dataframe thead th {\n",
       "        text-align: right;\n",
       "    }\n",
       "</style>\n",
       "<table border=\"1\" class=\"dataframe\">\n",
       "  <thead>\n",
       "    <tr style=\"text-align: right;\">\n",
       "      <th></th>\n",
       "      <th>lon</th>\n",
       "      <th>lat</th>\n",
       "      <th>created</th>\n",
       "      <th>geometry</th>\n",
       "    </tr>\n",
       "  </thead>\n",
       "  <tbody>\n",
       "    <tr>\n",
       "      <th>0</th>\n",
       "      <td>13.285512</td>\n",
       "      <td>52.522202</td>\n",
       "      <td>1282569574</td>\n",
       "      <td>POINT (13.28551 52.52220)</td>\n",
       "    </tr>\n",
       "    <tr>\n",
       "      <th>1</th>\n",
       "      <td>13.276907</td>\n",
       "      <td>52.525714</td>\n",
       "      <td>1282569574</td>\n",
       "      <td>POINT (13.27691 52.52571)</td>\n",
       "    </tr>\n",
       "  </tbody>\n",
       "</table>\n",
       "</div>"
      ],
      "text/plain": [
       "         lon        lat     created                   geometry\n",
       "0  13.285512  52.522202  1282569574  POINT (13.28551 52.52220)\n",
       "1  13.276907  52.525714  1282569574  POINT (13.27691 52.52571)"
      ]
     },
     "execution_count": 7,
     "metadata": {},
     "output_type": "execute_result"
    }
   ],
   "source": [
    "antennas_gdf.head(2)"
   ]
  },
  {
   "cell_type": "markdown",
   "id": "4f888c54",
   "metadata": {},
   "source": [
    "## Create a source DataFrame - World countries"
   ]
  },
  {
   "cell_type": "code",
   "execution_count": 8,
   "id": "2a825039",
   "metadata": {},
   "outputs": [],
   "source": [
    "# from geopandas\n",
    "countries = gpd.read_file(r'shp/world-administrative-boundaries.shp')"
   ]
  },
  {
   "cell_type": "code",
   "execution_count": 9,
   "id": "0e23db71",
   "metadata": {},
   "outputs": [
    {
     "data": {
      "text/html": [
       "<div>\n",
       "<style scoped>\n",
       "    .dataframe tbody tr th:only-of-type {\n",
       "        vertical-align: middle;\n",
       "    }\n",
       "\n",
       "    .dataframe tbody tr th {\n",
       "        vertical-align: top;\n",
       "    }\n",
       "\n",
       "    .dataframe thead th {\n",
       "        text-align: right;\n",
       "    }\n",
       "</style>\n",
       "<table border=\"1\" class=\"dataframe\">\n",
       "  <thead>\n",
       "    <tr style=\"text-align: right;\">\n",
       "      <th></th>\n",
       "      <th>iso3</th>\n",
       "      <th>name</th>\n",
       "      <th>continent</th>\n",
       "      <th>geometry</th>\n",
       "    </tr>\n",
       "  </thead>\n",
       "  <tbody>\n",
       "    <tr>\n",
       "      <th>0</th>\n",
       "      <td>UGA</td>\n",
       "      <td>Uganda</td>\n",
       "      <td>Africa</td>\n",
       "      <td>POLYGON ((33.92110 -1.00194, 33.92027 -1.00111...</td>\n",
       "    </tr>\n",
       "    <tr>\n",
       "      <th>1</th>\n",
       "      <td>UZB</td>\n",
       "      <td>Uzbekistan</td>\n",
       "      <td>Asia</td>\n",
       "      <td>POLYGON ((70.97081 42.25467, 70.98054 42.26205...</td>\n",
       "    </tr>\n",
       "    <tr>\n",
       "      <th>2</th>\n",
       "      <td>IRL</td>\n",
       "      <td>Ireland</td>\n",
       "      <td>Europe</td>\n",
       "      <td>MULTIPOLYGON (((-9.97014 54.02083, -9.93833 53...</td>\n",
       "    </tr>\n",
       "    <tr>\n",
       "      <th>3</th>\n",
       "      <td>ERI</td>\n",
       "      <td>Eritrea</td>\n",
       "      <td>Africa</td>\n",
       "      <td>MULTIPOLYGON (((40.13583 15.75250, 40.12861 15...</td>\n",
       "    </tr>\n",
       "    <tr>\n",
       "      <th>5</th>\n",
       "      <td>MNG</td>\n",
       "      <td>Mongolia</td>\n",
       "      <td>Asia</td>\n",
       "      <td>POLYGON ((116.71138 49.83047, 116.64665 49.738...</td>\n",
       "    </tr>\n",
       "  </tbody>\n",
       "</table>\n",
       "</div>"
      ],
      "text/plain": [
       "  iso3        name continent  \\\n",
       "0  UGA      Uganda    Africa   \n",
       "1  UZB  Uzbekistan      Asia   \n",
       "2  IRL     Ireland    Europe   \n",
       "3  ERI     Eritrea    Africa   \n",
       "5  MNG    Mongolia      Asia   \n",
       "\n",
       "                                            geometry  \n",
       "0  POLYGON ((33.92110 -1.00194, 33.92027 -1.00111...  \n",
       "1  POLYGON ((70.97081 42.25467, 70.98054 42.26205...  \n",
       "2  MULTIPOLYGON (((-9.97014 54.02083, -9.93833 53...  \n",
       "3  MULTIPOLYGON (((40.13583 15.75250, 40.12861 15...  \n",
       "5  POLYGON ((116.71138 49.83047, 116.64665 49.738...  "
      ]
     },
     "execution_count": 9,
     "metadata": {},
     "output_type": "execute_result"
    }
   ],
   "source": [
    "countries = countries.dropna()\n",
    "\n",
    "countries_gdf = countries[['iso3', 'name', 'continent', 'geometry']]\n",
    "\n",
    "countries_gdf.head()"
   ]
  },
  {
   "cell_type": "code",
   "execution_count": 10,
   "id": "39f21552",
   "metadata": {},
   "outputs": [
    {
     "data": {
      "image/png": "[encoded data removed]",
      "text/plain": [
       "<Figure size 640x480 with 1 Axes>"
      ]
     },
     "metadata": {},
     "output_type": "display_data"
    }
   ],
   "source": [
    "ax = countries_gdf.plot(column='continent', categorical=True);\n",
    "ax.axis(False);"
   ]
  },
  {
   "cell_type": "markdown",
   "id": "5ee17679",
   "metadata": {},
   "source": [
    "## Spatial Join"
   ]
  },
  {
   "cell_type": "code",
   "execution_count": 11,
   "id": "66ce7393",
   "metadata": {},
   "outputs": [
    {
     "name": "stdout",
     "output_type": "stream",
     "text": [
      "CPU times: user 2min 21s, sys: 11.5 s, total: 2min 33s\n",
      "Wall time: 2min 32s\n"
     ]
    }
   ],
   "source": [
    "%%time\n",
    "\n",
    "s1 = time.time()\n",
    "\n",
    "# ----- S Join\n",
    "antennas_gpd = gpd.sjoin(antennas_gdf, countries_gdf, \n",
    "                         predicate='within', how='inner')\n",
    "\n",
    "# ------------------------------------------- \n",
    "time1 = time.time() - s1"
   ]
  },
  {
   "cell_type": "code",
   "execution_count": 12,
   "id": "4083cdd6",
   "metadata": {},
   "outputs": [
    {
     "name": "stdout",
     "output_type": "stream",
     "text": [
      "Total duration with 1 core Geopandas 2.5494649171829225 min\n"
     ]
    }
   ],
   "source": [
    "print(f'Total duration with 1 core Geopandas {time1/60} min')"
   ]
  },
  {
   "cell_type": "markdown",
   "id": "0aa2cdf6",
   "metadata": {},
   "source": [
    "# 2) Dask - 16 Core"
   ]
  },
  {
   "cell_type": "code",
   "execution_count": 13,
   "id": "654c3989",
   "metadata": {},
   "outputs": [],
   "source": [
    "# antennas to Dask\n",
    "all_antennas = geodask.from_geopandas(antennas_gdf, npartitions=16)"
   ]
  },
  {
   "cell_type": "code",
   "execution_count": 14,
   "id": "5dd399a5",
   "metadata": {},
   "outputs": [
    {
     "data": {
      "text/html": [
       "<div>\n",
       "<style scoped>\n",
       "    .dataframe tbody tr th:only-of-type {\n",
       "        vertical-align: middle;\n",
       "    }\n",
       "\n",
       "    .dataframe tbody tr th {\n",
       "        vertical-align: top;\n",
       "    }\n",
       "\n",
       "    .dataframe thead th {\n",
       "        text-align: right;\n",
       "    }\n",
       "</style>\n",
       "<table border=\"1\" class=\"dataframe\">\n",
       "  <thead>\n",
       "    <tr style=\"text-align: right;\">\n",
       "      <th></th>\n",
       "      <th>lon</th>\n",
       "      <th>lat</th>\n",
       "      <th>created</th>\n",
       "      <th>geometry</th>\n",
       "    </tr>\n",
       "  </thead>\n",
       "  <tbody>\n",
       "    <tr>\n",
       "      <th>0</th>\n",
       "      <td>13.285512</td>\n",
       "      <td>52.522202</td>\n",
       "      <td>1282569574</td>\n",
       "      <td>POINT (13.28551 52.52220)</td>\n",
       "    </tr>\n",
       "    <tr>\n",
       "      <th>1</th>\n",
       "      <td>13.276907</td>\n",
       "      <td>52.525714</td>\n",
       "      <td>1282569574</td>\n",
       "      <td>POINT (13.27691 52.52571)</td>\n",
       "    </tr>\n",
       "  </tbody>\n",
       "</table>\n",
       "</div>"
      ],
      "text/plain": [
       "         lon        lat     created                   geometry\n",
       "0  13.285512  52.522202  1282569574  POINT (13.28551 52.52220)\n",
       "1  13.276907  52.525714  1282569574  POINT (13.27691 52.52571)"
      ]
     },
     "execution_count": 14,
     "metadata": {},
     "output_type": "execute_result"
    }
   ],
   "source": [
    "all_antennas.head(2)"
   ]
  },
  {
   "cell_type": "markdown",
   "id": "43d3be90",
   "metadata": {},
   "source": [
    "### Spatial join"
   ]
  },
  {
   "cell_type": "code",
   "execution_count": 15,
   "id": "59edf2eb",
   "metadata": {},
   "outputs": [
    {
     "name": "stdout",
     "output_type": "stream",
     "text": [
      "CPU times: user 1min 56s, sys: 9 s, total: 2min 5s\n",
      "Wall time: 51.5 s\n"
     ]
    }
   ],
   "source": [
    "%%time\n",
    "\n",
    "s2 = time.time()\n",
    "\n",
    "# ----- S Join\n",
    "antennas_dask = geodask.sjoin(all_antennas, countries_gdf, \n",
    "                         predicate='within', how='inner').compute()\n",
    "\n",
    "# ------------------------------------------- \n",
    "time2 = time.time() - s2"
   ]
  },
  {
   "cell_type": "code",
   "execution_count": 26,
   "id": "1cb18631",
   "metadata": {},
   "outputs": [
    {
     "name": "stdout",
     "output_type": "stream",
     "text": [
      "Total duration with GeoDask 51.538538694381714 sec\n"
     ]
    }
   ],
   "source": [
    "print(f'Total duration with GeoDask {time2} sec')"
   ]
  },
  {
   "cell_type": "code",
   "execution_count": 17,
   "id": "adc8bcc5",
   "metadata": {},
   "outputs": [
    {
     "name": "stdout",
     "output_type": "stream",
     "text": [
      "CPU times: user 1min 50s, sys: 690 ms, total: 1min 50s\n",
      "Wall time: 1min 50s\n"
     ]
    },
    {
     "data": {
      "image/png": "[encoded data removed]",
      "text/plain": [
       "<Figure size 640x480 with 1 Axes>"
      ]
     },
     "metadata": {},
     "output_type": "display_data"
    }
   ],
   "source": [
    "%%time\n",
    "\n",
    "fig, ax = plt.subplots()\n",
    "\n",
    "antennas_dask[antennas_dask['name'].isin(['Finland', 'Estonia', 'Sweden', 'Denmark'])].plot(ax=ax, \n",
    "                                                                     column='name', \n",
    "                                                                     categorical=True, \n",
    "                                                                     legend=True,\n",
    "                                                                     markersize=0.2,\n",
    "                                                                     alpha=0.5);\n",
    "\n",
    "ax.axis(False);"
   ]
  },
  {
   "cell_type": "code",
   "execution_count": 18,
   "id": "b4639050",
   "metadata": {},
   "outputs": [
    {
     "data": {
      "text/html": [
       "<div>\n",
       "<style scoped>\n",
       "    .dataframe tbody tr th:only-of-type {\n",
       "        vertical-align: middle;\n",
       "    }\n",
       "\n",
       "    .dataframe tbody tr th {\n",
       "        vertical-align: top;\n",
       "    }\n",
       "\n",
       "    .dataframe thead th {\n",
       "        text-align: right;\n",
       "    }\n",
       "</style>\n",
       "<table border=\"1\" class=\"dataframe\">\n",
       "  <thead>\n",
       "    <tr style=\"text-align: right;\">\n",
       "      <th></th>\n",
       "      <th>lon</th>\n",
       "      <th>lat</th>\n",
       "      <th>created</th>\n",
       "      <th>geometry</th>\n",
       "      <th>index_right</th>\n",
       "      <th>iso3</th>\n",
       "      <th>name</th>\n",
       "      <th>continent</th>\n",
       "    </tr>\n",
       "  </thead>\n",
       "  <tbody>\n",
       "    <tr>\n",
       "      <th>0</th>\n",
       "      <td>13.285512</td>\n",
       "      <td>52.522202</td>\n",
       "      <td>1282569574</td>\n",
       "      <td>POINT (13.28551 52.52220)</td>\n",
       "      <td>188</td>\n",
       "      <td>DEU</td>\n",
       "      <td>Germany</td>\n",
       "      <td>Europe</td>\n",
       "    </tr>\n",
       "    <tr>\n",
       "      <th>1</th>\n",
       "      <td>13.276907</td>\n",
       "      <td>52.525714</td>\n",
       "      <td>1282569574</td>\n",
       "      <td>POINT (13.27691 52.52571)</td>\n",
       "      <td>188</td>\n",
       "      <td>DEU</td>\n",
       "      <td>Germany</td>\n",
       "      <td>Europe</td>\n",
       "    </tr>\n",
       "    <tr>\n",
       "      <th>2</th>\n",
       "      <td>13.285064</td>\n",
       "      <td>52.524000</td>\n",
       "      <td>1282569574</td>\n",
       "      <td>POINT (13.28506 52.52400)</td>\n",
       "      <td>188</td>\n",
       "      <td>DEU</td>\n",
       "      <td>Germany</td>\n",
       "      <td>Europe</td>\n",
       "    </tr>\n",
       "    <tr>\n",
       "      <th>3</th>\n",
       "      <td>13.285446</td>\n",
       "      <td>52.521744</td>\n",
       "      <td>1282569574</td>\n",
       "      <td>POINT (13.28545 52.52174)</td>\n",
       "      <td>188</td>\n",
       "      <td>DEU</td>\n",
       "      <td>Germany</td>\n",
       "      <td>Europe</td>\n",
       "    </tr>\n",
       "    <tr>\n",
       "      <th>4</th>\n",
       "      <td>13.293457</td>\n",
       "      <td>52.521515</td>\n",
       "      <td>1282569574</td>\n",
       "      <td>POINT (13.29346 52.52152)</td>\n",
       "      <td>188</td>\n",
       "      <td>DEU</td>\n",
       "      <td>Germany</td>\n",
       "      <td>Europe</td>\n",
       "    </tr>\n",
       "  </tbody>\n",
       "</table>\n",
       "</div>"
      ],
      "text/plain": [
       "         lon        lat     created                   geometry  index_right  \\\n",
       "0  13.285512  52.522202  1282569574  POINT (13.28551 52.52220)          188   \n",
       "1  13.276907  52.525714  1282569574  POINT (13.27691 52.52571)          188   \n",
       "2  13.285064  52.524000  1282569574  POINT (13.28506 52.52400)          188   \n",
       "3  13.285446  52.521744  1282569574  POINT (13.28545 52.52174)          188   \n",
       "4  13.293457  52.521515  1282569574  POINT (13.29346 52.52152)          188   \n",
       "\n",
       "  iso3     name continent  \n",
       "0  DEU  Germany    Europe  \n",
       "1  DEU  Germany    Europe  \n",
       "2  DEU  Germany    Europe  \n",
       "3  DEU  Germany    Europe  \n",
       "4  DEU  Germany    Europe  "
      ]
     },
     "execution_count": 18,
     "metadata": {},
     "output_type": "execute_result"
    }
   ],
   "source": [
    "antennas_dask.head()"
   ]
  }
 ],
 "metadata": {
  "kernelspec": {
   "display_name": "Python 3 (ipykernel)",
   "language": "python",
   "name": "python3"
  },
  "language_info": {
   "codemirror_mode": {
    "name": "ipython",
    "version": 3
   },
   "file_extension": ".py",
   "mimetype": "text/x-python",
   "name": "python",
   "nbconvert_exporter": "python",
   "pygments_lexer": "ipython3",
   "version": "3.10.12"
  }
 },
 "nbformat": 4,
 "nbformat_minor": 5
}
